{
 "cells": [
  {
   "cell_type": "markdown",
   "metadata": {},
   "source": [
    "![밑시딥 교재](http://www.hanbit.co.kr/data/books/B8475831198_l.jpg)\n",
    "\n",
    "> 작성자 : [Minsuk Sung](https://github.com/mssung94)  \n",
    "> 연락처 : mssung94@gmail.com  \n",
    "> GitHub : https://github.com/mssung94\n",
    "\n",
    "> 본 내용은 **대학생 빅데이터 동아리 `BOAZ`의 딥러닝 스터디 자료**입니다. **상업적인 목적으로 사용하는 것은 절대로 금합니다.**\n",
    "\n",
    "> 모든 내용은 `밑바닥부터 시작하는 딥러닝(Deep Learning from Scratch),한빛미디어`을 참고하여 만들어졌으며, 책의 내용에 대한 모든 저작권은 `한빛미디어`에게 있음을 미리 밝힙니다. 또한 여기에 사용된 코드의 대부분은 한빛미디어에서 제공해준 GitHub을 바탕으로 재구성하였습니다.\n",
    "\n",
    "한빛미디어 홈페이지 : http://www.hanbit.co.kr/store/books/look.php?p_code=B8475831198  \n",
    "밑바닥부터 시작하는 딥러닝 GitHub : https://github.com/WegraLee/deep-learning-from-scratch  "
   ]
  },
  {
   "cell_type": "markdown",
   "metadata": {
    "toc": true
   },
   "source": [
    "<h1>5장 오차역전파법<span class=\"tocSkip\"></span></h1>\n",
    "<div class=\"toc\"><ul class=\"toc-item\"><li><span><a href=\"#계산-그래프-(p148)\" data-toc-modified-id=\"계산-그래프-(p148)-1\"><span class=\"toc-item-num\">1&nbsp;&nbsp;</span>계산 그래프 (p148)</a></span><ul class=\"toc-item\"><li><span><a href=\"#계산-그래프로-풀다\" data-toc-modified-id=\"계산-그래프로-풀다-1.1\"><span class=\"toc-item-num\">1.1&nbsp;&nbsp;</span>계산 그래프로 풀다</a></span><ul class=\"toc-item\"><li><span><a href=\"#문제1\" data-toc-modified-id=\"문제1-1.1.1\"><span class=\"toc-item-num\">1.1.1&nbsp;&nbsp;</span>문제1</a></span></li><li><span><a href=\"#해답1\" data-toc-modified-id=\"해답1-1.1.2\"><span class=\"toc-item-num\">1.1.2&nbsp;&nbsp;</span>해답1</a></span></li><li><span><a href=\"#문제2\" data-toc-modified-id=\"문제2-1.1.3\"><span class=\"toc-item-num\">1.1.3&nbsp;&nbsp;</span>문제2</a></span></li><li><span><a href=\"#해답2\" data-toc-modified-id=\"해답2-1.1.4\"><span class=\"toc-item-num\">1.1.4&nbsp;&nbsp;</span>해답2</a></span></li></ul></li><li><span><a href=\"#국소적-계산\" data-toc-modified-id=\"국소적-계산-1.2\"><span class=\"toc-item-num\">1.2&nbsp;&nbsp;</span>국소적 계산</a></span></li><li><span><a href=\"#왜-계산-그래프로-푸는가?\" data-toc-modified-id=\"왜-계산-그래프로-푸는가?-1.3\"><span class=\"toc-item-num\">1.3&nbsp;&nbsp;</span>왜 계산 그래프로 푸는가?</a></span></li></ul></li><li><span><a href=\"#연쇄법칙-(p152)\" data-toc-modified-id=\"연쇄법칙-(p152)-2\"><span class=\"toc-item-num\">2&nbsp;&nbsp;</span>연쇄법칙 (p152)</a></span><ul class=\"toc-item\"><li><span><a href=\"#계산-그래프의-역전파\" data-toc-modified-id=\"계산-그래프의-역전파-2.1\"><span class=\"toc-item-num\">2.1&nbsp;&nbsp;</span>계산 그래프의 역전파</a></span></li><li><span><a href=\"#연쇄법칙이란?\" data-toc-modified-id=\"연쇄법칙이란?-2.2\"><span class=\"toc-item-num\">2.2&nbsp;&nbsp;</span>연쇄법칙이란?</a></span></li><li><span><a href=\"#연쇄법칙과-계산-그래프\" data-toc-modified-id=\"연쇄법칙과-계산-그래프-2.3\"><span class=\"toc-item-num\">2.3&nbsp;&nbsp;</span>연쇄법칙과 계산 그래프</a></span></li></ul></li><li><span><a href=\"#역전파-(p155)\" data-toc-modified-id=\"역전파-(p155)-3\"><span class=\"toc-item-num\">3&nbsp;&nbsp;</span>역전파 (p155)</a></span><ul class=\"toc-item\"><li><span><a href=\"#덧셈-노드의-역전파\" data-toc-modified-id=\"덧셈-노드의-역전파-3.1\"><span class=\"toc-item-num\">3.1&nbsp;&nbsp;</span>덧셈 노드의 역전파</a></span></li><li><span><a href=\"#곱셈-노드의-역전파\" data-toc-modified-id=\"곱셈-노드의-역전파-3.2\"><span class=\"toc-item-num\">3.2&nbsp;&nbsp;</span>곱셈 노드의 역전파</a></span></li><li><span><a href=\"#사과-쇼핑의-예\" data-toc-modified-id=\"사과-쇼핑의-예-3.3\"><span class=\"toc-item-num\">3.3&nbsp;&nbsp;</span>사과 쇼핑의 예</a></span><ul class=\"toc-item\"><li><span><a href=\"#문제\" data-toc-modified-id=\"문제-3.3.1\"><span class=\"toc-item-num\">3.3.1&nbsp;&nbsp;</span>문제</a></span></li><li><span><a href=\"#정답\" data-toc-modified-id=\"정답-3.3.2\"><span class=\"toc-item-num\">3.3.2&nbsp;&nbsp;</span>정답</a></span></li></ul></li></ul></li><li><span><a href=\"#단순한-계층-구현하기-(p160)\" data-toc-modified-id=\"단순한-계층-구현하기-(p160)-4\"><span class=\"toc-item-num\">4&nbsp;&nbsp;</span>단순한 계층 구현하기 (p160)</a></span><ul class=\"toc-item\"><li><span><a href=\"#곱셈-계층\" data-toc-modified-id=\"곱셈-계층-4.1\"><span class=\"toc-item-num\">4.1&nbsp;&nbsp;</span>곱셈 계층</a></span></li><li><span><a href=\"#덧셈-계층\" data-toc-modified-id=\"덧셈-계층-4.2\"><span class=\"toc-item-num\">4.2&nbsp;&nbsp;</span>덧셈 계층</a></span></li></ul></li><li><span><a href=\"#활성화-함수-계층-구현하기-(p165)\" data-toc-modified-id=\"활성화-함수-계층-구현하기-(p165)-5\"><span class=\"toc-item-num\">5&nbsp;&nbsp;</span>활성화 함수 계층 구현하기 (p165)</a></span><ul class=\"toc-item\"><li><span><a href=\"#ReLU-계층\" data-toc-modified-id=\"ReLU-계층-5.1\"><span class=\"toc-item-num\">5.1&nbsp;&nbsp;</span>ReLU 계층</a></span></li><li><span><a href=\"#Sigmoid-계층\" data-toc-modified-id=\"Sigmoid-계층-5.2\"><span class=\"toc-item-num\">5.2&nbsp;&nbsp;</span>Sigmoid 계층</a></span><ul class=\"toc-item\"><li><span><a href=\"#계산-그래프-정리-전\" data-toc-modified-id=\"계산-그래프-정리-전-5.2.1\"><span class=\"toc-item-num\">5.2.1&nbsp;&nbsp;</span>계산 그래프 정리 전</a></span></li><li><span><a href=\"#수식-정리\" data-toc-modified-id=\"수식-정리-5.2.2\"><span class=\"toc-item-num\">5.2.2&nbsp;&nbsp;</span>수식 정리</a></span></li><li><span><a href=\"#계산-그래프-정리-후\" data-toc-modified-id=\"계산-그래프-정리-후-5.2.3\"><span class=\"toc-item-num\">5.2.3&nbsp;&nbsp;</span>계산 그래프 정리 후</a></span></li></ul></li></ul></li><li><span><a href=\"#Affine/Softmax-계층-구현하기-(p170)\" data-toc-modified-id=\"Affine/Softmax-계층-구현하기-(p170)-6\"><span class=\"toc-item-num\">6&nbsp;&nbsp;</span>Affine/Softmax 계층 구현하기 (p170)</a></span><ul class=\"toc-item\"><li><span><a href=\"#Affine-계층\" data-toc-modified-id=\"Affine-계층-6.1\"><span class=\"toc-item-num\">6.1&nbsp;&nbsp;</span>Affine 계층</a></span><ul class=\"toc-item\"><li><span><a href=\"#Affine-계층의-순전파\" data-toc-modified-id=\"Affine-계층의-순전파-6.1.1\"><span class=\"toc-item-num\">6.1.1&nbsp;&nbsp;</span>Affine 계층의 순전파</a></span></li><li><span><a href=\"#Affine-계층의-역전파\" data-toc-modified-id=\"Affine-계층의-역전파-6.1.2\"><span class=\"toc-item-num\">6.1.2&nbsp;&nbsp;</span>Affine 계층의 역전파</a></span></li></ul></li><li><span><a href=\"#배치용-Affine-계층\" data-toc-modified-id=\"배치용-Affine-계층-6.2\"><span class=\"toc-item-num\">6.2&nbsp;&nbsp;</span>배치용 Affine 계층</a></span></li><li><span><a href=\"#Softmax-with-Loss-계층\" data-toc-modified-id=\"Softmax-with-Loss-계층-6.3\"><span class=\"toc-item-num\">6.3&nbsp;&nbsp;</span>Softmax-with-Loss 계층</a></span><ul class=\"toc-item\"><li><span><a href=\"#Softmax-with-Loss-계층-정리-전\" data-toc-modified-id=\"Softmax-with-Loss-계층-정리-전-6.3.1\"><span class=\"toc-item-num\">6.3.1&nbsp;&nbsp;</span>Softmax-with-Loss 계층 정리 전</a></span></li><li><span><a href=\"#Softmax-with-Loss-계층-정리--후\" data-toc-modified-id=\"Softmax-with-Loss-계층-정리--후-6.3.2\"><span class=\"toc-item-num\">6.3.2&nbsp;&nbsp;</span>Softmax-with-Loss 계층 정리  후</a></span></li></ul></li></ul></li><li><span><a href=\"#오차역전파법-구현하기-(p179)\" data-toc-modified-id=\"오차역전파법-구현하기-(p179)-7\"><span class=\"toc-item-num\">7&nbsp;&nbsp;</span>오차역전파법 구현하기 (p179)</a></span><ul class=\"toc-item\"><li><span><a href=\"#신경망-학습의-전체-그림\" data-toc-modified-id=\"신경망-학습의-전체-그림-7.1\"><span class=\"toc-item-num\">7.1&nbsp;&nbsp;</span>신경망 학습의 전체 그림</a></span><ul class=\"toc-item\"><li><span><a href=\"#전제\" data-toc-modified-id=\"전제-7.1.1\"><span class=\"toc-item-num\">7.1.1&nbsp;&nbsp;</span>전제</a></span></li><li><span><a href=\"#1단계---미니배치\" data-toc-modified-id=\"1단계---미니배치-7.1.2\"><span class=\"toc-item-num\">7.1.2&nbsp;&nbsp;</span>1단계 - 미니배치</a></span></li><li><span><a href=\"#2단계---기울기-산출\" data-toc-modified-id=\"2단계---기울기-산출-7.1.3\"><span class=\"toc-item-num\">7.1.3&nbsp;&nbsp;</span>2단계 - 기울기 산출</a></span></li><li><span><a href=\"#3단계---매개변수-업데이트\" data-toc-modified-id=\"3단계---매개변수-업데이트-7.1.4\"><span class=\"toc-item-num\">7.1.4&nbsp;&nbsp;</span>3단계 - 매개변수 업데이트</a></span></li><li><span><a href=\"#4단계---반복\" data-toc-modified-id=\"4단계---반복-7.1.5\"><span class=\"toc-item-num\">7.1.5&nbsp;&nbsp;</span>4단계 - 반복</a></span></li></ul></li><li><span><a href=\"#오차역전파법을-적용한-신경망-구현하기\" data-toc-modified-id=\"오차역전파법을-적용한-신경망-구현하기-7.2\"><span class=\"toc-item-num\">7.2&nbsp;&nbsp;</span>오차역전파법을 적용한 신경망 구현하기</a></span></li><li><span><a href=\"#오차역전파법으로-구한-기울기-검증하기\" data-toc-modified-id=\"오차역전파법으로-구한-기울기-검증하기-7.3\"><span class=\"toc-item-num\">7.3&nbsp;&nbsp;</span>오차역전파법으로 구한 기울기 검증하기</a></span></li><li><span><a href=\"#오차역전파법을-사용한-학습-구현하기\" data-toc-modified-id=\"오차역전파법을-사용한-학습-구현하기-7.4\"><span class=\"toc-item-num\">7.4&nbsp;&nbsp;</span>오차역전파법을 사용한 학습 구현하기</a></span></li><li><span><a href=\"#여러가지-테스트를-해볼까?\" data-toc-modified-id=\"여러가지-테스트를-해볼까?-7.5\"><span class=\"toc-item-num\">7.5&nbsp;&nbsp;</span>여러가지 테스트를 해볼까?</a></span><ul class=\"toc-item\"><li><span><a href=\"#은닉층의-노드수를-늘려보자\" data-toc-modified-id=\"은닉층의-노드수를-늘려보자-7.5.1\"><span class=\"toc-item-num\">7.5.1&nbsp;&nbsp;</span>은닉층의 노드수를 늘려보자</a></span></li><li><span><a href=\"#은닉층의-수를-줄여보자\" data-toc-modified-id=\"은닉층의-수를-줄여보자-7.5.2\"><span class=\"toc-item-num\">7.5.2&nbsp;&nbsp;</span>은닉층의 수를 줄여보자</a></span></li><li><span><a href=\"#배치-사이즈를-늘려보자\" data-toc-modified-id=\"배치-사이즈를-늘려보자-7.5.3\"><span class=\"toc-item-num\">7.5.3&nbsp;&nbsp;</span>배치 사이즈를 늘려보자</a></span></li><li><span><a href=\"#배치-사이즈를-줄여보자\" data-toc-modified-id=\"배치-사이즈를-줄여보자-7.5.4\"><span class=\"toc-item-num\">7.5.4&nbsp;&nbsp;</span>배치 사이즈를 줄여보자</a></span></li><li><span><a href=\"#학습률을-올려보자\" data-toc-modified-id=\"학습률을-올려보자-7.5.5\"><span class=\"toc-item-num\">7.5.5&nbsp;&nbsp;</span>학습률을 올려보자</a></span></li><li><span><a href=\"#학습률을-낮춰보자\" data-toc-modified-id=\"학습률을-낮춰보자-7.5.6\"><span class=\"toc-item-num\">7.5.6&nbsp;&nbsp;</span>학습률을 낮춰보자</a></span></li></ul></li></ul></li><li><span><a href=\"#5장-정리-(p187)\" data-toc-modified-id=\"5장-정리-(p187)-8\"><span class=\"toc-item-num\">8&nbsp;&nbsp;</span>5장 정리 (p187)</a></span></li><li><span><a href=\"#참고\" data-toc-modified-id=\"참고-9\"><span class=\"toc-item-num\">9&nbsp;&nbsp;</span>참고</a></span></li></ul></div>"
   ]
  },
  {
   "cell_type": "markdown",
   "metadata": {},
   "source": [
    "> 내용 출처 : [WegraLee GitHub](https://github.com/WegraLee/deep-learning-from-scratch/blob/master/ch05/README.md)\n",
    "\n",
    "- 앞 장에서는 신경망 학습에 대해서 설명했습니다.\n",
    "- 그때 신경망의 가중치 매개변수의 기울기(정확히는 가중치 매개변수에 대한 손실 함수의 기울기)는 수치 미분을 사용해 구했습니다.\n",
    "- **`수치 미분`**은 단순하고 구현하기도 쉽지만 계산 시간이 오래 걸린다는 게 단점입니다.\n",
    "\n",
    "- 이번 장에서는 가중치 매개변수의 기울기를 효율적으로 계산하는 **`오차역전파법backpropagation`**을 배워보겠습니다.\n",
    "- 오차역전파법을 제대로 이해하는 방법은 두 가지가 있을 것입니다.\n",
    "    - 하나는 수식을 통한 것이고, 다른 하나는 계산 그래프를 통한 것입니다.\n",
    "    - 전자 쪽이 일반적인 방법으로, 특히 기계학습을 다루는 책 대부분은 수식을 중심으로 이야기를 전개합니다.\n",
    "- 확실히 수식을 사용한 설명은 정확하고 간결하므로 올바른 방법이라 할 수 있겠죠.\n",
    "- 하지만 졸업 후 너무 오랜만에 수식을 중심으로 생각하다 보면 본질을 놓치거나, 수많은 수식에 당황하는 일이 벌어지기도 합니다.\n",
    "- 그래서 이번 장에서는 계산 그래프를 사용해서 ‘시각적’으로 이해시켜드리겠습니다.\n",
    "- 그런 다음 실제로 코드를 작성해보면 ‘과연!’이란 탄성과 함께 더 깊이 이해하게 될 것입니다.\n",
    "\n",
    "*옮긴이_ 오차역전파법을 풀어쓰면 ‘오차를 역(반대 방향)으로 전파하는 방법(backward propagation of errors )’입니다. 너무 길고 쓸데없이 어려운 느낌이라 줄여서 ‘역전파법’ 혹은 그냥 ‘역전파’라고 쓰기도 합니다.*"
   ]
  },
  {
   "cell_type": "code",
   "execution_count": 40,
   "metadata": {
    "ExecuteTime": {
     "end_time": "2019-08-03T16:49:18.977949Z",
     "start_time": "2019-08-03T16:49:18.959917Z"
    }
   },
   "outputs": [],
   "source": [
    "# coding: utf-8\n",
    "import os\n",
    "import sys\n",
    "import numpy as np\n",
    "import pandas as pd\n",
    "import matplotlib as mpl\n",
    "import matplotlib.pyplot as plt\n",
    "\n",
    "mpl.rcParams['font.family'] = 'AppleGothic' # mac에서는 한글이 나오게 하기 위해서\n",
    "mpl.rcParams['axes.unicode_minus'] = False"
   ]
  },
  {
   "cell_type": "markdown",
   "metadata": {},
   "source": [
    "---\n",
    "\n",
    "## 계산 그래프 (p148)"
   ]
  },
  {
   "cell_type": "markdown",
   "metadata": {},
   "source": [
    "> **`계산 그래프(computational graph)`** : 계산 과정을 그래프로 나타낸 것"
   ]
  },
  {
   "cell_type": "markdown",
   "metadata": {},
   "source": [
    "### 계산 그래프로 풀다\n",
    "- 계산 그래프를 이용한 문제풀이는 항상 다음과 같은 흐름으로 진행\n",
    "    1. 계산 그래프를 구성한다.\n",
    "    2. 그래프에서 계산을 왼쪽에서 오른쪽으로 진행한다.\n",
    "- 순전파(forward propagation) : 왼쪽에서 오른쪽으로\n",
    "- 역전파(backward propagation) : 오른쪽에서 왼쪽으로"
   ]
  },
  {
   "cell_type": "markdown",
   "metadata": {},
   "source": [
    "#### 문제1\n",
    "> Q1. 현빈 군은 슈퍼에서 1개에 100원인 사과를 2개 샀습니다. 이때 지불 금액을 구하세요. 단, 소비세가 10% 부과됩니다.\n",
    "\n",
    "#### 해답1\n",
    "![](https://t1.daumcdn.net/cfile/tistory/99E90F395AA4FD0D12)"
   ]
  },
  {
   "cell_type": "markdown",
   "metadata": {},
   "source": [
    "#### 문제2\n",
    "> Q2. 현빈 군은 슈퍼에서 사과를 2개, 귤을 3개 샀습니다. 사과는 1개에 100원, 귤은 1개 150원입니다. 소비세가 10%일 때, 지불 금액을 구하세요.\n",
    "\n",
    "#### 해답2\n",
    "![](https://t1.daumcdn.net/cfile/tistory/997ED34B5B98F5F235)"
   ]
  },
  {
   "cell_type": "markdown",
   "metadata": {},
   "source": [
    "### 국소적 계산"
   ]
  },
  {
   "cell_type": "markdown",
   "metadata": {},
   "source": [
    "- 계산 그래프의 특징은 `국소적 계산`을 전파함으로써 최종 결과를 얻는다는 점\n",
    "- `국소적`이란 뜻은 자신과 `직접적으로` 관계된 작은 범위\n",
    "- 각 노드는 자신과 관련된 계산 외에는 전혀 신경 쓸 게 없다\n",
    "- 계산 그래프는 국소적 계산에 집중하면 된다. 그러므로 **전체 계산이 아무리 복잡하더라도 각 단계에서 하는 일은 해당 노드의 국소적 계산뿐**임"
   ]
  },
  {
   "cell_type": "markdown",
   "metadata": {},
   "source": [
    "### 왜 계산 그래프로 푸는가?"
   ]
  },
  {
   "cell_type": "markdown",
   "metadata": {},
   "source": [
    "![](https://t1.daumcdn.net/cfile/tistory/991F25415AA504B626)\n",
    "\n",
    "> 오른쪽에서 왼족으로 : `1 → 1.1 → 2.2`   \n",
    "> 사과 가격에 대한 지불 금액의 미분값 : `2.2`  \n",
    "> 즉, 사과 가격이 변할때 최종 금액이 얼마나 변하는지 : 사과 1원 오를 때, 최종 금액은 2.2원  \n",
    "\n",
    "> $$ \\frac{\\partial \\mbox{ Total Price}}{\\partial\\mbox{ Apple Price}} = 2.2 $$"
   ]
  },
  {
   "cell_type": "markdown",
   "metadata": {},
   "source": [
    "- **계산 그래프의 이점**은 무엇인가?\n",
    "   - 국소적 계산\n",
    "   - 중간 결과 보관\n",
    "    \n",
    "    \n",
    "- 계산 그래프를 사용하는 이유\n",
    "   - 작은 문제에 집중하여 복잡한 문제를 단순화\n",
    "   - **역전파를 통해서 `미분`을 효율적으로 계산**\n",
    "\n",
    "\n",
    "- 결국 이것들을 종합하면, 각 노드별로 중간까지 구한 **미분 결과를 공유**할 수 있으며, 다수의 미분을 효율적으로 계산가능\n",
    "- 계산 그래프의 이점은 **순전파와 역전파를 활용해서 각 변수의 미분을 효율적으로 구할 수 있다**는 것"
   ]
  },
  {
   "cell_type": "markdown",
   "metadata": {},
   "source": [
    "---\n",
    "\n",
    "## 연쇄법칙 (p152)\n",
    "- 순전파는 왼쪽에서 오른쪽으로 전달\n",
    "- 역전파는 오른쪽에서 왼쪽으로 전달\n",
    "- 사실 `국소적 미분`을 전달하는 원리는 **`연쇄법칙(chain rule)`**을 기반으로 함!\n",
    "\n",
    "> **`역전파` == `연쇄법칙`**"
   ]
  },
  {
   "cell_type": "markdown",
   "metadata": {},
   "source": [
    "### 계산 그래프의 역전파\n",
    "\n",
    "> 역전파의 계산 절차 : `신호 E`에 노드의 `국소적 미분`($\\frac{\\partial y}{\\partial x}$)을 `곱한 후 다음 노드로 전달`하는 것 \n",
    "\n",
    "![](https://t1.daumcdn.net/cfile/tistory/999FD3425B98F63F1A)"
   ]
  },
  {
   "cell_type": "markdown",
   "metadata": {},
   "source": [
    "### 연쇄법칙이란?\n",
    "> *`합성 함수의 미분`은 **`합성 함수를 구성하는 각 함수의 미분의 곱`**으로 나타낼 수 있다.* ( 이하 자세한 내용은 생략 )\n",
    "\n",
    "$$ \\frac{\\mathrm{d} f(g(x))}{\\mathrm{d} x} = \\frac{\\mathrm{d} f(g(x))}{\\mathrm{d} g(x)} \\cdot  \\frac{\\mathrm{d} g(x)}{\\mathrm{d} x}$$"
   ]
  },
  {
   "cell_type": "markdown",
   "metadata": {},
   "source": [
    "### 연쇄법칙과 계산 그래프\n",
    "\n",
    "> **`역전파가 하는 일`**은 **`연쇄 법칙의 원리`**와 같다!!  \n",
    "\n",
    "\n",
    "- t는 z에 얼마나 영향을 주는지 : $\\frac{\\partial z}{\\partial z} \\cdot \\frac{\\partial z}{\\partial t}$  \n",
    "\n",
    "\n",
    "- x는 z에 얼마나 영향을 주는지 : $\\frac{\\partial z}{\\partial z} \\cdot \\frac{\\partial z}{\\partial t} \\cdot \\frac{\\partial t}{\\partial x}$  \n",
    "\n",
    "![](https://image.slidesharecdn.com/ch05-170403044028/95/ch05-13-638.jpg?cb=1491194513)"
   ]
  },
  {
   "cell_type": "markdown",
   "metadata": {},
   "source": [
    "---\n",
    "\n",
    "## 역전파 (p155)"
   ]
  },
  {
   "cell_type": "markdown",
   "metadata": {},
   "source": [
    "### 덧셈 노드의 역전파\n",
    "\n",
    "> **입력된 값을 그대로 다음 노드로**\n",
    "\n",
    "![](https://t1.daumcdn.net/cfile/tistory/99771C465AA4FFEA13)"
   ]
  },
  {
   "cell_type": "markdown",
   "metadata": {},
   "source": [
    "### 곱셈 노드의 역전파\n",
    "\n",
    "> **상류의 값에 순전파 때의 입력 신호들을 `서로 바꾼 값`을 곱해서 하류로**\n",
    "\n",
    "![](https://t1.daumcdn.net/cfile/tistory/99A6DB435AA502DF0A)"
   ]
  },
  {
   "cell_type": "markdown",
   "metadata": {},
   "source": [
    "### 사과 쇼핑의 예\n",
    "\n",
    "> 앞서 설명한 사과 쇼핑의 예시를 통해서 역전파를 연습해보자\n",
    "\n",
    "#### 문제\n",
    "![](https://t1.daumcdn.net/cfile/tistory/9960E8375AA5060D01)\n",
    "\n",
    "#### 정답\n",
    "![](https://t1.daumcdn.net/cfile/tistory/9964A5465AA506AA22)"
   ]
  },
  {
   "cell_type": "markdown",
   "metadata": {},
   "source": [
    "  \n",
    "<center> <font size=\"5\">계산 그래프에서 집중해야할건 각 요소가<br> 결국 <font color=\"red\"><b>최종 결과에 어떤 영향을 주는지</b></font>를 확인하는 것이다 </font></center>\n",
    "  "
   ]
  },
  {
   "cell_type": "markdown",
   "metadata": {},
   "source": [
    "---\n",
    "\n",
    "## 단순한 계층 구현하기 (p160)\n",
    "\n",
    "- 위에서 설명한 사과 쇼핑을 예시로 구현할 것\n",
    "- 기본적으로 모든 계층은 **순전파**를 해주는 함수인 **`forward()`**와 **역전파**를 해주는 함수인 **`backward()`**라는 공통의 메서드(인터페이스)를 갖도록 구현할 것"
   ]
  },
  {
   "cell_type": "markdown",
   "metadata": {},
   "source": [
    "### 곱셈 계층"
   ]
  },
  {
   "cell_type": "code",
   "execution_count": 1,
   "metadata": {
    "ExecuteTime": {
     "end_time": "2019-08-03T02:39:41.846657Z",
     "start_time": "2019-08-03T02:39:41.832179Z"
    }
   },
   "outputs": [],
   "source": [
    "class MulLayer:\n",
    "    \n",
    "    ##########\n",
    "    # 초기화 함수\n",
    "    ##########\n",
    "    # 순전파 시의 입력 값을 유지하기 위해서 사용, 그래야 역전파때도 저장한걸 이용하고\n",
    "    def __init__(self):\n",
    "        self.x = None\n",
    "        self.y = None\n",
    "\n",
    "    ##########\n",
    "    # 순전파 함수 : x와 y를 인수로 받고 두 값을 곱해서 반환\n",
    "    ##########\n",
    "    def forward(self, x, y):\n",
    "        self.x = x\n",
    "        self.y = y\n",
    "        out = x * y # 곱셈을 해서 순전파\n",
    "\n",
    "        return out\n",
    "\n",
    "    ##########\n",
    "    # 역전파 함수 : 상류에서 넘어온 미분(dout)에 순전파 때의 값을 '서로 바꿔' 곱한 후 하류로 흘림\n",
    "    ##########\n",
    "    def backward(self, dout):\n",
    "        dx = dout * self.y  # x와 y를 바꾼다.\n",
    "        dy = dout * self.x  # x와 y를 바꾼다.\n",
    "\n",
    "        return dx, dy"
   ]
  },
  {
   "cell_type": "markdown",
   "metadata": {},
   "source": [
    "![](https://t1.daumcdn.net/cfile/tistory/991F25415AA504B626)"
   ]
  },
  {
   "cell_type": "code",
   "execution_count": 55,
   "metadata": {
    "ExecuteTime": {
     "end_time": "2019-08-04T05:40:03.829098Z",
     "start_time": "2019-08-04T05:40:03.822204Z"
    }
   },
   "outputs": [
    {
     "name": "stdout",
     "output_type": "stream",
     "text": [
      "price           : 220\n",
      "dApple          : 2.2\n",
      "dApple_num      : 110\n",
      "dTax            : 200\n"
     ]
    }
   ],
   "source": [
    "# 입력\n",
    "apple = 100\n",
    "apple_num = 2\n",
    "tax = 1.1\n",
    "\n",
    "# 곱셈 레이어 생성\n",
    "mul_apple_layer = MulLayer()\n",
    "mul_tax_layer = MulLayer()\n",
    "\n",
    "# 순전파\n",
    "apple_price = mul_apple_layer.forward(apple, apple_num)\n",
    "price = mul_tax_layer.forward(apple_price, tax)\n",
    "\n",
    "# 역전파\n",
    "# 레이어 호출 순서가 순전파랑 반대임에 주의하자!!\n",
    "dprice = 1\n",
    "dapple_price, dtax = mul_tax_layer.backward(dprice) # 파라미터가 '순전파의 출력에 대한 미분'임을 주의하자!!\n",
    "dapple, dapple_num = mul_apple_layer.backward(dapple_price) # 파라미터가 '순전파의 출력에 대한 미분'임을 주의하자!!\n",
    "\n",
    "# 결과 출력 : 가격에 영향을 얼마큼 주는지 역전파를 통해서 확인\n",
    "print(\"{:<15} : {}\".format(\"price\", int(price)))\n",
    "print(\"{:<15} : {}\".format(\"dApple\", dapple))\n",
    "print(\"{:<15} : {}\".format(\"dApple_num\", int(dapple_num)))\n",
    "print(\"{:<15} : {}\".format(\"dTax\", dtax))"
   ]
  },
  {
   "cell_type": "markdown",
   "metadata": {},
   "source": [
    "### 덧셈 계층"
   ]
  },
  {
   "cell_type": "code",
   "execution_count": 4,
   "metadata": {
    "ExecuteTime": {
     "end_time": "2019-08-03T02:44:07.420174Z",
     "start_time": "2019-08-03T02:44:07.415565Z"
    }
   },
   "outputs": [],
   "source": [
    "class AddLayer:\n",
    "    \n",
    "    ##########\n",
    "    # 초기화 함수 : 덧셈계층에서는 초기화가 필요없음 => WHY? forward함수를 확인해보자 \n",
    "    ##########\n",
    "    def __init__(self):\n",
    "        pass\n",
    "    \n",
    "    ##########\n",
    "    # 순전파 함수 : 입력받은 두 인수 x,y를 더해서 반환\n",
    "    ##########\n",
    "    def forward(self, x, y):\n",
    "        out = x + y\n",
    "        \n",
    "        return out # 덧셈을 해서 순전파\n",
    "    \n",
    "    ##########\n",
    "    # 역전파 함수 : 상류에서 내려온 미분(dout)을 '그대로' 하류로 흘림\n",
    "    ##########\n",
    "    def backward(self, dout):\n",
    "        dx = dout * 1 # 그대로 훌려준다.\n",
    "        dy = dout * 1 # 그대로 흘려준다.\n",
    "\n",
    "        return dx, dy"
   ]
  },
  {
   "cell_type": "markdown",
   "metadata": {},
   "source": [
    "![](https://t1.daumcdn.net/cfile/tistory/9964A5465AA506AA22)"
   ]
  },
  {
   "cell_type": "code",
   "execution_count": 54,
   "metadata": {
    "ExecuteTime": {
     "end_time": "2019-08-04T05:39:48.773070Z",
     "start_time": "2019-08-04T05:39:48.758961Z"
    }
   },
   "outputs": [
    {
     "name": "stdout",
     "output_type": "stream",
     "text": [
      "price           : 715\n",
      "dApple          : 2.2\n",
      "dApple_num      : 110\n",
      "dOrange         : 3.3\n",
      "dOrange_num     : 165\n",
      "dTax            : 650\n"
     ]
    }
   ],
   "source": [
    "# 입력\n",
    "apple = 100\n",
    "apple_num = 2\n",
    "orange = 150\n",
    "orange_num = 3\n",
    "tax = 1.1\n",
    "\n",
    "# 덧셈과 곱셈 레이어 생성\n",
    "mul_apple_layer = MulLayer()\n",
    "mul_orange_layer = MulLayer()\n",
    "add_apple_orange_layer = AddLayer()\n",
    "mul_tax_layer = MulLayer()\n",
    "\n",
    "# 순전파\n",
    "apple_price = mul_apple_layer.forward(apple, apple_num)  # (1)\n",
    "orange_price = mul_orange_layer.forward(orange, orange_num)  # (2)\n",
    "all_price = add_apple_orange_layer.forward(apple_price, orange_price)  # (3)\n",
    "price = mul_tax_layer.forward(all_price, tax)  # (4)\n",
    "\n",
    "# 역전파\n",
    "# 레이어 호출 순서가 순전파랑 반대임에 주의하자!!\n",
    "# 파라미터가 '순전파의 출력에 대한 미분'임을 주의하자!!\n",
    "dprice = 1\n",
    "dall_price, dtax = mul_tax_layer.backward(dprice)  # (4) \n",
    "dapple_price, dorange_price = add_apple_orange_layer.backward(dall_price)  # (3)\n",
    "dorange, dorange_num = mul_orange_layer.backward(dorange_price)  # (2)\n",
    "dapple, dapple_num = mul_apple_layer.backward(dapple_price)  # (1)\n",
    "\n",
    "# 결과 출력 : 가격에 영향을 얼마큼 주는지 역전파를 통해서 확인\n",
    "print(\"{:<15} : {}\".format(\"price\", int(price)))\n",
    "print(\"{:<15} : {}\".format(\"dApple\", dapple))\n",
    "print(\"{:<15} : {}\".format(\"dApple_num\", int(dapple_num)))\n",
    "print(\"{:<15} : {}\".format(\"dOrange\", round(dorange,2)))\n",
    "print(\"{:<15} : {}\".format(\"dOrange_num\", int(dorange_num)))\n",
    "print(\"{:<15} : {}\".format(\"dTax\", dtax))"
   ]
  },
  {
   "cell_type": "markdown",
   "metadata": {},
   "source": [
    "---\n",
    "\n",
    "## 활성화 함수 계층 구현하기 (p165)"
   ]
  },
  {
   "cell_type": "markdown",
   "metadata": {},
   "source": [
    "### ReLU 계층\n",
    "\n",
    "$$ h(x) = \\left\\{\\begin{matrix}\n",
    "x ( x > 0 ))\n",
    "\\\\ \n",
    "0 (x \\leq 0))\n",
    "\\end{matrix}\\right. $$\n",
    "\n",
    "> 순전파 때의 입력인 x가 0보다 크면 역전파는 상류의 값을 그대로 하류로 흘려보냄  \n",
    "> 하지만, 순전파 때의 입력인 x가 **0보다 작으면 역전파 때는 하류로 신호를 보내지 않음(즉, 0을 보냄)**\n",
    "\n",
    "![](http://mblogthumb1.phinf.naver.net/MjAxNzA3MjZfMjIz/MDAxNTAxMDUxNjU4NTYx.-vuv9Yyt7NVFusV7lkeYUg1ndzQYTadYAwAuhNLNyPAg.R2uYubWcuijOa_iqgZSWR1jfuENh8O9azkICvJckptkg.PNG.cjswo9207/fig_5-18.png?type=w2)"
   ]
  },
  {
   "cell_type": "code",
   "execution_count": 20,
   "metadata": {
    "ExecuteTime": {
     "end_time": "2019-08-03T03:07:08.924395Z",
     "start_time": "2019-08-03T03:07:08.909653Z"
    }
   },
   "outputs": [
    {
     "data": {
      "text/plain": [
       "array([[ 1. , -0.5],\n",
       "       [-2. ,  3. ]])"
      ]
     },
     "execution_count": 20,
     "metadata": {},
     "output_type": "execute_result"
    }
   ],
   "source": [
    "x = np.array([[1.0, -0.5],\n",
    "              [-2.0, 3.0]])\n",
    "x"
   ]
  },
  {
   "cell_type": "code",
   "execution_count": 21,
   "metadata": {
    "ExecuteTime": {
     "end_time": "2019-08-03T03:07:23.249101Z",
     "start_time": "2019-08-03T03:07:23.244756Z"
    }
   },
   "outputs": [
    {
     "data": {
      "text/plain": [
       "array([[False,  True],\n",
       "       [ True, False]])"
      ]
     },
     "execution_count": 21,
     "metadata": {},
     "output_type": "execute_result"
    }
   ],
   "source": [
    "mask = (x<=0) # 조건을 만족시키는 애들을 True, 그렇지 않은 애들은 False로 반환해서\n",
    "mask"
   ]
  },
  {
   "cell_type": "code",
   "execution_count": 22,
   "metadata": {
    "ExecuteTime": {
     "end_time": "2019-08-03T03:08:04.961815Z",
     "start_time": "2019-08-03T03:08:04.956162Z"
    }
   },
   "outputs": [
    {
     "data": {
      "text/plain": [
       "array([-0.5, -2. ])"
      ]
     },
     "execution_count": 22,
     "metadata": {},
     "output_type": "execute_result"
    }
   ],
   "source": [
    "x[mask]"
   ]
  },
  {
   "cell_type": "code",
   "execution_count": 56,
   "metadata": {
    "ExecuteTime": {
     "end_time": "2019-08-04T05:43:03.721396Z",
     "start_time": "2019-08-04T05:43:03.717815Z"
    }
   },
   "outputs": [],
   "source": [
    "from common.functions import relu"
   ]
  },
  {
   "cell_type": "code",
   "execution_count": 18,
   "metadata": {
    "ExecuteTime": {
     "end_time": "2019-08-03T03:05:56.742950Z",
     "start_time": "2019-08-03T03:05:56.727873Z"
    }
   },
   "outputs": [],
   "source": [
    "class Relu:\n",
    "    def __init__(self):\n",
    "        self.mask = None\n",
    "\n",
    "    #######\n",
    "    # 순전파 : 입력 값이 0 이하면 역전파 때의 값은 0이 돼야 함\n",
    "    #######\n",
    "    def forward(self, x):\n",
    "        self.mask = (x <= 0)\n",
    "        out = x.copy()\n",
    "        out[self.mask] = 0 # 0이하면 다 0으로 만들어버림\n",
    "\n",
    "        return out\n",
    "    \n",
    "    #######\n",
    "    # 역전파 : 순전파 때 만들어둔 mask를 이용해서 mask의 원소가 True인 곳에는 상류에서 전파된 dout을 0으로 설정\n",
    "    #######\n",
    "    def backward(self, dout):\n",
    "        dout[self.mask] = 0\n",
    "        dx = dout\n",
    "\n",
    "        return dx"
   ]
  },
  {
   "cell_type": "markdown",
   "metadata": {},
   "source": [
    "### Sigmoid 계층\n",
    "\n",
    "$$ h(x) = \\frac{1}{1 + exp(-x)} $$\n",
    "\n",
    "점점 복잡해지더라도 최초 `x`가 입력되는 식부터 차근차근 생각해보면 됨!\n",
    "\n",
    "> `exp` 노드 : $y = e^x$를 수행  \n",
    "> `/` 노드 : $y = \\frac{1}{x}$를 수행 "
   ]
  },
  {
   "cell_type": "markdown",
   "metadata": {},
   "source": [
    "#### 계산 그래프 정리 전\n",
    "![](https://encrypted-tbn0.gstatic.com/images?q=tbn:ANd9GcTcdkJb52ltHvy6lqGVQIczw7yCrjCDB0uIO8Nosk_SSfc8IVW9)"
   ]
  },
  {
   "cell_type": "markdown",
   "metadata": {},
   "source": [
    "#### 수식 정리\n",
    "\n",
    "<center>$\\frac{\\partial L}{\\partial y} y^2 exp(-x) \\\\\\\\\n",
    "= \\frac{\\partial L}{\\partial y} \\cdot \\frac{1}{(1+exp(-x))^2} \\cdot exp(-x) \\\\\\\\\n",
    "= \\frac{\\partial L}{\\partial y} \\cdot \\frac{1}{(1+exp(-x))} \\cdot \\frac{exp(-x)}{(1+exp(-x))} \\\\\\\\\n",
    "= \\frac{\\partial L}{\\partial y} \\cdot y(1-y)$</center>"
   ]
  },
  {
   "cell_type": "markdown",
   "metadata": {},
   "source": [
    "#### 계산 그래프 정리 후"
   ]
  },
  {
   "cell_type": "markdown",
   "metadata": {},
   "source": [
    "![](http://mblogthumb2.phinf.naver.net/MjAxNzA3MjZfMjYx/MDAxNTAxMDU0ODU3MjA5.zh-JigNWlXHD5sV2t4rXwHvg0XXXLczmH7oz_fAQFcEg.zxZDopfppTyE7wrQyOzgJ63-Z6qQIQLyWQ8244oHq5gg.PNG.cjswo9207/fig_5-22.png?type=w2)"
   ]
  },
  {
   "cell_type": "code",
   "execution_count": 46,
   "metadata": {
    "ExecuteTime": {
     "end_time": "2019-08-03T16:54:16.027511Z",
     "start_time": "2019-08-03T16:54:16.024712Z"
    }
   },
   "outputs": [],
   "source": [
    "from common.functions import sigmoid"
   ]
  },
  {
   "cell_type": "code",
   "execution_count": 25,
   "metadata": {
    "ExecuteTime": {
     "end_time": "2019-08-03T15:57:40.720391Z",
     "start_time": "2019-08-03T15:57:40.704089Z"
    }
   },
   "outputs": [],
   "source": [
    "class Sigmoid:\n",
    "    def __init__(self):\n",
    "        self.out = None\n",
    "\n",
    "    #######\n",
    "    # 순전파 : sigmoid 함수를 통해서 순전파, 순전파의 출력을 self.out에 보관해둠\n",
    "    #######\n",
    "    def forward(self, x):\n",
    "        out = sigmoid(x)\n",
    "        self.out = out\n",
    "        return out\n",
    "\n",
    "    #######\n",
    "    # 역전파 : 순전파 때 보관해둔 out값을 이용해서 역전파에 쓰임, 순전파의 출력(y)만으로 계산가능\n",
    "    #######\n",
    "    def backward(self, dout):\n",
    "        dx = dout * (1.0 - self.out) * self.out # 간소화한 수식을 이용\n",
    "\n",
    "        return dx"
   ]
  },
  {
   "cell_type": "markdown",
   "metadata": {},
   "source": [
    "---\n",
    "\n",
    "## Affine/Softmax 계층 구현하기 (p170)"
   ]
  },
  {
   "cell_type": "markdown",
   "metadata": {},
   "source": [
    "### Affine 계층\n",
    "- 신경망의 순전파 때 수행하는 행렬의 곱을 해주는 레이어\n",
    "- 전까지는 `스칼라`만 처리했는데, 이제는 `행렬`이 흐르게 할 것"
   ]
  },
  {
   "cell_type": "code",
   "execution_count": 26,
   "metadata": {
    "ExecuteTime": {
     "end_time": "2019-08-03T16:15:55.897332Z",
     "start_time": "2019-08-03T16:15:55.881898Z"
    }
   },
   "outputs": [],
   "source": [
    "X = np.random.rand(2) # 입력\n",
    "W = np.random.rand(2,3) # 가중치\n",
    "B = np.random.rand(2,3) # 편향"
   ]
  },
  {
   "cell_type": "code",
   "execution_count": 30,
   "metadata": {
    "ExecuteTime": {
     "end_time": "2019-08-03T16:16:16.671542Z",
     "start_time": "2019-08-03T16:16:16.653573Z"
    }
   },
   "outputs": [
    {
     "name": "stdout",
     "output_type": "stream",
     "text": [
      "[0.8343816  0.72454461]\n"
     ]
    },
    {
     "data": {
      "text/plain": [
       "(2,)"
      ]
     },
     "execution_count": 30,
     "metadata": {},
     "output_type": "execute_result"
    }
   ],
   "source": [
    "print(X)\n",
    "X.shape"
   ]
  },
  {
   "cell_type": "code",
   "execution_count": 32,
   "metadata": {
    "ExecuteTime": {
     "end_time": "2019-08-03T16:16:23.571249Z",
     "start_time": "2019-08-03T16:16:23.566513Z"
    }
   },
   "outputs": [
    {
     "name": "stdout",
     "output_type": "stream",
     "text": [
      "[[0.22004554 0.0729576  0.04395276]\n",
      " [0.07686227 0.69515846 0.09504852]]\n"
     ]
    },
    {
     "data": {
      "text/plain": [
       "(2, 3)"
      ]
     },
     "execution_count": 32,
     "metadata": {},
     "output_type": "execute_result"
    }
   ],
   "source": [
    "print(W)\n",
    "W.shape"
   ]
  },
  {
   "cell_type": "code",
   "execution_count": 33,
   "metadata": {
    "ExecuteTime": {
     "end_time": "2019-08-03T16:16:28.089119Z",
     "start_time": "2019-08-03T16:16:28.083178Z"
    }
   },
   "outputs": [
    {
     "name": "stdout",
     "output_type": "stream",
     "text": [
      "[[0.89624141 0.33028769 0.29728268]\n",
      " [0.32236211 0.69824953 0.79176663]]\n"
     ]
    },
    {
     "data": {
      "text/plain": [
       "(2, 3)"
      ]
     },
     "execution_count": 33,
     "metadata": {},
     "output_type": "execute_result"
    }
   ],
   "source": [
    "print(B)\n",
    "B.shape"
   ]
  },
  {
   "cell_type": "code",
   "execution_count": 34,
   "metadata": {
    "ExecuteTime": {
     "end_time": "2019-08-03T16:16:40.572239Z",
     "start_time": "2019-08-03T16:16:40.507752Z"
    }
   },
   "outputs": [
    {
     "data": {
      "text/plain": [
       "array([[1.1355335 , 0.89483548, 0.40282295],\n",
       "       [0.5616542 , 1.26279732, 0.89730691]])"
      ]
     },
     "execution_count": 34,
     "metadata": {},
     "output_type": "execute_result"
    }
   ],
   "source": [
    "Y = np.dot(X,W) + B # 이게 사실상 Affine이 될듯\n",
    "Y"
   ]
  },
  {
   "cell_type": "markdown",
   "metadata": {},
   "source": [
    "#### Affine 계층의 순전파\n",
    "![](http://mblogthumb1.phinf.naver.net/MjAxNzA3MjZfMTg4/MDAxNTAxMDU2NjQzMDkz.5m_up0L9OiIwXFPmCtJ_AaiorDntuvFpH8KBeFBOsa8g.KuSP8t6dQBJ3gXg72HddolfT-hYz9UrWHDr3RY1GAoQg.PNG.cjswo9207/fig_5-24.png?type=w2)"
   ]
  },
  {
   "cell_type": "markdown",
   "metadata": {},
   "source": [
    "#### Affine 계층의 역전파\n",
    "\n",
    "$ \\frac{\\partial L}{\\partial X} = \\frac{\\partial L}{\\partial Y} \\cdot W^T $  \n",
    "$ \\frac{\\partial L}{\\partial W} = X^T \\cdot \\frac{\\partial L}{\\partial Y}  $\n",
    "\n",
    "위와 같이 행렬을 사용한 역전파도 `행렬의 원소마다 전개`해보면  \n",
    "스칼라값을 사용한 지금까지의 계산 그래프와 같은 순서로 생각가능함 \n",
    "\n",
    "![](data:image/png;base64,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)\n",
    "\n",
    "> 그리고 계산그래프에서는 항상 각 변수의 형상(shape)을 주의하자!!  \n",
    "\n",
    "특히, X와 $\\frac{\\partial L}{\\partial X}$은 같은 형상이고,   \n",
    "$ X=(x_0, x_1, x_2, ... , x_n) $  \n",
    "$ \\frac{\\partial L}{\\partial X} = ( \\frac{\\partial L}{\\partial x_0},\\frac{\\partial L}{\\partial x_1},\\frac{\\partial L}{\\partial x_2}, ... , \\frac{\\partial L}{\\partial x_n} ) $\n",
    "\n",
    "W와 $\\frac{\\partial L}{\\partial W}$도 같은 형상임을 기억하자!! \n",
    "$ W=(w_0, w_1, w_2, ... , w_m) $  \n",
    "$ \\frac{\\partial L}{\\partial W} = ( \\frac{\\partial L}{\\partial w_0},\\frac{\\partial L}{\\partial w_1},\\frac{\\partial L}{\\partial w_2}, ... , \\frac{\\partial L}{\\partial w_m} ) $\n",
    "![](http://mblogthumb4.phinf.naver.net/MjAxNzA3MjZfMjA3/MDAxNTAxMDU4NTg1NDI0.HDfJDox2xTBOmwEERulJw0AO_k5G05dXrzZnSRdmfX8g.MtGGa3V2dvLZvKUqE9kCp2VJWdky8KnfPrzMiQ59wxwg.PNG.cjswo9207/fig_5-26.png?type=w2)"
   ]
  },
  {
   "cell_type": "markdown",
   "metadata": {},
   "source": [
    "### 배치용 Affine 계층\n",
    "\n",
    "- 데이터 N개를 묶어서(이게 사실상 배치) 순전파를 한다고 생각하면 됨\n",
    "\n",
    "![](http://mblogthumb1.phinf.naver.net/MjAxNzA3MjZfMTYg/MDAxNTAxMDU3NTM3MzE3.BUonxDiNBpQiy3JoXD-nj2AcvjFh5qtRBXSpks4-NVwg.yzkqjMB4GfgeFPIUErifh4FHFPbNc5aQtrX0ijjXJcEg.PNG.cjswo9207/fig_5-27.png?type=w2)"
   ]
  },
  {
   "cell_type": "code",
   "execution_count": 36,
   "metadata": {
    "ExecuteTime": {
     "end_time": "2019-08-03T16:26:30.239223Z",
     "start_time": "2019-08-03T16:26:30.232633Z"
    }
   },
   "outputs": [],
   "source": [
    "class Affine:\n",
    "    def __init__(self, W, b):\n",
    "        self.W = W\n",
    "        self.b = b\n",
    "        \n",
    "        self.x = None\n",
    "        self.original_x_shape = None\n",
    "        # 가중치와 편향 매개변수의 미분\n",
    "        self.dW = None\n",
    "        self.db = None\n",
    "\n",
    "    def forward(self, x):\n",
    "        \n",
    "        # 4차원 데이터인 텐서를 대응해서 구현함\n",
    "        ######################################################################\n",
    "        self.original_x_shape = x.shape # 책에서는 이 부분이 조금 다를 것이라고 말해줌\n",
    "        x = x.reshape(x.shape[0], -1) # 책에서는 이 부분이 조금 다를 것이라고 말해줌\n",
    "        ######################################################################\n",
    "        \n",
    "        self.x = x # 역전파때 다시 이용하려고 보관해둠\n",
    "        out = np.dot(self.x, self.W) + self.b\n",
    "\n",
    "        return out\n",
    "\n",
    "    def backward(self, dout):\n",
    "        dx = np.dot(dout, self.W.T)\n",
    "        self.dW = np.dot(self.x.T, dout)\n",
    "        self.db = np.sum(dout, axis=0)\n",
    "        \n",
    "        # 4차원 데이터인 텐서를 대응해서 구현함\n",
    "        ######################################################################\n",
    "        dx = dx.reshape(*self.original_x_shape)  # 입력 데이터 모양 변경(텐서 대응), 책과 다름\n",
    "        ######################################################################\n",
    "        \n",
    "        return dx"
   ]
  },
  {
   "cell_type": "markdown",
   "metadata": {},
   "source": [
    "### Softmax-with-Loss 계층"
   ]
  },
  {
   "cell_type": "markdown",
   "metadata": {},
   "source": [
    "![](https://t1.daumcdn.net/cfile/tistory/995A16395B98F76820)\n",
    "\n",
    "> Softmax 계층은 **입력 값을 정규화(출력의 합이 1이 되도록 변형)하여 출력**"
   ]
  },
  {
   "cell_type": "markdown",
   "metadata": {},
   "source": [
    "#### Softmax-with-Loss 계층 정리 전\n",
    "- 정리할 때, 정답 레이블만 1이고 나머지는 0이므로 $t_1 + t_2 + t_3 = 1$임을 까먹지 말고 수식 전개\n",
    "- 항상 역전파할 때, 연쇄법칙이 적용된다고 생각하자! 즉, 누적이 계속된다는걸 생각!"
   ]
  },
  {
   "cell_type": "markdown",
   "metadata": {},
   "source": [
    "![](https://t1.daumcdn.net/cfile/tistory/99EBF5395B98F7792B)"
   ]
  },
  {
   "cell_type": "markdown",
   "metadata": {},
   "source": [
    "#### Softmax-with-Loss 계층 정리  후"
   ]
  },
  {
   "cell_type": "markdown",
   "metadata": {},
   "source": [
    "![](http://mblogthumb2.phinf.naver.net/MjAxNzA3MjZfMTE1/MDAxNTAxMDYwMDMxMTE5.WaUKfNuRPqV3QncvdhQd8PQdDjT8DKTLqnd32dJyATQg.vMyLqXNdA8Uf2aLjG16ryeFmSXJVmB_3dVxld0ISHE8g.PNG.cjswo9207/fig_5-30.png?type=w2)"
   ]
  },
  {
   "cell_type": "code",
   "execution_count": 45,
   "metadata": {
    "ExecuteTime": {
     "end_time": "2019-08-03T16:53:49.278696Z",
     "start_time": "2019-08-03T16:53:49.274591Z"
    }
   },
   "outputs": [],
   "source": [
    "from common.functions import softmax\n",
    "from common.functions import cross_entropy_error"
   ]
  },
  {
   "cell_type": "code",
   "execution_count": 37,
   "metadata": {
    "ExecuteTime": {
     "end_time": "2019-08-03T16:31:06.755506Z",
     "start_time": "2019-08-03T16:31:06.746041Z"
    }
   },
   "outputs": [],
   "source": [
    "class SoftmaxWithLoss:\n",
    "    def __init__(self):\n",
    "        self.loss = None # 손실함수\n",
    "        self.y = None    # softmax의 출력\n",
    "        self.t = None    # 정답 레이블(원-핫 인코딩 형태)\n",
    "        \n",
    "    def forward(self, x, t):\n",
    "        self.t = t\n",
    "        self.y = softmax(x)\n",
    "        self.loss = cross_entropy_error(self.y, self.t)\n",
    "        \n",
    "        return self.loss\n",
    "\n",
    "    def backward(self, dout=1):\n",
    "        batch_size = self.t.shape[0]\n",
    "        if self.t.size == self.y.size: # 정답 레이블이 원-핫 인코딩 형태일 때\n",
    "            dx = (self.y - self.t) / batch_size\n",
    "        else:\n",
    "            dx = self.y.copy()\n",
    "            dx[np.arange(batch_size), self.t] -= 1\n",
    "            dx = dx / batch_size\n",
    "        \n",
    "        return dx"
   ]
  },
  {
   "cell_type": "markdown",
   "metadata": {},
   "source": [
    "---\n",
    "\n",
    "## 오차역전파법 구현하기 (p179)"
   ]
  },
  {
   "cell_type": "markdown",
   "metadata": {},
   "source": [
    "### 신경망 학습의 전체 그림\n",
    "\n",
    "#### 전제\n",
    "- 신경망에는 적응 가능한 가중치와 편향이 있고, 이 가중치와 편향을 훈련 데이터에 적응하도록 조정하는 과정을 `학습`이라고 함\n",
    "- 신경망 학습은 아래 4단계로 수행됨\n",
    "\n",
    "#### 1단계 - 미니배치\n",
    "- 훈련 데이터 중 일부를 무작위로 가져옴\n",
    "- 이 미니배치의 손실함수 값을 줄이는 것이 목표!\n",
    "\n",
    "#### 2단계 - 기울기 산출\n",
    "- 미니배치의 손실 함수 값을 줄이기 위해 각 가중치 매개변수의 기울기를 구함\n",
    "- 기울기는 손실함수의 값을 가장 작게 하는 방향으로 제시\n",
    "\n",
    "#### 3단계 - 매개변수 업데이트\n",
    "- 가중치 매개변수를 기울기 방향으로 아주 조금씩 업데이트\n",
    "\n",
    "#### 4단계 - 반복\n",
    "- 1~3단계를 반복"
   ]
  },
  {
   "cell_type": "markdown",
   "metadata": {},
   "source": [
    "### 오차역전파법을 적용한 신경망 구현하기\n",
    "\n",
    "- 신경망을 구성하는 요소를 계층으로 구현한 덕분에 신경망을 쉽게 구축할 수 있음\n",
    "- 더 깊은 신경망을 만들고 싶다면, 단순히 필요한 만큼 계층을 더 추가하면 됨 ex) 레고 블럭"
   ]
  },
  {
   "cell_type": "markdown",
   "metadata": {},
   "source": [
    "<center> <font size=\"5\">\n",
    "    여기서 헷갈리면 안되는 것은<br>\n",
    "    <font color=\"red\"><b>신경망(Net)과 계층(Layer)</b></font>의 개념이다<br>\n",
    "    신경망을 이루는 요소들이 계층이라고 생각하자<br>\n",
    "    즉, 신경망 = A계층 + B계층 + C계층\n",
    "</font></center>"
   ]
  },
  {
   "cell_type": "code",
   "execution_count": 43,
   "metadata": {
    "ExecuteTime": {
     "end_time": "2019-08-03T16:52:31.725826Z",
     "start_time": "2019-08-03T16:52:31.694985Z"
    }
   },
   "outputs": [],
   "source": [
    "from common.layers import *\n",
    "from common.gradient import numerical_gradient\n",
    "from collections import OrderedDict"
   ]
  },
  {
   "cell_type": "code",
   "execution_count": 47,
   "metadata": {
    "ExecuteTime": {
     "end_time": "2019-08-03T17:03:11.449651Z",
     "start_time": "2019-08-03T17:03:11.434380Z"
    }
   },
   "outputs": [],
   "source": [
    "class TwoLayerNet:\n",
    "\n",
    "    ############################################\n",
    "    # __init__ : 초기화 수행\n",
    "    ############################################\n",
    "    def __init__(self, input_size, hidden_size, output_size, weight_init_std = 0.01):\n",
    "        # 가중치 초기화\n",
    "        self.params = {}\n",
    "        self.params['W1'] = weight_init_std * np.random.randn(input_size, hidden_size)\n",
    "        self.params['b1'] = np.zeros(hidden_size)\n",
    "        self.params['W2'] = weight_init_std * np.random.randn(hidden_size, output_size) \n",
    "        self.params['b2'] = np.zeros(output_size)\n",
    "\n",
    "        # 계층 생성\n",
    "        self.layers = OrderedDict()\n",
    "        \n",
    "        # 1층 \n",
    "        self.layers['Affine1'] = Affine(self.params['W1'], self.params['b1'])\n",
    "        self.layers['Relu1'] = Relu()\n",
    "        \n",
    "        # 2층\n",
    "        self.layers['Affine2'] = Affine(self.params['W2'], self.params['b2'])\n",
    "        self.lastLayer = SoftmaxWithLoss()\n",
    "    \n",
    "    ############################################\n",
    "    # predict : 계층을 사용함으로써 인식 결과를 얻는 처리\n",
    "    # 여기서는 각 레이어의 forward함수를 통해서 처리됨\n",
    "    # TwoLayerNet을 구성하는 모든 레이어에 대해서 순전파 수행\n",
    "    ############################################\n",
    "    def predict(self, x):\n",
    "        for layer in self.layers.values():\n",
    "            x = layer.forward(x)\n",
    "        \n",
    "        return x\n",
    "    \n",
    "    ############################################\n",
    "    # loss : 손실함수의 값을 구함\n",
    "    # x : 입력 데이터, t : 정답 레이블\n",
    "    ############################################\n",
    "    def loss(self, x, t):\n",
    "        y = self.predict(x)\n",
    "        return self.lastLayer.forward(y, t)\n",
    "    \n",
    "    ############################################\n",
    "    # accuracy : 정확도를 구함\n",
    "    ############################################\n",
    "    def accuracy(self, x, t):\n",
    "        y = self.predict(x)\n",
    "        y = np.argmax(y, axis=1)\n",
    "        if t.ndim != 1 : t = np.argmax(t, axis=1)\n",
    "        \n",
    "        accuracy = np.sum(y == t) / float(x.shape[0])\n",
    "        return accuracy\n",
    "        \n",
    "    ############################################\n",
    "    # numerical_gradient : 가중치 매개변수의 기울기를 수치 미분 방식으로 구함\n",
    "    # x : 입력 데이터, t : 정답 레이블\n",
    "    ############################################\n",
    "    def numerical_gradient(self, x, t):\n",
    "        loss_W = lambda W: self.loss(x, t)\n",
    "        \n",
    "        grads = {}\n",
    "        grads['W1'] = numerical_gradient(loss_W, self.params['W1'])\n",
    "        grads['b1'] = numerical_gradient(loss_W, self.params['b1'])\n",
    "        grads['W2'] = numerical_gradient(loss_W, self.params['W2'])\n",
    "        grads['b2'] = numerical_gradient(loss_W, self.params['b2'])\n",
    "        \n",
    "        return grads\n",
    "    \n",
    "    ############################################\n",
    "    # gradient : 계층을 사용해서 기울기를 구하는 처리\n",
    "    # 가중치 매개변수의 기울기를 오차역전파법으로 구함\n",
    "    # TwoLayerNet을 구성하는 모든 레이어에 대해서 역전파 수행\n",
    "    ############################################\n",
    "    def gradient(self, x, t):\n",
    "        # forward\n",
    "        self.loss(x, t)\n",
    "\n",
    "        # backward\n",
    "        dout = 1\n",
    "        dout = self.lastLayer.backward(dout)\n",
    "        \n",
    "        layers = list(self.layers.values())\n",
    "        layers.reverse()\n",
    "        for layer in layers:\n",
    "            dout = layer.backward(dout)\n",
    "\n",
    "        # 결과 저장\n",
    "        grads = {}\n",
    "        grads['W1'], grads['b1'] = self.layers['Affine1'].dW, self.layers['Affine1'].db\n",
    "        grads['W2'], grads['b2'] = self.layers['Affine2'].dW, self.layers['Affine2'].db\n",
    "\n",
    "        return grads"
   ]
  },
  {
   "cell_type": "markdown",
   "metadata": {},
   "source": [
    "> Q. **`forward`** 함수와 **`predict`** 함수와의 차이점?"
   ]
  },
  {
   "cell_type": "markdown",
   "metadata": {},
   "source": [
    "> Q. **`backward`** 함수와 **`gradient`** 함수와의 차이점?"
   ]
  },
  {
   "cell_type": "markdown",
   "metadata": {},
   "source": [
    "### 오차역전파법으로 구한 기울기 검증하기\n",
    "\n",
    "- 지금까지 우리가 기울기를 구하는 방법\n",
    "    1. 수치 미분을 통해서 구하는 방법\n",
    "    2. 해석적으로 수식을 풀어서 구하는 방법 → 오차역전파법\n",
    "- 수치 미분의 장/단점\n",
    "    - 장점 : 구현하기 쉬움\n",
    "    - 단점 : 느림\n",
    "- 오차역전파법의 장/단점\n",
    "    - 장점 : 매개변수가 많아도 효율적으로 계산 가능\n",
    "    - 단점 : 구현하기 복잡함 (계산그래프 생각해보자)\n",
    "\n",
    "\n",
    "두 방법의 장점을 섞어서 기울기를 검증하자!\n",
    "\n",
    "> **수치미분 결과** vs **오차역전파법 결과**  \n",
    "> 두 결과를 비교해서 제대로 구현했는지 검증"
   ]
  },
  {
   "cell_type": "code",
   "execution_count": 48,
   "metadata": {
    "ExecuteTime": {
     "end_time": "2019-08-03T17:10:00.422634Z",
     "start_time": "2019-08-03T17:09:55.300565Z"
    }
   },
   "outputs": [
    {
     "name": "stdout",
     "output_type": "stream",
     "text": [
      "W1:4.3706850869906725e-10\n",
      "b1:2.586230168630851e-09\n",
      "W2:6.260090353269149e-09\n",
      "b2:1.4031562908106698e-07\n"
     ]
    }
   ],
   "source": [
    "from dataset.mnist import load_mnist\n",
    "\n",
    "# 데이터 읽기\n",
    "(x_train, t_train), (x_test, t_test) = load_mnist(normalize=True, one_hot_label=True)\n",
    "\n",
    "network = TwoLayerNet(input_size=784, hidden_size=50, output_size=10)\n",
    "\n",
    "x_batch = x_train[:3]\n",
    "t_batch = t_train[:3]\n",
    "\n",
    "grad_numerical = network.numerical_gradient(x_batch, t_batch)\n",
    "grad_backprop = network.gradient(x_batch, t_batch)\n",
    "\n",
    "# 각 가중치의 절대 오차의 평균을 구한다.\n",
    "for key in grad_numerical.keys():\n",
    "    diff = np.average( np.abs(grad_backprop[key] - grad_numerical[key]) )\n",
    "    print(key + \":\" + str(diff))"
   ]
  },
  {
   "cell_type": "markdown",
   "metadata": {},
   "source": [
    "### 오차역전파법을 사용한 학습 구현하기"
   ]
  },
  {
   "cell_type": "code",
   "execution_count": 58,
   "metadata": {
    "ExecuteTime": {
     "end_time": "2019-08-04T05:49:30.406178Z",
     "start_time": "2019-08-04T05:49:14.004727Z"
    },
    "scrolled": true
   },
   "outputs": [
    {
     "name": "stdout",
     "output_type": "stream",
     "text": [
      "  1epoch => train acc, test acc | 9.675000%, 8.950000%\n",
      "  2epoch => train acc, test acc | 90.370000%, 90.590000%\n",
      "  3epoch => train acc, test acc | 92.401667%, 92.790000%\n",
      "  4epoch => train acc, test acc | 93.758333%, 93.700000%\n",
      "  5epoch => train acc, test acc | 94.575000%, 94.520000%\n",
      "  6epoch => train acc, test acc | 95.090000%, 94.910000%\n",
      "  7epoch => train acc, test acc | 95.546667%, 95.300000%\n",
      "  8epoch => train acc, test acc | 96.078333%, 95.700000%\n",
      "  9epoch => train acc, test acc | 96.286667%, 95.850000%\n",
      " 10epoch => train acc, test acc | 96.606667%, 96.170000%\n",
      " 11epoch => train acc, test acc | 96.755000%, 96.310000%\n",
      " 12epoch => train acc, test acc | 96.966667%, 96.500000%\n",
      " 13epoch => train acc, test acc | 97.325000%, 96.740000%\n",
      " 14epoch => train acc, test acc | 97.390000%, 96.830000%\n",
      " 15epoch => train acc, test acc | 97.518333%, 96.870000%\n",
      " 16epoch => train acc, test acc | 97.610000%, 96.890000%\n",
      " 17epoch => train acc, test acc | 97.815000%, 97.090000%\n"
     ]
    }
   ],
   "source": [
    "# 데이터 읽기\n",
    "(x_train, t_train), (x_test, t_test) = load_mnist(normalize=True, one_hot_label=True)\n",
    "\n",
    "network = TwoLayerNet(input_size=784, hidden_size=50, output_size=10)\n",
    "\n",
    "iters_num = 10000\n",
    "train_size = x_train.shape[0]\n",
    "batch_size = 100\n",
    "learning_rate = 0.1\n",
    "\n",
    "train_loss_list = []\n",
    "train_acc_list = []\n",
    "test_acc_list = []\n",
    "\n",
    "iter_per_epoch = max(train_size / batch_size, 1)\n",
    "\n",
    "for i in range(iters_num):\n",
    "    batch_mask = np.random.choice(train_size, batch_size)\n",
    "    x_batch = x_train[batch_mask]\n",
    "    t_batch = t_train[batch_mask]\n",
    "    \n",
    "    # 기울기 계산\n",
    "    # 오차역전파법으로 기울기를 구함\n",
    "    #grad = network.numerical_gradient(x_batch, t_batch) # 수치 미분 방식\n",
    "    grad = network.gradient(x_batch, t_batch) # 오차역전파법 방식(훨씬 빠르다)\n",
    "    \n",
    "    # 갱신\n",
    "    for key in ('W1', 'b1', 'W2', 'b2'):\n",
    "        network.params[key] -= learning_rate * grad[key]\n",
    "    \n",
    "    loss = network.loss(x_batch, t_batch)\n",
    "    train_loss_list.append(loss)\n",
    "    \n",
    "    if i % iter_per_epoch == 0:\n",
    "        train_acc = network.accuracy(x_train, t_train)\n",
    "        test_acc = network.accuracy(x_test, t_test)\n",
    "        train_acc_list.append(train_acc)\n",
    "        test_acc_list.append(test_acc)\n",
    "        print(\"{:3d}epoch => train acc, test acc | {:.6f}%, {:.6f}%\".format(int(i // iter_per_epoch)+1,train_acc*100,test_acc*100))"
   ]
  },
  {
   "cell_type": "markdown",
   "metadata": {},
   "source": [
    "### 여러가지 테스트를 해볼까?"
   ]
  },
  {
   "cell_type": "code",
   "execution_count": 68,
   "metadata": {
    "ExecuteTime": {
     "end_time": "2019-08-04T06:07:24.992360Z",
     "start_time": "2019-08-04T06:07:24.971351Z"
    },
    "scrolled": true
   },
   "outputs": [],
   "source": [
    "def mnist_test(input_size=784,hidden_size=100,iters_num=10000,batch_size=100,learning_rate=0.1):\n",
    "    # 데이터 읽기\n",
    "    (x_train, t_train), (x_test, t_test) = load_mnist(normalize=True, one_hot_label=True)\n",
    "\n",
    "    network = TwoLayerNet(input_size=input_size, hidden_size=hidden_size, output_size=10)\n",
    "\n",
    "    train_size = x_train.shape[0]\n",
    "\n",
    "    train_loss_list = []\n",
    "    train_acc_list = []\n",
    "    test_acc_list = []\n",
    "\n",
    "    iter_per_epoch = max(train_size / batch_size, 1)\n",
    "\n",
    "    for i in range(iters_num):\n",
    "        batch_mask = np.random.choice(train_size, batch_size)\n",
    "        x_batch = x_train[batch_mask]\n",
    "        t_batch = t_train[batch_mask]\n",
    "\n",
    "        # 기울기 계산\n",
    "        # 오차역전파법으로 기울기를 구함\n",
    "        #grad = network.numerical_gradient(x_batch, t_batch) # 수치 미분 방식\n",
    "        grad = network.gradient(x_batch, t_batch) # 오차역전파법 방식(훨씬 빠르다)\n",
    "\n",
    "        # 갱신\n",
    "        for key in ('W1', 'b1', 'W2', 'b2'):\n",
    "            network.params[key] -= learning_rate * grad[key]\n",
    "\n",
    "        loss = network.loss(x_batch, t_batch)\n",
    "        train_loss_list.append(loss)\n",
    "\n",
    "        if i % iter_per_epoch == 0:\n",
    "            train_acc = network.accuracy(x_train, t_train)\n",
    "            test_acc = network.accuracy(x_test, t_test)\n",
    "            train_acc_list.append(train_acc)\n",
    "            test_acc_list.append(test_acc)\n",
    "            print(\"{:3d}epoch => train acc, test acc | {:.6f}%, {:.6f}%\".format(int(i // iter_per_epoch)+1,train_acc*100,test_acc*100))\n",
    "            \n",
    "    # 그래프 그리기\n",
    "    x = np.arange(len(train_acc_list))\n",
    "    plt.plot(x, train_acc_list, label='train acc')\n",
    "    plt.plot(x, test_acc_list, label='test acc', linestyle='--')\n",
    "    plt.xlabel(\"epochs\")\n",
    "    plt.ylabel(\"accuracy\")\n",
    "    plt.ylim(0, 1.0)\n",
    "    plt.legend(loc='lower right')\n",
    "    plt.show()"
   ]
  },
  {
   "cell_type": "markdown",
   "metadata": {},
   "source": [
    "#### 은닉층의 노드수를 늘려보자"
   ]
  },
  {
   "cell_type": "code",
   "execution_count": 69,
   "metadata": {
    "ExecuteTime": {
     "end_time": "2019-08-04T06:07:47.914253Z",
     "start_time": "2019-08-04T06:07:27.216928Z"
    },
    "scrolled": false
   },
   "outputs": [
    {
     "name": "stdout",
     "output_type": "stream",
     "text": [
      "  1epoch => train acc, test acc | 9.638333%, 9.260000%\n",
      "  2epoch => train acc, test acc | 90.455000%, 90.850000%\n",
      "  3epoch => train acc, test acc | 92.508333%, 92.690000%\n",
      "  4epoch => train acc, test acc | 93.910000%, 93.980000%\n",
      "  5epoch => train acc, test acc | 94.945000%, 94.770000%\n",
      "  6epoch => train acc, test acc | 95.576667%, 95.270000%\n",
      "  7epoch => train acc, test acc | 96.250000%, 95.830000%\n",
      "  8epoch => train acc, test acc | 96.045000%, 95.690000%\n",
      "  9epoch => train acc, test acc | 96.843333%, 96.310000%\n",
      " 10epoch => train acc, test acc | 97.098333%, 96.600000%\n",
      " 11epoch => train acc, test acc | 97.346667%, 96.790000%\n",
      " 12epoch => train acc, test acc | 97.575000%, 96.770000%\n",
      " 13epoch => train acc, test acc | 97.850000%, 97.020000%\n",
      " 14epoch => train acc, test acc | 97.921667%, 97.270000%\n",
      " 15epoch => train acc, test acc | 97.911667%, 97.090000%\n",
      " 16epoch => train acc, test acc | 98.170000%, 97.280000%\n",
      " 17epoch => train acc, test acc | 98.256667%, 97.290000%\n"
     ]
    },
    {
     "data": {
      "image/png": "[encoded data removed]",
      "text/plain": [
       "<Figure size 432x288 with 1 Axes>"
      ]
     },
     "metadata": {
      "needs_background": "light"
     },
     "output_type": "display_data"
    }
   ],
   "source": [
    "mnist_test(784,100,10000,100,0.1)"
   ]
  },
  {
   "cell_type": "markdown",
   "metadata": {},
   "source": [
    "#### 은닉층의 수를 줄여보자"
   ]
  },
  {
   "cell_type": "code",
   "execution_count": 70,
   "metadata": {
    "ExecuteTime": {
     "end_time": "2019-08-04T06:07:59.349769Z",
     "start_time": "2019-08-04T06:07:47.916099Z"
    }
   },
   "outputs": [
    {
     "name": "stdout",
     "output_type": "stream",
     "text": [
      "  1epoch => train acc, test acc | 13.030000%, 13.340000%\n",
      "  2epoch => train acc, test acc | 89.260000%, 89.380000%\n",
      "  3epoch => train acc, test acc | 91.126667%, 91.330000%\n",
      "  4epoch => train acc, test acc | 91.925000%, 91.920000%\n",
      "  5epoch => train acc, test acc | 92.133333%, 92.150000%\n",
      "  6epoch => train acc, test acc | 92.518333%, 92.120000%\n",
      "  7epoch => train acc, test acc | 92.731667%, 92.410000%\n",
      "  8epoch => train acc, test acc | 92.991667%, 92.850000%\n",
      "  9epoch => train acc, test acc | 93.363333%, 92.950000%\n",
      " 10epoch => train acc, test acc | 93.090000%, 92.590000%\n",
      " 11epoch => train acc, test acc | 92.830000%, 92.380000%\n",
      " 12epoch => train acc, test acc | 93.643333%, 93.130000%\n",
      " 13epoch => train acc, test acc | 93.435000%, 92.980000%\n",
      " 14epoch => train acc, test acc | 93.896667%, 93.150000%\n",
      " 15epoch => train acc, test acc | 93.666667%, 93.270000%\n",
      " 16epoch => train acc, test acc | 93.950000%, 93.400000%\n",
      " 17epoch => train acc, test acc | 94.091667%, 93.270000%\n"
     ]
    },
    {
     "data": {
      "image/png": "[encoded data removed]",
      "text/plain": [
       "<Figure size 432x288 with 1 Axes>"
      ]
     },
     "metadata": {
      "needs_background": "light"
     },
     "output_type": "display_data"
    }
   ],
   "source": [
    "mnist_test(784,10,10000,100,0.1)"
   ]
  },
  {
   "cell_type": "markdown",
   "metadata": {},
   "source": [
    "#### 배치 사이즈를 늘려보자"
   ]
  },
  {
   "cell_type": "code",
   "execution_count": 71,
   "metadata": {
    "ExecuteTime": {
     "end_time": "2019-08-04T06:08:19.960173Z",
     "start_time": "2019-08-04T06:07:59.351703Z"
    }
   },
   "outputs": [
    {
     "name": "stdout",
     "output_type": "stream",
     "text": [
      "  1epoch => train acc, test acc | 11.098333%, 10.850000%\n",
      "  2epoch => train acc, test acc | 86.456667%, 87.170000%\n",
      "  3epoch => train acc, test acc | 89.378333%, 89.630000%\n",
      "  4epoch => train acc, test acc | 90.591667%, 90.450000%\n",
      "  5epoch => train acc, test acc | 91.446667%, 91.490000%\n",
      "  6epoch => train acc, test acc | 91.773333%, 91.880000%\n",
      "  7epoch => train acc, test acc | 92.098333%, 92.150000%\n",
      "  8epoch => train acc, test acc | 92.143333%, 91.950000%\n",
      "  9epoch => train acc, test acc | 92.243333%, 91.900000%\n",
      " 10epoch => train acc, test acc | 92.518333%, 92.520000%\n",
      " 11epoch => train acc, test acc | 92.681667%, 92.550000%\n",
      " 12epoch => train acc, test acc | 92.800000%, 92.640000%\n",
      " 13epoch => train acc, test acc | 92.908333%, 92.460000%\n",
      " 14epoch => train acc, test acc | 93.245000%, 92.810000%\n",
      " 15epoch => train acc, test acc | 93.320000%, 92.930000%\n",
      " 16epoch => train acc, test acc | 93.555000%, 93.260000%\n",
      " 17epoch => train acc, test acc | 93.623333%, 93.220000%\n",
      " 18epoch => train acc, test acc | 93.613333%, 93.200000%\n",
      " 19epoch => train acc, test acc | 93.978333%, 93.480000%\n",
      " 20epoch => train acc, test acc | 94.011667%, 93.640000%\n",
      " 21epoch => train acc, test acc | 94.055000%, 93.670000%\n",
      " 22epoch => train acc, test acc | 93.883333%, 93.600000%\n",
      " 23epoch => train acc, test acc | 94.151667%, 93.800000%\n",
      " 24epoch => train acc, test acc | 93.915000%, 93.750000%\n",
      " 25epoch => train acc, test acc | 94.178333%, 93.540000%\n",
      " 26epoch => train acc, test acc | 94.205000%, 93.630000%\n",
      " 27epoch => train acc, test acc | 94.418333%, 93.540000%\n",
      " 28epoch => train acc, test acc | 94.333333%, 93.630000%\n",
      " 29epoch => train acc, test acc | 94.428333%, 93.880000%\n",
      " 30epoch => train acc, test acc | 94.495000%, 93.760000%\n",
      " 31epoch => train acc, test acc | 94.638333%, 93.920000%\n",
      " 32epoch => train acc, test acc | 94.551667%, 93.950000%\n",
      " 33epoch => train acc, test acc | 94.670000%, 93.970000%\n",
      " 34epoch => train acc, test acc | 94.363333%, 93.830000%\n"
     ]
    },
    {
     "data": {
      "image/png": "[encoded data removed]",
      "text/plain": [
       "<Figure size 432x288 with 1 Axes>"
      ]
     },
     "metadata": {
      "needs_background": "light"
     },
     "output_type": "display_data"
    }
   ],
   "source": [
    "mnist_test(784,10,10000,200,0.1)"
   ]
  },
  {
   "cell_type": "markdown",
   "metadata": {},
   "source": [
    "#### 배치 사이즈를 줄여보자"
   ]
  },
  {
   "cell_type": "code",
   "execution_count": 72,
   "metadata": {
    "ExecuteTime": {
     "end_time": "2019-08-04T06:08:27.076087Z",
     "start_time": "2019-08-04T06:08:19.962109Z"
    }
   },
   "outputs": [
    {
     "name": "stdout",
     "output_type": "stream",
     "text": [
      "  1epoch => train acc, test acc | 11.236667%, 11.350000%\n",
      "  2epoch => train acc, test acc | 91.010000%, 91.130000%\n",
      "  3epoch => train acc, test acc | 92.051667%, 92.260000%\n",
      "  4epoch => train acc, test acc | 92.983333%, 92.780000%\n",
      "  5epoch => train acc, test acc | 93.233333%, 93.040000%\n",
      "  6epoch => train acc, test acc | 93.681667%, 93.530000%\n",
      "  7epoch => train acc, test acc | 93.898333%, 93.390000%\n",
      "  8epoch => train acc, test acc | 93.686667%, 93.400000%\n",
      "  9epoch => train acc, test acc | 93.793333%, 93.130000%\n"
     ]
    },
    {
     "data": {
      "image/png": "[encoded data removed]",
      "text/plain": [
       "<Figure size 432x288 with 1 Axes>"
      ]
     },
     "metadata": {
      "needs_background": "light"
     },
     "output_type": "display_data"
    }
   ],
   "source": [
    "mnist_test(784,10,10000,50,0.1)"
   ]
  },
  {
   "cell_type": "markdown",
   "metadata": {},
   "source": [
    "#### 학습률을 올려보자"
   ]
  },
  {
   "cell_type": "code",
   "execution_count": 73,
   "metadata": {
    "ExecuteTime": {
     "end_time": "2019-08-04T06:08:38.003344Z",
     "start_time": "2019-08-04T06:08:27.078042Z"
    }
   },
   "outputs": [
    {
     "name": "stdout",
     "output_type": "stream",
     "text": [
      "  1epoch => train acc, test acc | 10.218333%, 10.100000%\n",
      "  2epoch => train acc, test acc | 81.871667%, 82.320000%\n",
      "  3epoch => train acc, test acc | 88.335000%, 87.930000%\n",
      "  4epoch => train acc, test acc | 84.733333%, 85.080000%\n",
      "  5epoch => train acc, test acc | 86.261667%, 86.230000%\n",
      "  6epoch => train acc, test acc | 87.463333%, 87.640000%\n",
      "  7epoch => train acc, test acc | 87.490000%, 86.990000%\n",
      "  8epoch => train acc, test acc | 84.063333%, 83.290000%\n",
      "  9epoch => train acc, test acc | 80.165000%, 79.740000%\n",
      " 10epoch => train acc, test acc | 89.321667%, 88.880000%\n",
      " 11epoch => train acc, test acc | 86.428333%, 85.570000%\n",
      " 12epoch => train acc, test acc | 88.171667%, 88.030000%\n",
      " 13epoch => train acc, test acc | 89.263333%, 88.940000%\n",
      " 14epoch => train acc, test acc | 89.435000%, 89.190000%\n",
      " 15epoch => train acc, test acc | 87.765000%, 87.080000%\n",
      " 16epoch => train acc, test acc | 88.206667%, 87.770000%\n",
      " 17epoch => train acc, test acc | 65.833333%, 65.380000%\n"
     ]
    },
    {
     "data": {
      "image/png": "[encoded data removed]",
      "text/plain": [
       "<Figure size 432x288 with 1 Axes>"
      ]
     },
     "metadata": {
      "needs_background": "light"
     },
     "output_type": "display_data"
    }
   ],
   "source": [
    "mnist_test(784,10,10000,100,1)"
   ]
  },
  {
   "cell_type": "markdown",
   "metadata": {},
   "source": [
    "#### 학습률을 낮춰보자"
   ]
  },
  {
   "cell_type": "code",
   "execution_count": 74,
   "metadata": {
    "ExecuteTime": {
     "end_time": "2019-08-04T06:08:48.929433Z",
     "start_time": "2019-08-04T06:08:38.004990Z"
    }
   },
   "outputs": [
    {
     "name": "stdout",
     "output_type": "stream",
     "text": [
      "  1epoch => train acc, test acc | 9.185000%, 8.180000%\n",
      "  2epoch => train acc, test acc | 36.785000%, 36.760000%\n",
      "  3epoch => train acc, test acc | 54.825000%, 54.240000%\n",
      "  4epoch => train acc, test acc | 77.046667%, 77.300000%\n",
      "  5epoch => train acc, test acc | 82.781667%, 83.210000%\n",
      "  6epoch => train acc, test acc | 85.405000%, 85.670000%\n",
      "  7epoch => train acc, test acc | 86.808333%, 87.200000%\n",
      "  8epoch => train acc, test acc | 87.921667%, 88.180000%\n",
      "  9epoch => train acc, test acc | 88.318333%, 88.780000%\n",
      " 10epoch => train acc, test acc | 88.891667%, 89.150000%\n",
      " 11epoch => train acc, test acc | 89.253333%, 89.350000%\n",
      " 12epoch => train acc, test acc | 89.486667%, 89.760000%\n",
      " 13epoch => train acc, test acc | 89.728333%, 90.030000%\n",
      " 14epoch => train acc, test acc | 89.930000%, 90.010000%\n",
      " 15epoch => train acc, test acc | 90.183333%, 90.200000%\n",
      " 16epoch => train acc, test acc | 90.330000%, 90.470000%\n",
      " 17epoch => train acc, test acc | 90.481667%, 90.610000%\n"
     ]
    },
    {
     "data": {
      "image/png": "[encoded data removed]",
      "text/plain": [
       "<Figure size 432x288 with 1 Axes>"
      ]
     },
     "metadata": {
      "needs_background": "light"
     },
     "output_type": "display_data"
    }
   ],
   "source": [
    "mnist_test(784,10,10000,100,0.01)"
   ]
  },
  {
   "cell_type": "markdown",
   "metadata": {},
   "source": [
    "<center> <font size=\"5\">\n",
    "    다음 6장에서는 어떻게 해야 학습이 잘 되는지에 관한<br><font color=\"red\"><b>학습 관련 기술들</b></font>에 대해서 논의할 것 </font></center>"
   ]
  },
  {
   "cell_type": "markdown",
   "metadata": {},
   "source": [
    "---\n",
    "\n",
    "## 5장 정리 (p187)\n",
    "\n",
    "> 참고 : [WegraLee GitHub](https://github.com/WegraLee/deep-learning-from-scratch/blob/master/ch05/README.md)\n",
    "\n",
    "* 계산 그래프를 이용하면 계산 과정을 시각적으로 파악할 수 있다.\n",
    "* 계산 그래프의 노드는 국소적 계산으로 구성된다. 국소적 계산을 조합해 전체 계산을 구성한다.\n",
    "* 계산 그래프의 순전파는 통상의 계산을 수행한다. 한편, 계산 그래프의 역전파로는 각 노드의 미분을 구할 수 있다.\n",
    "* 신경망의 구성 요소를 계층으로 구현하여 기울기를 효율적으로 계산할 수 있다(오차역전파법).\n",
    "* 수치 미분과 오차역전파법의 결과를 비교하면 오차역전파법의 구현에 잘못이 없는지 확인할 수 있다(기울기 확인)."
   ]
  },
  {
   "cell_type": "markdown",
   "metadata": {},
   "source": [
    "---\n",
    "\n",
    "## 참고\n",
    "- 밑바닥부터 시작하는 딥러닝 GitHub : https://github.com/WegraLee/deep-learning-from-scratch  \n",
    "- Mathjax 웹 수식 : https://www.codecogs.com/latex/eqneditor.php\n",
    "- 책에 나온 사진 예제 : https://kolikim.tistory.com/46\n",
    "- 계산 그래프 참고 : https://www.youtube.com/watch?v=hCP1vGoCdYU"
   ]
  }
 ],
 "metadata": {
  "kernelspec": {
   "display_name": "Python 3",
   "language": "python",
   "name": "python3"
  },
  "language_info": {
   "codemirror_mode": {
    "name": "ipython",
    "version": 3
   },
   "file_extension": ".py",
   "mimetype": "text/x-python",
   "name": "python",
   "nbconvert_exporter": "python",
   "pygments_lexer": "ipython3",
   "version": "3.6.8"
  },
  "toc": {
   "base_numbering": 1,
   "nav_menu": {},
   "number_sections": true,
   "sideBar": true,
   "skip_h1_title": true,
   "title_cell": "5장 오차역전파법",
   "title_sidebar": "Contents",
   "toc_cell": true,
   "toc_position": {
    "height": "calc(100% - 180px)",
    "left": "10px",
    "top": "150px",
    "width": "336px"
   },
   "toc_section_display": true,
   "toc_window_display": true
  }
 },
 "nbformat": 4,
 "nbformat_minor": 2
}

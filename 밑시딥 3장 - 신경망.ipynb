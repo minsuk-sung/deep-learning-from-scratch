{
 "cells": [
  {
   "cell_type": "markdown",
   "metadata": {},
   "source": [
    "![밑시딥 교재](http://www.hanbit.co.kr/data/books/B8475831198_l.jpg)\n",
    "\n",
    "> 작성자 : [Minsuk Sung](https://github.com/mssung94)  \n",
    "> 연락처 : mssung94@gmail.com  \n",
    "> GitHub : https://github.com/mssung94\n",
    "\n",
    "> 본 내용은 **대학생 빅데이터 동아리 `BOAZ`의 딥러닝 스터디 자료**입니다. **상업적인 목적으로 사용하는 것은 절대로 금합니다.**\n",
    "\n",
    "> 모든 내용은 `밑바닥부터 시작하는 딥러닝(Deep Learning from Scratch),한빛미디어`을 참고하여 만들어졌으며, 책의 내용에 대한 모든 저작권은 `한빛미디어`에게 있음을 미리 밝힙니다. 또한 여기에 사용된 코드의 대부분은 한빛미디어에서 제공해준 GitHub을 바탕으로 재구성하였습니다.\n",
    "\n",
    "한빛미디어 홈페이지 : http://www.hanbit.co.kr/store/books/look.php?p_code=B8475831198  \n",
    "밑바닥부터 시작하는 딥러닝 GitHub : https://github.com/WegraLee/deep-learning-from-scratch  "
   ]
  },
  {
   "cell_type": "markdown",
   "metadata": {
    "toc": true
   },
   "source": [
    "<h1>3장 신경망<span class=\"tocSkip\"></span></h1>\n",
    "<div class=\"toc\"><ul class=\"toc-item\"><li><span><a href=\"#퍼셉트론에서-신경망으로-(p64)\" data-toc-modified-id=\"퍼셉트론에서-신경망으로-(p64)-1\"><span class=\"toc-item-num\">1&nbsp;&nbsp;</span>퍼셉트론에서 신경망으로 (p64)</a></span><ul class=\"toc-item\"><li><span><a href=\"#신경망의-예\" data-toc-modified-id=\"신경망의-예-1.1\"><span class=\"toc-item-num\">1.1&nbsp;&nbsp;</span>신경망의 예</a></span></li><li><span><a href=\"#퍼셉트론-복습\" data-toc-modified-id=\"퍼셉트론-복습-1.2\"><span class=\"toc-item-num\">1.2&nbsp;&nbsp;</span>퍼셉트론 복습</a></span></li><li><span><a href=\"#활성화-함수의-등장\" data-toc-modified-id=\"활성화-함수의-등장-1.3\"><span class=\"toc-item-num\">1.3&nbsp;&nbsp;</span>활성화 함수의 등장</a></span></li></ul></li><li><span><a href=\"#활성화-함수-(p68)\" data-toc-modified-id=\"활성화-함수-(p68)-2\"><span class=\"toc-item-num\">2&nbsp;&nbsp;</span>활성화 함수 (p68)</a></span><ul class=\"toc-item\"><li><span><a href=\"#시그모이드-함수\" data-toc-modified-id=\"시그모이드-함수-2.1\"><span class=\"toc-item-num\">2.1&nbsp;&nbsp;</span>시그모이드 함수</a></span></li><li><span><a href=\"#계단-함수-구현하기\" data-toc-modified-id=\"계단-함수-구현하기-2.2\"><span class=\"toc-item-num\">2.2&nbsp;&nbsp;</span>계단 함수 구현하기</a></span></li><li><span><a href=\"#계단-함수의-그래프\" data-toc-modified-id=\"계단-함수의-그래프-2.3\"><span class=\"toc-item-num\">2.3&nbsp;&nbsp;</span>계단 함수의 그래프</a></span></li><li><span><a href=\"#시그모이드-함수-구현하기\" data-toc-modified-id=\"시그모이드-함수-구현하기-2.4\"><span class=\"toc-item-num\">2.4&nbsp;&nbsp;</span>시그모이드 함수 구현하기</a></span></li><li><span><a href=\"#시그모이드-함수와-계단-함수-비교\" data-toc-modified-id=\"시그모이드-함수와-계단-함수-비교-2.5\"><span class=\"toc-item-num\">2.5&nbsp;&nbsp;</span>시그모이드 함수와 계단 함수 비교</a></span></li><li><span><a href=\"#비선형-함수\" data-toc-modified-id=\"비선형-함수-2.6\"><span class=\"toc-item-num\">2.6&nbsp;&nbsp;</span>비선형 함수</a></span></li><li><span><a href=\"#ReLU-함수\" data-toc-modified-id=\"ReLU-함수-2.7\"><span class=\"toc-item-num\">2.7&nbsp;&nbsp;</span>ReLU 함수</a></span></li></ul></li><li><span><a href=\"#다차원-배열의-계산-(p77)\" data-toc-modified-id=\"다차원-배열의-계산-(p77)-3\"><span class=\"toc-item-num\">3&nbsp;&nbsp;</span>다차원 배열의 계산 (p77)</a></span><ul class=\"toc-item\"><li><span><a href=\"#다차원-배열\" data-toc-modified-id=\"다차원-배열-3.1\"><span class=\"toc-item-num\">3.1&nbsp;&nbsp;</span>다차원 배열</a></span></li><li><span><a href=\"#행렬의-곱\" data-toc-modified-id=\"행렬의-곱-3.2\"><span class=\"toc-item-num\">3.2&nbsp;&nbsp;</span>행렬의 곱</a></span></li><li><span><a href=\"#신경망에서의-행렬-곱\" data-toc-modified-id=\"신경망에서의-행렬-곱-3.3\"><span class=\"toc-item-num\">3.3&nbsp;&nbsp;</span>신경망에서의 행렬 곱</a></span></li></ul></li><li><span><a href=\"#3층-신경망-구현하기-(p83)\" data-toc-modified-id=\"3층-신경망-구현하기-(p83)-4\"><span class=\"toc-item-num\">4&nbsp;&nbsp;</span>3층 신경망 구현하기 (p83)</a></span><ul class=\"toc-item\"><li><span><a href=\"#표기법-설명\" data-toc-modified-id=\"표기법-설명-4.1\"><span class=\"toc-item-num\">4.1&nbsp;&nbsp;</span>표기법 설명</a></span></li><li><span><a href=\"#각-층의-신호-전달-구현하기\" data-toc-modified-id=\"각-층의-신호-전달-구현하기-4.2\"><span class=\"toc-item-num\">4.2&nbsp;&nbsp;</span>각 층의 신호 전달 구현하기</a></span><ul class=\"toc-item\"><li><span><a href=\"#입력층에서-1층으로\" data-toc-modified-id=\"입력층에서-1층으로-4.2.1\"><span class=\"toc-item-num\">4.2.1&nbsp;&nbsp;</span>입력층에서 1층으로</a></span></li><li><span><a href=\"#1층에서-2층으로\" data-toc-modified-id=\"1층에서-2층으로-4.2.2\"><span class=\"toc-item-num\">4.2.2&nbsp;&nbsp;</span>1층에서 2층으로</a></span></li><li><span><a href=\"#2층에서-출력층으로\" data-toc-modified-id=\"2층에서-출력층으로-4.2.3\"><span class=\"toc-item-num\">4.2.3&nbsp;&nbsp;</span>2층에서 출력층으로</a></span></li></ul></li><li><span><a href=\"#구현-정리\" data-toc-modified-id=\"구현-정리-4.3\"><span class=\"toc-item-num\">4.3&nbsp;&nbsp;</span>구현 정리</a></span></li></ul></li><li><span><a href=\"#출력층-설계하기-(p90)\" data-toc-modified-id=\"출력층-설계하기-(p90)-5\"><span class=\"toc-item-num\">5&nbsp;&nbsp;</span>출력층 설계하기 (p90)</a></span><ul class=\"toc-item\"><li><span><a href=\"#항등-함수와-소프트맥스-함수-구현하기\" data-toc-modified-id=\"항등-함수와-소프트맥스-함수-구현하기-5.1\"><span class=\"toc-item-num\">5.1&nbsp;&nbsp;</span>항등 함수와 소프트맥스 함수 구현하기</a></span><ul class=\"toc-item\"><li><span><a href=\"#회귀를-위한-항등함수\" data-toc-modified-id=\"회귀를-위한-항등함수-5.1.1\"><span class=\"toc-item-num\">5.1.1&nbsp;&nbsp;</span>회귀를 위한 항등함수</a></span></li><li><span><a href=\"#분류를-위한-소프트맥스\" data-toc-modified-id=\"분류를-위한-소프트맥스-5.1.2\"><span class=\"toc-item-num\">5.1.2&nbsp;&nbsp;</span>분류를 위한 소프트맥스</a></span></li></ul></li><li><span><a href=\"#소프트맥스-함수-구현-시-주의-점\" data-toc-modified-id=\"소프트맥스-함수-구현-시-주의-점-5.2\"><span class=\"toc-item-num\">5.2&nbsp;&nbsp;</span>소프트맥스 함수 구현 시 주의 점</a></span></li><li><span><a href=\"#소프트맥스-함수의-특징\" data-toc-modified-id=\"소프트맥스-함수의-특징-5.3\"><span class=\"toc-item-num\">5.3&nbsp;&nbsp;</span>소프트맥스 함수의 특징</a></span></li><li><span><a href=\"#출력층의-뉴런-수-정하기\" data-toc-modified-id=\"출력층의-뉴런-수-정하기-5.4\"><span class=\"toc-item-num\">5.4&nbsp;&nbsp;</span>출력층의 뉴런 수 정하기</a></span></li></ul></li><li><span><a href=\"#손글씨-숫자-인식-(p96)\" data-toc-modified-id=\"손글씨-숫자-인식-(p96)-6\"><span class=\"toc-item-num\">6&nbsp;&nbsp;</span>손글씨 숫자 인식 (p96)</a></span><ul class=\"toc-item\"><li><span><a href=\"#MNIST-데이터셋\" data-toc-modified-id=\"MNIST-데이터셋-6.1\"><span class=\"toc-item-num\">6.1&nbsp;&nbsp;</span>MNIST 데이터셋</a></span></li><li><span><a href=\"#신경망의-추론-처리\" data-toc-modified-id=\"신경망의-추론-처리-6.2\"><span class=\"toc-item-num\">6.2&nbsp;&nbsp;</span>신경망의 추론 처리</a></span></li><li><span><a href=\"#배치-처리\" data-toc-modified-id=\"배치-처리-6.3\"><span class=\"toc-item-num\">6.3&nbsp;&nbsp;</span>배치 처리</a></span></li></ul></li><li><span><a href=\"#3장-정리-(p105)\" data-toc-modified-id=\"3장-정리-(p105)-7\"><span class=\"toc-item-num\">7&nbsp;&nbsp;</span>3장 정리 (p105)</a></span></li><li><span><a href=\"#참고\" data-toc-modified-id=\"참고-8\"><span class=\"toc-item-num\">8&nbsp;&nbsp;</span>참고</a></span></li></ul></div>"
   ]
  },
  {
   "cell_type": "markdown",
   "metadata": {},
   "source": [
    "> 내용 출처 : [WegraLee GitHub](https://github.com/WegraLee/deep-learning-from-scratch/blob/master/ch03/README.md)\n",
    "\n",
    "- 앞 장 배운 퍼셉트론 관련해서는 좋은 소식과 나쁜 소식이 있었습니다.\n",
    "- 좋은 소식은 퍼셉트론으로 복잡한 함수도 표현할 수 있다는 것입니다.\n",
    "- 그 예로 컴퓨터가 수행하는 복잡한 처리도 퍼셉트론으로 (이론상) 표현할 수 있음을 앞 장에서 설명했습니다.\n",
    "- 나쁜 소식은 가중치를 설정하는 작업(원하는 결과를 출력하도록 가중치 값을 적절히 정하는 작업)은 여전히 사람이 수동으로 한다는 것입니다.\n",
    "- 앞 장에서는 AND, OR 게이트의 진리표를 보면서 우리 인간이 적절한 가중치 값을 정했습니다.\n",
    "\n",
    "- 신경망은 이 나쁜 소식을 해결해줍니다.\n",
    "- 무슨 말인고 하니, 가중치 매개변수의 적절한 값을 데이터로부터 자동으로 학습하는 능력이 이제부터 살펴볼 신경망의 중요한 성질입니다.\n",
    "\n",
    "- **이번 장에서는 신경망의 개요를 설명**하고, **신경망이 입력 데이터가 무엇인지 식별하는 처리 과정**을 자세히 알아봅니다.\n",
    "- 아쉽지만 데이터에서 **가중치 매개변수 값을 학습하는 방법은 다음 장까지** 기다리셔야 합니다."
   ]
  },
  {
   "cell_type": "code",
   "execution_count": 1,
   "metadata": {
    "ExecuteTime": {
     "end_time": "2019-07-20T08:14:16.808246Z",
     "start_time": "2019-07-20T08:14:16.296520Z"
    }
   },
   "outputs": [],
   "source": [
    "# coding: utf-8\n",
    "import numpy as np\n",
    "import matplotlib as mpl\n",
    "import matplotlib.pyplot as plt\n",
    "\n",
    "mpl.rcParams['font.family'] = 'AppleGothic' # mac에서는 한글이 나오게 하기 위해서\n",
    "mpl.rcParams['axes.unicode_minus'] = False"
   ]
  },
  {
   "cell_type": "markdown",
   "metadata": {},
   "source": [
    "---\n",
    "\n",
    "## 퍼셉트론에서 신경망으로 (p64)"
   ]
  },
  {
   "cell_type": "markdown",
   "metadata": {},
   "source": [
    "### 신경망의 예\n",
    "\n",
    "![](https://t1.daumcdn.net/cfile/tistory/2117013E5928016429)\n",
    "> 이미지 출처 : Enough is not enough - 티스토리\n",
    "- 책에서는 위와 같은 구조는 3층이 아닌 2층 신경망 구조라고 부르기로 함"
   ]
  },
  {
   "cell_type": "markdown",
   "metadata": {},
   "source": [
    "### 퍼셉트론 복습\n",
    "- **퍼셉트론(perceptron)** : 다수의 신호를 입력으로 받아 하나의 신호로 출력\n",
    "- 더 자세한 내용은 앞장의 내용 참고하자"
   ]
  },
  {
   "cell_type": "markdown",
   "metadata": {},
   "source": [
    "### 활성화 함수의 등장\n",
    "\n",
    "- **활성화 함수(activation function)** : 입력 신호의 총합을 출력 신호로 변환하는 함수\n",
    "- 뉴런과 노드는 이제 같은 의믜로 하자"
   ]
  },
  {
   "cell_type": "markdown",
   "metadata": {},
   "source": [
    "---\n",
    "\n",
    "## 활성화 함수 (p68)\n",
    "\n",
    "- 활성화 함수는 임계값을 경계로 출력함\n",
    "- 활성화 함수로 쓸 수 있는 여러 후보 중에서 퍼셉트론은 계단 함수를 선택\n",
    "- 활성화 함수를 **계단 함수에서 다른 함수(시그모이드,ReLU 등)로 변경**하는게 사실상 핵심!!"
   ]
  },
  {
   "cell_type": "markdown",
   "metadata": {},
   "source": [
    "### 시그모이드 함수\n",
    "\n",
    "$$ h(x) = \\frac{1}{1 + exp(-x)} $$\n",
    "\n",
    "- 신경망에서 자주 이용하는 함수 중 하나"
   ]
  },
  {
   "cell_type": "markdown",
   "metadata": {},
   "source": [
    "### 계단 함수 구현하기\n",
    "\n",
    "```python\n",
    "def step_function(x):\n",
    "    if x>0:\n",
    "        return 1\n",
    "    else:\n",
    "        return 0\n",
    "```"
   ]
  },
  {
   "cell_type": "markdown",
   "metadata": {},
   "source": [
    "### 계단 함수의 그래프"
   ]
  },
  {
   "cell_type": "code",
   "execution_count": 2,
   "metadata": {
    "ExecuteTime": {
     "end_time": "2019-07-20T08:14:16.812820Z",
     "start_time": "2019-07-20T08:14:16.810176Z"
    }
   },
   "outputs": [],
   "source": [
    "def step_function(x):\n",
    "    return np.array(x > 0, dtype=np.int) # numpy array을 지원하기 위해서 수정"
   ]
  },
  {
   "cell_type": "code",
   "execution_count": 3,
   "metadata": {
    "ExecuteTime": {
     "end_time": "2019-07-20T08:14:16.820375Z",
     "start_time": "2019-07-20T08:14:16.814701Z"
    }
   },
   "outputs": [
    {
     "data": {
      "text/plain": [
       "array([False,  True])"
      ]
     },
     "execution_count": 3,
     "metadata": {},
     "output_type": "execute_result"
    }
   ],
   "source": [
    "# 참고로 numpy 연산할때\n",
    "x = np.array([-1.0,1.0])\n",
    "y = x > 0 # 0 이상인 것들만 True로\n",
    "y"
   ]
  },
  {
   "cell_type": "code",
   "execution_count": 4,
   "metadata": {
    "ExecuteTime": {
     "end_time": "2019-07-20T08:14:17.022735Z",
     "start_time": "2019-07-20T08:14:16.821982Z"
    }
   },
   "outputs": [
    {
     "data": {
      "image/png": "[encoded data removed]",
      "text/plain": [
       "<Figure size 432x288 with 1 Axes>"
      ]
     },
     "metadata": {
      "needs_background": "light"
     },
     "output_type": "display_data"
    }
   ],
   "source": [
    "X = np.arange(-5.0, 5.0, 0.1)\n",
    "Y = step_function(X)\n",
    "plt.plot(X, Y)\n",
    "plt.ylim(-0.1, 1.1)  # y축의 범위 지정\n",
    "plt.title('계단 함수')\n",
    "plt.show()"
   ]
  },
  {
   "cell_type": "markdown",
   "metadata": {},
   "source": [
    "### 시그모이드 함수 구현하기"
   ]
  },
  {
   "cell_type": "code",
   "execution_count": 5,
   "metadata": {
    "ExecuteTime": {
     "end_time": "2019-07-20T08:14:17.027262Z",
     "start_time": "2019-07-20T08:14:17.024247Z"
    }
   },
   "outputs": [],
   "source": [
    "def sigmoid(x):\n",
    "    return 1 / (1 + np.exp(-x))    "
   ]
  },
  {
   "cell_type": "code",
   "execution_count": 6,
   "metadata": {
    "ExecuteTime": {
     "end_time": "2019-07-20T08:14:17.131650Z",
     "start_time": "2019-07-20T08:14:17.028933Z"
    }
   },
   "outputs": [
    {
     "data": {
      "image/png": "[encoded data removed]",
      "text/plain": [
       "<Figure size 432x288 with 1 Axes>"
      ]
     },
     "metadata": {
      "needs_background": "light"
     },
     "output_type": "display_data"
    }
   ],
   "source": [
    "X = np.arange(-5.0, 5.0, 0.1)\n",
    "Y = sigmoid(X)\n",
    "plt.plot(X, Y)\n",
    "plt.ylim(-0.1, 1.1)\n",
    "plt.title('시그모이드 함수')\n",
    "plt.show()"
   ]
  },
  {
   "cell_type": "markdown",
   "metadata": {},
   "source": [
    "### 시그모이드 함수와 계단 함수 비교"
   ]
  },
  {
   "cell_type": "code",
   "execution_count": 7,
   "metadata": {
    "ExecuteTime": {
     "end_time": "2019-07-20T08:14:17.240476Z",
     "start_time": "2019-07-20T08:14:17.134508Z"
    }
   },
   "outputs": [
    {
     "data": {
      "image/png": "[encoded data removed]",
      "text/plain": [
       "<Figure size 432x288 with 1 Axes>"
      ]
     },
     "metadata": {
      "needs_background": "light"
     },
     "output_type": "display_data"
    }
   ],
   "source": [
    "X = np.arange(-5.0, 5.0, 0.1)\n",
    "Y_sig = sigmoid(X)\n",
    "Y_step = step_function(X)\n",
    "plt.plot(X, Y_sig)\n",
    "plt.plot(X, Y_step,linestyle='--')\n",
    "plt.title('시그모이드 함수 vs 계단 함수')\n",
    "plt.show()"
   ]
  },
  {
   "cell_type": "markdown",
   "metadata": {},
   "source": [
    "### 비선형 함수\n",
    "\n",
    "- 중요한 공통점 : 계단함수든 시그모이드함수든 모두 **비선형 함수**라는 사실\n",
    "- 신경망에서는 활성화 함수로 비선형 함수를 사용해야 함\n",
    "- 활성화 함수로 선형 함수를 선택하면 층이 깊어질 수 없음\n",
    "> $$ h(x) = cx $$\n",
    "> $$ h(h(h(x))) = c(c(cx)) $$"
   ]
  },
  {
   "cell_type": "markdown",
   "metadata": {},
   "source": [
    "### ReLU 함수\n",
    "- ReLU : Rectified Linear Unit\n",
    "- 입력이 0을 넘으면 그 입력을 그대로 출력하고, 0 이하이면 0을 출력하는 함수 \n",
    "\n",
    "$ h(x) = \\left\\{\\begin{matrix}\n",
    "x ( x > 0 ))\n",
    "\\\\ \n",
    "0 (x \\leq 0))\n",
    "\\end{matrix}\\right. $"
   ]
  },
  {
   "cell_type": "code",
   "execution_count": 8,
   "metadata": {
    "ExecuteTime": {
     "end_time": "2019-07-20T08:14:17.244850Z",
     "start_time": "2019-07-20T08:14:17.242433Z"
    }
   },
   "outputs": [],
   "source": [
    "def relu(x):\n",
    "    return np.maximum(0, x)"
   ]
  },
  {
   "cell_type": "code",
   "execution_count": 9,
   "metadata": {
    "ExecuteTime": {
     "end_time": "2019-07-20T08:14:17.260487Z",
     "start_time": "2019-07-20T08:14:17.246239Z"
    }
   },
   "outputs": [
    {
     "data": {
      "text/plain": [
       "array([0, 0, 0, 0, 0, 0, 0, 0, 0, 0, 0, 1, 2, 3, 4, 5, 6, 7, 8, 9])"
      ]
     },
     "execution_count": 9,
     "metadata": {},
     "output_type": "execute_result"
    }
   ],
   "source": [
    "x = np.arange(-10,10)\n",
    "np.maximum(0,x)"
   ]
  },
  {
   "cell_type": "code",
   "execution_count": 10,
   "metadata": {
    "ExecuteTime": {
     "end_time": "2019-07-20T08:14:17.367614Z",
     "start_time": "2019-07-20T08:14:17.261872Z"
    }
   },
   "outputs": [
    {
     "data": {
      "image/png": "[encoded data removed]",
      "text/plain": [
       "<Figure size 432x288 with 1 Axes>"
      ]
     },
     "metadata": {
      "needs_background": "light"
     },
     "output_type": "display_data"
    }
   ],
   "source": [
    "x = np.arange(-5.0, 5.0, 0.1)\n",
    "y = relu(x)\n",
    "plt.plot(x, y)\n",
    "plt.ylim(-1.0, 5.5)\n",
    "plt.title('ReLU')\n",
    "plt.show()"
   ]
  },
  {
   "cell_type": "markdown",
   "metadata": {},
   "source": [
    "---\n",
    "\n",
    "## 다차원 배열의 계산 (p77)"
   ]
  },
  {
   "cell_type": "markdown",
   "metadata": {},
   "source": [
    "### 다차원 배열"
   ]
  },
  {
   "cell_type": "code",
   "execution_count": 11,
   "metadata": {
    "ExecuteTime": {
     "end_time": "2019-07-20T08:14:17.373401Z",
     "start_time": "2019-07-20T08:14:17.369467Z"
    }
   },
   "outputs": [
    {
     "name": "stdout",
     "output_type": "stream",
     "text": [
      "[1 2 3 4]\n"
     ]
    }
   ],
   "source": [
    "A = np.array([1,2,3,4])\n",
    "print(A)"
   ]
  },
  {
   "cell_type": "code",
   "execution_count": 12,
   "metadata": {
    "ExecuteTime": {
     "end_time": "2019-07-20T08:14:17.379081Z",
     "start_time": "2019-07-20T08:14:17.375321Z"
    }
   },
   "outputs": [
    {
     "data": {
      "text/plain": [
       "1"
      ]
     },
     "execution_count": 12,
     "metadata": {},
     "output_type": "execute_result"
    }
   ],
   "source": [
    "np.ndim(A)"
   ]
  },
  {
   "cell_type": "code",
   "execution_count": 13,
   "metadata": {
    "ExecuteTime": {
     "end_time": "2019-07-20T08:14:17.384786Z",
     "start_time": "2019-07-20T08:14:17.380655Z"
    }
   },
   "outputs": [
    {
     "data": {
      "text/plain": [
       "(4,)"
      ]
     },
     "execution_count": 13,
     "metadata": {},
     "output_type": "execute_result"
    }
   ],
   "source": [
    "A.shape # tuple 형태임을 조심하자"
   ]
  },
  {
   "cell_type": "code",
   "execution_count": 14,
   "metadata": {
    "ExecuteTime": {
     "end_time": "2019-07-20T08:14:17.389911Z",
     "start_time": "2019-07-20T08:14:17.386420Z"
    }
   },
   "outputs": [
    {
     "data": {
      "text/plain": [
       "4"
      ]
     },
     "execution_count": 14,
     "metadata": {},
     "output_type": "execute_result"
    }
   ],
   "source": [
    "A.shape[0]"
   ]
  },
  {
   "cell_type": "markdown",
   "metadata": {},
   "source": [
    "### 행렬의 곱"
   ]
  },
  {
   "cell_type": "code",
   "execution_count": 15,
   "metadata": {
    "ExecuteTime": {
     "end_time": "2019-07-20T08:14:17.396989Z",
     "start_time": "2019-07-20T08:14:17.391402Z"
    }
   },
   "outputs": [
    {
     "data": {
      "text/plain": [
       "array([[19, 22],\n",
       "       [43, 50]])"
      ]
     },
     "execution_count": 15,
     "metadata": {},
     "output_type": "execute_result"
    }
   ],
   "source": [
    "A = np.array([[1,2],\n",
    "              [3,4]])\n",
    "B = np.array([[5,6],\n",
    "              [7,8]])\n",
    "np.dot(A,B)"
   ]
  },
  {
   "cell_type": "markdown",
   "metadata": {},
   "source": [
    "### 신경망에서의 행렬 곱\n",
    "![](https://t1.daumcdn.net/cfile/tistory/992F0D3359E6FFD404)\n",
    "> 이미지 출처 : 문과생도 이해하는 딥러닝 (2) - 신경망 Neural Network"
   ]
  },
  {
   "cell_type": "markdown",
   "metadata": {},
   "source": [
    "---\n",
    "\n",
    "## 3층 신경망 구현하기 (p83)"
   ]
  },
  {
   "cell_type": "markdown",
   "metadata": {},
   "source": [
    "### 표기법 설명\n",
    "- 자세한 설명은 책을 참고하자"
   ]
  },
  {
   "cell_type": "markdown",
   "metadata": {},
   "source": [
    "### 각 층의 신호 전달 구현하기"
   ]
  },
  {
   "cell_type": "markdown",
   "metadata": {},
   "source": [
    "#### 입력층에서 1층으로"
   ]
  },
  {
   "cell_type": "code",
   "execution_count": 16,
   "metadata": {
    "ExecuteTime": {
     "end_time": "2019-07-20T08:14:17.401949Z",
     "start_time": "2019-07-20T08:14:17.398413Z"
    }
   },
   "outputs": [],
   "source": [
    "X = np.array([1.0, 0.5])\n",
    "W1 = np.array([[0.1,0.3,0.5],\n",
    "               [0.2,0.4,0.6]])\n",
    "B1 = np.array([0.1,0.2,0.3])"
   ]
  },
  {
   "cell_type": "code",
   "execution_count": 17,
   "metadata": {
    "ExecuteTime": {
     "end_time": "2019-07-20T08:14:17.407124Z",
     "start_time": "2019-07-20T08:14:17.403476Z"
    }
   },
   "outputs": [
    {
     "name": "stdout",
     "output_type": "stream",
     "text": [
      "(2, 3)\n",
      "(2,)\n",
      "(3,)\n"
     ]
    }
   ],
   "source": [
    "print(W1.shape)\n",
    "print(X.shape)\n",
    "print(B1.shape)"
   ]
  },
  {
   "cell_type": "code",
   "execution_count": 18,
   "metadata": {
    "ExecuteTime": {
     "end_time": "2019-07-20T08:14:17.413074Z",
     "start_time": "2019-07-20T08:14:17.408644Z"
    }
   },
   "outputs": [
    {
     "data": {
      "text/plain": [
       "array([0.3, 0.7, 1.1])"
      ]
     },
     "execution_count": 18,
     "metadata": {},
     "output_type": "execute_result"
    }
   ],
   "source": [
    "A1 = np.dot(X,W1) + B1\n",
    "A1"
   ]
  },
  {
   "cell_type": "code",
   "execution_count": 19,
   "metadata": {
    "ExecuteTime": {
     "end_time": "2019-07-20T08:14:17.418396Z",
     "start_time": "2019-07-20T08:14:17.414584Z"
    }
   },
   "outputs": [
    {
     "name": "stdout",
     "output_type": "stream",
     "text": [
      "[0.3 0.7 1.1]\n",
      "[0.57444252 0.66818777 0.75026011]\n"
     ]
    }
   ],
   "source": [
    "Z1 = sigmoid(A1)\n",
    "print(A1)\n",
    "print(Z1)"
   ]
  },
  {
   "cell_type": "markdown",
   "metadata": {},
   "source": [
    "#### 1층에서 2층으로"
   ]
  },
  {
   "cell_type": "code",
   "execution_count": 20,
   "metadata": {
    "ExecuteTime": {
     "end_time": "2019-07-20T08:14:17.423087Z",
     "start_time": "2019-07-20T08:14:17.419965Z"
    }
   },
   "outputs": [],
   "source": [
    "W2 = np.array([[0.1,0.4],\n",
    "               [0.2,0.5],\n",
    "               [0.3,0.6]])\n",
    "B2 = np.array([0.1,0.2])"
   ]
  },
  {
   "cell_type": "code",
   "execution_count": 21,
   "metadata": {
    "ExecuteTime": {
     "end_time": "2019-07-20T08:14:17.428337Z",
     "start_time": "2019-07-20T08:14:17.424667Z"
    }
   },
   "outputs": [
    {
     "name": "stdout",
     "output_type": "stream",
     "text": [
      "(3,)\n",
      "(3, 2)\n",
      "(2,)\n"
     ]
    }
   ],
   "source": [
    "print(Z1.shape)\n",
    "print(W2.shape)\n",
    "print(B2.shape)"
   ]
  },
  {
   "cell_type": "code",
   "execution_count": 22,
   "metadata": {
    "ExecuteTime": {
     "end_time": "2019-07-20T08:14:17.436371Z",
     "start_time": "2019-07-20T08:14:17.432453Z"
    }
   },
   "outputs": [
    {
     "data": {
      "text/plain": [
       "array([0.51615984, 1.21402696])"
      ]
     },
     "execution_count": 22,
     "metadata": {},
     "output_type": "execute_result"
    }
   ],
   "source": [
    "A2 = np.dot(Z1,W2) + B2\n",
    "A2"
   ]
  },
  {
   "cell_type": "code",
   "execution_count": 23,
   "metadata": {
    "ExecuteTime": {
     "end_time": "2019-07-20T08:14:17.443038Z",
     "start_time": "2019-07-20T08:14:17.439459Z"
    }
   },
   "outputs": [
    {
     "data": {
      "text/plain": [
       "array([0.62624937, 0.7710107 ])"
      ]
     },
     "execution_count": 23,
     "metadata": {},
     "output_type": "execute_result"
    }
   ],
   "source": [
    "Z2 = sigmoid(A2)\n",
    "Z2"
   ]
  },
  {
   "cell_type": "markdown",
   "metadata": {},
   "source": [
    "#### 2층에서 출력층으로"
   ]
  },
  {
   "cell_type": "code",
   "execution_count": 24,
   "metadata": {
    "ExecuteTime": {
     "end_time": "2019-07-20T08:14:17.446672Z",
     "start_time": "2019-07-20T08:14:17.444455Z"
    }
   },
   "outputs": [],
   "source": [
    "def identity_function(x):\n",
    "    return x"
   ]
  },
  {
   "cell_type": "code",
   "execution_count": 25,
   "metadata": {
    "ExecuteTime": {
     "end_time": "2019-07-20T08:14:17.451462Z",
     "start_time": "2019-07-20T08:14:17.448200Z"
    }
   },
   "outputs": [],
   "source": [
    "W3 = np.array([[0.1,0.3],\n",
    "               [0.2,0.4]])\n",
    "B3 = np.array([0.1,0.2])"
   ]
  },
  {
   "cell_type": "code",
   "execution_count": 26,
   "metadata": {
    "ExecuteTime": {
     "end_time": "2019-07-20T08:14:17.456904Z",
     "start_time": "2019-07-20T08:14:17.453080Z"
    }
   },
   "outputs": [
    {
     "data": {
      "text/plain": [
       "array([0.31682708, 0.69627909])"
      ]
     },
     "execution_count": 26,
     "metadata": {},
     "output_type": "execute_result"
    }
   ],
   "source": [
    "A3 = np.dot(Z2,W3) + B3\n",
    "A3"
   ]
  },
  {
   "cell_type": "code",
   "execution_count": 27,
   "metadata": {
    "ExecuteTime": {
     "end_time": "2019-07-20T08:14:17.461820Z",
     "start_time": "2019-07-20T08:14:17.458351Z"
    }
   },
   "outputs": [
    {
     "data": {
      "text/plain": [
       "array([0.31682708, 0.69627909])"
      ]
     },
     "execution_count": 27,
     "metadata": {},
     "output_type": "execute_result"
    }
   ],
   "source": [
    "Y = identity_function(A3)\n",
    "Y"
   ]
  },
  {
   "cell_type": "markdown",
   "metadata": {},
   "source": [
    "### 구현 정리"
   ]
  },
  {
   "cell_type": "code",
   "execution_count": 28,
   "metadata": {
    "ExecuteTime": {
     "end_time": "2019-07-20T08:14:17.467993Z",
     "start_time": "2019-07-20T08:14:17.463197Z"
    }
   },
   "outputs": [],
   "source": [
    "def init_network():\n",
    "    network = {}\n",
    "    network['W1'] = np.array([[0.1,0.3,0.5],\n",
    "                              [0.2,0.4,0.6]])\n",
    "    network['b1'] = np.array([0.1,0.2,0.3])\n",
    "    network['W2'] = np.array([[0.1,0.4],\n",
    "                              [0.2,0.5],\n",
    "                              [0.3,0.6]])\n",
    "    network['b2'] = np.array([0.1,0.2])\n",
    "    network['W3'] = np.array([[0.1,0.3],\n",
    "                              [0.2,0.4]])\n",
    "    network['b3'] = np.array([0.1,0.2])\n",
    "    return network"
   ]
  },
  {
   "cell_type": "code",
   "execution_count": 29,
   "metadata": {
    "ExecuteTime": {
     "end_time": "2019-07-20T08:14:17.473453Z",
     "start_time": "2019-07-20T08:14:17.469394Z"
    }
   },
   "outputs": [],
   "source": [
    "def forward(network, x):\n",
    "    W1, W2, W3 = network['W1'], network['W2'], network['W3']\n",
    "    b1, b2, b3 = network['b1'], network['b2'], network['b3']\n",
    "    \n",
    "    # 입력층에서 1층으로\n",
    "    a1 = np.dot(x,W1) + b1\n",
    "    z1 = sigmoid(a1)\n",
    "    \n",
    "    # 1층에서 2층으로\n",
    "    a2 = np.dot(z1,W2) + b2\n",
    "    z2 = sigmoid(a2)\n",
    "    \n",
    "    # 2층에서 출력층으로\n",
    "    a3 = np.dot(z2,W3) + b3\n",
    "    y = identity_function(a3)\n",
    "    \n",
    "    return y"
   ]
  },
  {
   "cell_type": "code",
   "execution_count": 30,
   "metadata": {
    "ExecuteTime": {
     "end_time": "2019-07-20T08:14:17.478974Z",
     "start_time": "2019-07-20T08:14:17.474774Z"
    }
   },
   "outputs": [
    {
     "data": {
      "text/plain": [
       "array([0.31682708, 0.69627909])"
      ]
     },
     "execution_count": 30,
     "metadata": {},
     "output_type": "execute_result"
    }
   ],
   "source": [
    "network = init_network()\n",
    "x = np.array([1.0, 0.5]) # 입력을 각각 1.0, 0.5 를 줄 경우\n",
    "y = forward(network,x)\n",
    "y # 위에서 구했던 값과 동일한 것을 볼 수 있음"
   ]
  },
  {
   "cell_type": "markdown",
   "metadata": {},
   "source": [
    "---\n",
    "\n",
    "## 출력층 설계하기 (p90)\n",
    "- 신경망은 `분류`와 `회귀` 모두 이용가능\n",
    "    - 분류 : 데이터가 어느 클래스에 속하느냐\n",
    "    - 회귀 : 입력 데이터에서 연속적인 수치를 예측하는 문제\n",
    "- 회귀일 경우 `항등 함수`를 사용\n",
    "- 분류일 경우 `소프트맥스 함수`를 사용"
   ]
  },
  {
   "cell_type": "markdown",
   "metadata": {},
   "source": [
    "### 항등 함수와 소프트맥스 함수 구현하기"
   ]
  },
  {
   "cell_type": "markdown",
   "metadata": {},
   "source": [
    "#### 회귀를 위한 항등함수\n",
    "- 입력을 그대로 출력함"
   ]
  },
  {
   "cell_type": "markdown",
   "metadata": {},
   "source": [
    "#### 분류를 위한 소프트맥스\n",
    "\n",
    "$$ y_k = \\frac{exp(a_k)}{\\sum exp(a_i)} $$"
   ]
  },
  {
   "cell_type": "markdown",
   "metadata": {},
   "source": [
    "### 소프트맥스 함수 구현 시 주의 점\n",
    "- 소프트 맥스의 지수함수를 계산할 때 어떤 정수를 더해도 결과가 바뀌지 않음\n",
    "- 이걸 통해서 컴퓨터가 가지고 있는 한계를 극복\n",
    "- 컴퓨터는 큰 수를 계산할 때 (특히 큰 수에 대한 나눗셈)에서 오버플로우 문제가 생길 수 있음\n",
    "- 핵심은 **입력 신호 중 최댓값으로 빼주면 오버플로우 문제를 극복**가능"
   ]
  },
  {
   "cell_type": "code",
   "execution_count": 31,
   "metadata": {
    "ExecuteTime": {
     "end_time": "2019-07-20T08:14:17.483628Z",
     "start_time": "2019-07-20T08:14:17.480352Z"
    }
   },
   "outputs": [],
   "source": [
    "def softmax(x):\n",
    "    sig_max = np.max(x)\n",
    "    exp_x = np.exp(x - sig_max) # 최댓값으로 빼서 오버플로우를 방지함\n",
    "    sum_exp_x = np.sum(exp_x)\n",
    "    y = exp_x / sum_exp_x\n",
    "    return y"
   ]
  },
  {
   "cell_type": "markdown",
   "metadata": {},
   "source": [
    "### 소프트맥스 함수의 특징\n",
    "- 결국 소프트맥스의 출력은 `확률`과 유사하게 사용가능\n",
    "- 각 원소의 대소 관계는 바뀌지 않음 (소프트맥스가 단조증가함수이므로)\n",
    "- 현업에서는 신경망으로 분류할 때, 출력층의 소프트맥스 함수를 생략하기도 함"
   ]
  },
  {
   "cell_type": "code",
   "execution_count": 32,
   "metadata": {
    "ExecuteTime": {
     "end_time": "2019-07-20T08:14:17.490875Z",
     "start_time": "2019-07-20T08:14:17.485199Z"
    }
   },
   "outputs": [
    {
     "data": {
      "text/plain": [
       "array([0.01821127, 0.24519181, 0.73659691])"
      ]
     },
     "execution_count": 32,
     "metadata": {},
     "output_type": "execute_result"
    }
   ],
   "source": [
    "a = np.array([0.3, 2.9, 4.0])\n",
    "softmax(a)"
   ]
  },
  {
   "cell_type": "code",
   "execution_count": 33,
   "metadata": {
    "ExecuteTime": {
     "end_time": "2019-07-20T08:14:17.497663Z",
     "start_time": "2019-07-20T08:14:17.492725Z"
    }
   },
   "outputs": [
    {
     "data": {
      "text/plain": [
       "1.0"
      ]
     },
     "execution_count": 33,
     "metadata": {},
     "output_type": "execute_result"
    }
   ],
   "source": [
    "np.sum(softmax(a)) # 사실 당연하겠지?"
   ]
  },
  {
   "cell_type": "markdown",
   "metadata": {},
   "source": [
    "> 기계학습의 문제 풀이는 `학습`과 `추론`의 두 단계를 거쳐 이루어짐  \n",
    "> 학습 단계에서 모델을 학습하고, 추론 단계에서 앞서 학습한 모델로 미지의 데이터에 대해서 추론(분류)를 수행  \n",
    "> 추론 단계에서는 소프트맥스를 생략하기도 하지만, **학습 단계에서는 소프트맥스 함수를 사용함**"
   ]
  },
  {
   "cell_type": "markdown",
   "metadata": {},
   "source": [
    "### 출력층의 뉴런 수 정하기\n",
    "- 뉴런 수는 풀려는 문제에 맞게 적절히 정해야 함"
   ]
  },
  {
   "cell_type": "markdown",
   "metadata": {},
   "source": [
    "---\n",
    "\n",
    "## 손글씨 숫자 인식 (p96)\n",
    "\n",
    "- 이번 장에서는 추론 과정만 구현할 것 (즉 이미 가중치나 편향이 모두 학습되어 있다는 가정하에)\n",
    "- 이러한 과정을 신경망의 순전파(forward propagation)이라고 함\n",
    "\n",
    "![](https://www.researchgate.net/profile/Steven_Young11/publication/306056875/figure/fig1/AS:393921575309346@1470929630835/Example-images-from-the-MNIST-dataset.png)"
   ]
  },
  {
   "cell_type": "markdown",
   "metadata": {},
   "source": [
    "### MNIST 데이터셋"
   ]
  },
  {
   "cell_type": "code",
   "execution_count": 34,
   "metadata": {
    "ExecuteTime": {
     "end_time": "2019-07-20T08:14:17.509897Z",
     "start_time": "2019-07-20T08:14:17.499310Z"
    }
   },
   "outputs": [],
   "source": [
    "# coding: utf-8\n",
    "import sys, os\n",
    "import numpy as np\n",
    "import pickle\n",
    "from tqdm import tqdm\n",
    "from dataset.mnist import load_mnist # 해당 함수들을 한번 확인해보자\n",
    "from common.functions import sigmoid, softmax # 이건 미리 구현되어있는 함수들"
   ]
  },
  {
   "cell_type": "code",
   "execution_count": 35,
   "metadata": {
    "ExecuteTime": {
     "end_time": "2019-07-20T08:14:17.514308Z",
     "start_time": "2019-07-20T08:14:17.511213Z"
    }
   },
   "outputs": [],
   "source": [
    "# MNIST 데이터셋을 가져오기 위한 함수\n",
    "def get_data():\n",
    "    (x_train, t_train), (x_test, t_test) = load_mnist(normalize=True, # 원래 0~255 값을 갖는데 그걸 0.0 ~ 1.0 으로 변환\n",
    "                                                      flatten=True, # 28*28 데이터를 1*784로 한줄로 핌\n",
    "                                                      one_hot_label=False) # 원핫인코딩\n",
    "    return x_test, t_test"
   ]
  },
  {
   "cell_type": "code",
   "execution_count": 36,
   "metadata": {
    "ExecuteTime": {
     "end_time": "2019-07-20T08:14:17.518762Z",
     "start_time": "2019-07-20T08:14:17.515856Z"
    }
   },
   "outputs": [],
   "source": [
    "# 미리 학습된 가중치 가져오기\n",
    "def init_network():\n",
    "    with open(\"./ch03/sample_weight.pkl\", 'rb') as f:\n",
    "        network = pickle.load(f)\n",
    "    return network"
   ]
  },
  {
   "cell_type": "code",
   "execution_count": 37,
   "metadata": {
    "ExecuteTime": {
     "end_time": "2019-07-20T08:14:17.523998Z",
     "start_time": "2019-07-20T08:14:17.520056Z"
    }
   },
   "outputs": [],
   "source": [
    "# 가중치과 편향을 통해서 추론하는 함수\n",
    "def predict(network, x):\n",
    "    W1, W2, W3 = network['W1'], network['W2'], network['W3']\n",
    "    b1, b2, b3 = network['b1'], network['b2'], network['b3']\n",
    "\n",
    "    a1 = np.dot(x, W1) + b1\n",
    "    z1 = sigmoid(a1)\n",
    "    a2 = np.dot(z1, W2) + b2\n",
    "    z2 = sigmoid(a2)\n",
    "    a3 = np.dot(z2, W3) + b3\n",
    "    y = softmax(a3)\n",
    "\n",
    "    return y"
   ]
  },
  {
   "cell_type": "code",
   "execution_count": 38,
   "metadata": {
    "ExecuteTime": {
     "end_time": "2019-07-20T08:14:17.812211Z",
     "start_time": "2019-07-20T08:14:17.525955Z"
    }
   },
   "outputs": [],
   "source": [
    "x, t = get_data()\n",
    "network = init_network()\n",
    "accuracy_cnt = 0"
   ]
  },
  {
   "cell_type": "code",
   "execution_count": 39,
   "metadata": {
    "ExecuteTime": {
     "end_time": "2019-07-20T08:14:17.819114Z",
     "start_time": "2019-07-20T08:14:17.813838Z"
    }
   },
   "outputs": [
    {
     "data": {
      "text/plain": [
       "(10000, 784)"
      ]
     },
     "metadata": {},
     "output_type": "display_data"
    },
    {
     "data": {
      "text/plain": [
       "(10000,)"
      ]
     },
     "metadata": {},
     "output_type": "display_data"
    }
   ],
   "source": [
    "display(x.shape)\n",
    "display(t.shape)"
   ]
  },
  {
   "cell_type": "code",
   "execution_count": 40,
   "metadata": {
    "ExecuteTime": {
     "end_time": "2019-07-20T08:14:17.825384Z",
     "start_time": "2019-07-20T08:14:17.820424Z"
    }
   },
   "outputs": [
    {
     "name": "stdout",
     "output_type": "stream",
     "text": [
      "현재 MNIST에서 뽑아온 2331번째 데이터 : 6\n"
     ]
    }
   ],
   "source": [
    "idx = np.random.randint(0,10000,size=1)[0]\n",
    "print('현재 MNIST에서 뽑아온 {0}번째 데이터 : {1}'.format(idx,t[idx]))\n",
    "# x[idx].reshape(28,28) # 원래는 1*784 형태"
   ]
  },
  {
   "cell_type": "code",
   "execution_count": 41,
   "metadata": {
    "ExecuteTime": {
     "end_time": "2019-07-20T08:14:17.939558Z",
     "start_time": "2019-07-20T08:14:17.827128Z"
    }
   },
   "outputs": [
    {
     "data": {
      "image/png": "[encoded data removed]",
      "text/plain": [
       "<Figure size 432x288 with 1 Axes>"
      ]
     },
     "metadata": {
      "needs_background": "light"
     },
     "output_type": "display_data"
    }
   ],
   "source": [
    "# 보기 좋게 이미지 형태로 나타내자\n",
    "plt.imshow(x[idx].reshape(28,28))\n",
    "plt.title('{}의 데이터'.format(t[idx]))\n",
    "plt.show()"
   ]
  },
  {
   "cell_type": "markdown",
   "metadata": {},
   "source": [
    "### 신경망의 추론 처리"
   ]
  },
  {
   "cell_type": "code",
   "execution_count": 42,
   "metadata": {
    "ExecuteTime": {
     "end_time": "2019-07-20T08:14:18.343482Z",
     "start_time": "2019-07-20T08:14:17.941579Z"
    }
   },
   "outputs": [
    {
     "name": "stdout",
     "output_type": "stream",
     "text": [
      "0번째 데이터 추론 중\n",
      "예측 값 : 7\n",
      "실제 값 : 7 -> \u001b[1;32m정답\u001b[1;m\n",
      "--------------------------------------------------\n",
      "1000번째 데이터 추론 중\n",
      "예측 값 : 9\n",
      "실제 값 : 9 -> \u001b[1;32m정답\u001b[1;m\n",
      "--------------------------------------------------\n",
      "2000번째 데이터 추론 중\n",
      "예측 값 : 6\n",
      "실제 값 : 6 -> \u001b[1;32m정답\u001b[1;m\n",
      "--------------------------------------------------\n",
      "3000번째 데이터 추론 중\n",
      "예측 값 : 6\n",
      "실제 값 : 6 -> \u001b[1;32m정답\u001b[1;m\n",
      "--------------------------------------------------\n",
      "4000번째 데이터 추론 중\n",
      "예측 값 : 4\n",
      "실제 값 : 9 -> \u001b[1;31m오답\u001b[1;m\n",
      "--------------------------------------------------\n",
      "5000번째 데이터 추론 중\n",
      "예측 값 : 3\n",
      "실제 값 : 3 -> \u001b[1;32m정답\u001b[1;m\n",
      "--------------------------------------------------\n",
      "6000번째 데이터 추론 중\n",
      "예측 값 : 9\n",
      "실제 값 : 9 -> \u001b[1;32m정답\u001b[1;m\n",
      "--------------------------------------------------\n",
      "7000번째 데이터 추론 중\n",
      "예측 값 : 1\n",
      "실제 값 : 1 -> \u001b[1;32m정답\u001b[1;m\n",
      "--------------------------------------------------\n",
      "8000번째 데이터 추론 중\n",
      "예측 값 : 4\n",
      "실제 값 : 4 -> \u001b[1;32m정답\u001b[1;m\n",
      "--------------------------------------------------\n",
      "9000번째 데이터 추론 중\n",
      "예측 값 : 7\n",
      "실제 값 : 7 -> \u001b[1;32m정답\u001b[1;m\n",
      "--------------------------------------------------\n"
     ]
    }
   ],
   "source": [
    "accuracy_cnt = 0\n",
    "for i in range(len(x)):\n",
    "    y = predict(network, x[i])\n",
    "    p = np.argmax(y)  # 확률이 가장 높은 원소의 인덱스를 얻는다.\n",
    "    if i%1000 == 0:\n",
    "        print('{}번째 데이터 추론 중'.format(i))\n",
    "        print('예측 값 : {}'.format(p))\n",
    "        print('실제 값 : {}'.format(t[i]),end=' ')\n",
    "        if p == t[i]:\n",
    "            print('-> \\x1b[1;32m정답\\x1b[1;m')\n",
    "        else:\n",
    "            print('-> \\x1b[1;31m오답\\x1b[1;m')\n",
    "        print('-'*50)\n",
    "    if p == t[i]:\n",
    "        accuracy_cnt += 1"
   ]
  },
  {
   "cell_type": "code",
   "execution_count": 43,
   "metadata": {
    "ExecuteTime": {
     "end_time": "2019-07-20T08:14:18.348434Z",
     "start_time": "2019-07-20T08:14:18.345205Z"
    }
   },
   "outputs": [
    {
     "name": "stdout",
     "output_type": "stream",
     "text": [
      "Accuracy:0.9352\n"
     ]
    }
   ],
   "source": [
    "print(\"Accuracy:\" + str(float(accuracy_cnt) / len(x)))"
   ]
  },
  {
   "cell_type": "markdown",
   "metadata": {},
   "source": [
    "### 배치 처리\n",
    "- 입력 데이터와 가중치 매개변수의 shape에 주의하자!\n",
    "- **배치(batch)** : 하나로 묵은 입력 데이터, 묶음!!\n",
    "- 배치 처리하는 이유\n",
    "    - 이미지 1장당 처리 시간을 대폭 줄여줌\n",
    "    - 버스에 주는 부하를 줄여줌"
   ]
  },
  {
   "cell_type": "code",
   "execution_count": 44,
   "metadata": {
    "ExecuteTime": {
     "end_time": "2019-07-20T08:14:18.358607Z",
     "start_time": "2019-07-20T08:14:18.350559Z"
    }
   },
   "outputs": [
    {
     "data": {
      "text/plain": [
       "array([0, 1, 2, 3, 4, 5, 6, 7, 8, 9])"
      ]
     },
     "execution_count": 44,
     "metadata": {},
     "output_type": "execute_result"
    }
   ],
   "source": [
    "# batch를 써보기에 앞서 numpy 문법 연습\n",
    "x = np.arange(0,100)\n",
    "x[0:10]"
   ]
  },
  {
   "cell_type": "code",
   "execution_count": 45,
   "metadata": {
    "ExecuteTime": {
     "end_time": "2019-07-20T08:14:18.559929Z",
     "start_time": "2019-07-20T08:14:18.360503Z"
    }
   },
   "outputs": [
    {
     "data": {
      "text/plain": [
       "array([[0., 0., 0., ..., 0., 0., 0.],\n",
       "       [0., 0., 0., ..., 0., 0., 0.],\n",
       "       [0., 0., 0., ..., 0., 0., 0.],\n",
       "       ...,\n",
       "       [0., 0., 0., ..., 0., 0., 0.],\n",
       "       [0., 0., 0., ..., 0., 0., 0.],\n",
       "       [0., 0., 0., ..., 0., 0., 0.]], dtype=float32)"
      ]
     },
     "execution_count": 45,
     "metadata": {},
     "output_type": "execute_result"
    }
   ],
   "source": [
    "x_batch_ex = get_data()[0][0:10]\n",
    "x_batch_ex"
   ]
  },
  {
   "cell_type": "code",
   "execution_count": 46,
   "metadata": {
    "ExecuteTime": {
     "end_time": "2019-07-20T08:14:18.572462Z",
     "start_time": "2019-07-20T08:14:18.561414Z"
    }
   },
   "outputs": [
    {
     "data": {
      "text/plain": [
       "array([[8.44124879e-05, 2.63506308e-06, 7.15494563e-04, 1.25862740e-03,\n",
       "        1.17279535e-06, 4.49908512e-05, 1.62692562e-08, 9.97065008e-01,\n",
       "        9.37447930e-06, 8.18311179e-04],\n",
       "       [4.83633252e-03, 1.10458618e-03, 9.44252312e-01, 1.43091511e-02,\n",
       "        5.69896144e-07, 6.67604199e-03, 2.75333375e-02, 1.27084218e-06,\n",
       "        1.28642481e-03, 4.78648055e-08],\n",
       "       [1.03583176e-07, 9.88972485e-01, 4.28949529e-03, 1.78321137e-03,\n",
       "        1.31733701e-04, 7.59407994e-04, 4.68910323e-04, 2.26997514e-03,\n",
       "        1.23787124e-03, 8.67146664e-05],\n",
       "       [9.94114697e-01, 8.21150152e-08, 1.59064995e-03, 1.89775776e-04,\n",
       "        4.32125171e-06, 3.37140495e-03, 4.06630861e-04, 2.31970625e-04,\n",
       "        4.83603653e-05, 4.20393771e-05],\n",
       "       [2.06643148e-04, 6.56509519e-06, 2.89003225e-03, 3.32720774e-05,\n",
       "        9.54773664e-01, 4.81619907e-04, 2.03925930e-03, 5.48695168e-03,\n",
       "        1.43688987e-03, 3.26452702e-02],\n",
       "       [3.03140979e-08, 9.88500714e-01, 1.73124566e-03, 2.23919679e-03,\n",
       "        8.44562455e-05, 2.98639992e-04, 3.47394343e-05, 4.77244286e-03,\n",
       "        1.91289803e-03, 4.25629551e-04],\n",
       "       [3.80581173e-06, 4.50633743e-05, 2.00198210e-05, 1.43767786e-04,\n",
       "        9.74586725e-01, 8.69426597e-03, 5.77279250e-04, 6.86214946e-04,\n",
       "        5.34385024e-03, 9.89905372e-03],\n",
       "       [9.68230211e-07, 1.75330031e-03, 9.92062050e-05, 5.68379834e-03,\n",
       "        1.98452361e-02, 2.43911031e-03, 2.59806275e-05, 6.57153223e-03,\n",
       "        1.37037160e-02, 9.49877143e-01],\n",
       "       [1.88537966e-03, 3.49486472e-05, 5.78955561e-03, 6.65768630e-06,\n",
       "        3.38107571e-02, 7.37663032e-03, 9.49990153e-01, 8.50038123e-06,\n",
       "        1.00305420e-03, 9.42861516e-05],\n",
       "       [1.65249112e-05, 9.82693382e-06, 9.12796459e-05, 5.38626446e-05,\n",
       "        3.82337049e-02, 2.49060249e-04, 8.67969356e-06, 3.89149264e-02,\n",
       "        4.11958108e-03, 9.18302536e-01]], dtype=float32)"
      ]
     },
     "execution_count": 46,
     "metadata": {},
     "output_type": "execute_result"
    }
   ],
   "source": [
    "y_batch_ex = predict(init_network(),x_batch_ex)\n",
    "y_batch_ex"
   ]
  },
  {
   "cell_type": "code",
   "execution_count": 47,
   "metadata": {
    "ExecuteTime": {
     "end_time": "2019-07-20T08:14:18.578704Z",
     "start_time": "2019-07-20T08:14:18.574288Z"
    }
   },
   "outputs": [
    {
     "data": {
      "text/plain": [
       "array([7, 2, 1, 0, 4, 1, 4, 9, 6, 9])"
      ]
     },
     "execution_count": 47,
     "metadata": {},
     "output_type": "execute_result"
    }
   ],
   "source": [
    "p_ex = np.argmax(y_batch_ex,axis=1)\n",
    "p_ex # y_batch_ex 에서 각각 확률이 젤 높았던 놈들의 index를 가져옴"
   ]
  },
  {
   "cell_type": "code",
   "execution_count": 48,
   "metadata": {
    "ExecuteTime": {
     "end_time": "2019-07-20T08:14:18.803259Z",
     "start_time": "2019-07-20T08:14:18.580832Z"
    }
   },
   "outputs": [
    {
     "data": {
      "text/plain": [
       "array([7, 2, 1, 0, 4, 1, 4, 9, 5, 9], dtype=uint8)"
      ]
     },
     "execution_count": 48,
     "metadata": {},
     "output_type": "execute_result"
    }
   ],
   "source": [
    "get_data()[1][0:10] # 실제 값들"
   ]
  },
  {
   "cell_type": "code",
   "execution_count": 49,
   "metadata": {
    "ExecuteTime": {
     "end_time": "2019-07-20T08:14:19.009807Z",
     "start_time": "2019-07-20T08:14:18.804715Z"
    }
   },
   "outputs": [
    {
     "data": {
      "text/plain": [
       "array([ True,  True,  True,  True,  True,  True,  True,  True, False,\n",
       "        True])"
      ]
     },
     "execution_count": 49,
     "metadata": {},
     "output_type": "execute_result"
    }
   ],
   "source": [
    "p_ex == get_data()[1][0:10] # 이렇게 하면 몇개 틀린지 볼 수 있음"
   ]
  },
  {
   "cell_type": "code",
   "execution_count": 50,
   "metadata": {
    "ExecuteTime": {
     "end_time": "2019-07-20T08:14:19.212324Z",
     "start_time": "2019-07-20T08:14:19.011238Z"
    }
   },
   "outputs": [
    {
     "data": {
      "text/plain": [
       "9"
      ]
     },
     "execution_count": 50,
     "metadata": {},
     "output_type": "execute_result"
    }
   ],
   "source": [
    "np.sum(p_ex == get_data()[1][0:10]) # 몇개 맞은지 알 수 있음"
   ]
  },
  {
   "cell_type": "code",
   "execution_count": 51,
   "metadata": {
    "ExecuteTime": {
     "end_time": "2019-07-20T08:14:19.413516Z",
     "start_time": "2019-07-20T08:14:19.213722Z"
    }
   },
   "outputs": [],
   "source": [
    "# 실전으로 들어가보자\n",
    "batch_size = 100 # 배치 크기\n",
    "accuracy_cnt = 0\n",
    "\n",
    "x, t = get_data()\n",
    "network = init_network()"
   ]
  },
  {
   "cell_type": "code",
   "execution_count": 52,
   "metadata": {
    "ExecuteTime": {
     "end_time": "2019-07-20T08:14:19.445288Z",
     "start_time": "2019-07-20T08:14:19.414708Z"
    }
   },
   "outputs": [],
   "source": [
    "for i in range(0, len(x), batch_size):\n",
    "    x_batch = x[i:i+batch_size]\n",
    "    y_batch = predict(network, x_batch)\n",
    "    p = np.argmax(y_batch, axis=1)\n",
    "    accuracy_cnt += np.sum(p == t[i:i+batch_size])"
   ]
  },
  {
   "cell_type": "code",
   "execution_count": 53,
   "metadata": {
    "ExecuteTime": {
     "end_time": "2019-07-20T08:14:19.450254Z",
     "start_time": "2019-07-20T08:14:19.446853Z"
    }
   },
   "outputs": [
    {
     "name": "stdout",
     "output_type": "stream",
     "text": [
      "Accuracy:0.9352\n"
     ]
    }
   ],
   "source": [
    "print(\"Accuracy:\" + str(float(accuracy_cnt) / len(x)))"
   ]
  },
  {
   "cell_type": "markdown",
   "metadata": {},
   "source": [
    "---\n",
    "\n",
    "## 3장 정리 (p105)\n",
    "\n",
    "> 참고 : [WegraLee GitHub](https://github.com/WegraLee/deep-learning-from-scratch/blob/master/ch03/README.md)\n",
    "\n",
    "* 신경망에서는 활성화 함수로 시그모이드 함수와 ReLU 함수 같은 매끄럽게 변화하는 함수를 이용한다.\n",
    "* 넘파이의 다차원 배열을 잘 사용하면 신경망을 효율적으로 구현할 수 있다.\n",
    "* 기계학습 문제는 크게 회귀와 분류로 나눌 수 있다.\n",
    "* 출력층의 활성화 함수로는 회귀에서는 주로 항등 함수를, 분류에서는 주로 소프트맥스 함수를 이용한다.\n",
    "* 분류에서는 출력층의 뉴런 수를 분류하려는 클래스 수와 같게 설정한다.\n",
    "* 입력 데이터를 묶은 것을 배치라 하며, 추론 처리를 이 배치 단위로 진행하면 결과를 훨씬 빠르게 얻을 수 있다."
   ]
  },
  {
   "cell_type": "markdown",
   "metadata": {},
   "source": [
    "---\n",
    "\n",
    "## 참고\n",
    "- 밑바닥부터 시작하는 딥러닝 GitHub : https://github.com/WegraLee/deep-learning-from-scratch  \n",
    "- Mathjax 웹 수식 : https://www.codecogs.com/latex/eqneditor.php\n",
    "- MNIST Example Image : https://www.researchgate.net/profile/Steven_Young11/publication/306056875/figure/fig1/AS:393921575309346@1470929630835/Example-images-from-the-MNIST-dataset.png"
   ]
  }
 ],
 "metadata": {
  "kernelspec": {
   "display_name": "Python 3",
   "language": "python",
   "name": "python3"
  },
  "language_info": {
   "codemirror_mode": {
    "name": "ipython",
    "version": 3
   },
   "file_extension": ".py",
   "mimetype": "text/x-python",
   "name": "python",
   "nbconvert_exporter": "python",
   "pygments_lexer": "ipython3",
   "version": "3.6.8"
  },
  "toc": {
   "base_numbering": "1",
   "nav_menu": {},
   "number_sections": true,
   "sideBar": true,
   "skip_h1_title": true,
   "title_cell": "3장 신경망",
   "title_sidebar": "Contents",
   "toc_cell": true,
   "toc_position": {},
   "toc_section_display": true,
   "toc_window_display": true
  }
 },
 "nbformat": 4,
 "nbformat_minor": 2
}

{
 "cells": [
  {
   "cell_type": "markdown",
   "metadata": {
    "slideshow": {
     "slide_type": "slide"
    }
   },
   "source": [
    "![밑시딥 교재](http://www.hanbit.co.kr/data/books/B8475831198_l.jpg)\n",
    "\n",
    "> 작성자 : [Minsuk Sung](https://github.com/mssung94)  \n",
    "> 연락처 : mssung94@gmail.com  \n",
    "> GitHub : https://github.com/mssung94\n",
    "\n",
    "> 본 내용은 **대학생 빅데이터 동아리 `BOAZ`의 딥러닝 스터디 자료**입니다. **상업적인 목적으로 사용하는 것은 절대로 금합니다.**\n",
    "\n",
    "> 모든 내용은 `밑바닥부터 시작하는 딥러닝(Deep Learning from Scratch),한빛미디어`을 참고하여 만들어졌으며, 책의 내용에 대한 모든 저작권은 `한빛미디어`에게 있음을 미리 밝힙니다. 또한 여기에 사용된 코드의 대부분은 한빛미디어에서 제공해준 GitHub을 바탕으로 재구성하였습니다.\n",
    "\n",
    "한빛미디어 홈페이지 : http://www.hanbit.co.kr/store/books/look.php?p_code=B8475831198  \n",
    "밑바닥부터 시작하는 딥러닝 GitHub : https://github.com/WegraLee/deep-learning-from-scratch  "
   ]
  },
  {
   "cell_type": "markdown",
   "metadata": {
    "slideshow": {
     "slide_type": "slide"
    },
    "toc": true
   },
   "source": [
    "<h1>4장 신경망 학습<span class=\"tocSkip\"></span></h1>\n",
    "<div class=\"toc\"><ul class=\"toc-item\"><li><span><a href=\"#데이터에서-학습하자-(p107)\" data-toc-modified-id=\"데이터에서-학습하자-(p107)-1\"><span class=\"toc-item-num\">1&nbsp;&nbsp;</span>데이터에서 학습하자 (p107)</a></span><ul class=\"toc-item\"><li><span><a href=\"#데이터-주도-학습\" data-toc-modified-id=\"데이터-주도-학습-1.1\"><span class=\"toc-item-num\">1.1&nbsp;&nbsp;</span>데이터 주도 학습</a></span></li><li><span><a href=\"#훈련-데이터와-시험-데이터\" data-toc-modified-id=\"훈련-데이터와-시험-데이터-1.2\"><span class=\"toc-item-num\">1.2&nbsp;&nbsp;</span>훈련 데이터와 시험 데이터</a></span></li></ul></li><li><span><a href=\"#손실-함수-(Loss-Function)-(p111)\" data-toc-modified-id=\"손실-함수-(Loss-Function)-(p111)-2\"><span class=\"toc-item-num\">2&nbsp;&nbsp;</span>손실 함수 (Loss Function) (p111)</a></span><ul class=\"toc-item\"><li><span><a href=\"#평균-제곱-오차-(Mean-Squared-Error,-MSE)\" data-toc-modified-id=\"평균-제곱-오차-(Mean-Squared-Error,-MSE)-2.1\"><span class=\"toc-item-num\">2.1&nbsp;&nbsp;</span>평균 제곱 오차 (Mean Squared Error, MSE)</a></span></li><li><span><a href=\"#교차-엔트로피-오차-(Cross-Entropy-Error,-CEE)\" data-toc-modified-id=\"교차-엔트로피-오차-(Cross-Entropy-Error,-CEE)-2.2\"><span class=\"toc-item-num\">2.2&nbsp;&nbsp;</span>교차 엔트로피 오차 (Cross Entropy Error, CEE)</a></span></li><li><span><a href=\"#미니배치-학습\" data-toc-modified-id=\"미니배치-학습-2.3\"><span class=\"toc-item-num\">2.3&nbsp;&nbsp;</span>미니배치 학습</a></span></li><li><span><a href=\"#(배치용)-교차-엔트로피-오차-구현하기\" data-toc-modified-id=\"(배치용)-교차-엔트로피-오차-구현하기-2.4\"><span class=\"toc-item-num\">2.4&nbsp;&nbsp;</span>(배치용) 교차 엔트로피 오차 구현하기</a></span><ul class=\"toc-item\"><li><span><a href=\"#데이터가-하나인-경우\" data-toc-modified-id=\"데이터가-하나인-경우-2.4.1\"><span class=\"toc-item-num\">2.4.1&nbsp;&nbsp;</span>데이터가 하나인 경우</a></span></li><li><span><a href=\"#데이터가-배치로-묶여-입력될-경우\" data-toc-modified-id=\"데이터가-배치로-묶여-입력될-경우-2.4.2\"><span class=\"toc-item-num\">2.4.2&nbsp;&nbsp;</span>데이터가 배치로 묶여 입력될 경우</a></span></li></ul></li><li><span><a href=\"#왜-손실-함수를-설정할까?\" data-toc-modified-id=\"왜-손실-함수를-설정할까?-2.5\"><span class=\"toc-item-num\">2.5&nbsp;&nbsp;</span>왜 손실 함수를 설정할까?</a></span></li></ul></li><li><span><a href=\"#수치-미분-(p121)\" data-toc-modified-id=\"수치-미분-(p121)-3\"><span class=\"toc-item-num\">3&nbsp;&nbsp;</span>수치 미분 (p121)</a></span><ul class=\"toc-item\"><li><span><a href=\"#미분\" data-toc-modified-id=\"미분-3.1\"><span class=\"toc-item-num\">3.1&nbsp;&nbsp;</span>미분</a></span></li><li><span><a href=\"#수치-미분의-예\" data-toc-modified-id=\"수치-미분의-예-3.2\"><span class=\"toc-item-num\">3.2&nbsp;&nbsp;</span>수치 미분의 예</a></span></li><li><span><a href=\"#편미분\" data-toc-modified-id=\"편미분-3.3\"><span class=\"toc-item-num\">3.3&nbsp;&nbsp;</span>편미분</a></span><ul class=\"toc-item\"><li><span><a href=\"#$x_0$로-편미분-했을-경우\" data-toc-modified-id=\"$x_0$로-편미분-했을-경우-3.3.1\"><span class=\"toc-item-num\">3.3.1&nbsp;&nbsp;</span>$x_0$로 편미분 했을 경우</a></span></li><li><span><a href=\"#$x_1$로-편미분-했을-경우\" data-toc-modified-id=\"$x_1$로-편미분-했을-경우-3.3.2\"><span class=\"toc-item-num\">3.3.2&nbsp;&nbsp;</span>$x_1$로 편미분 했을 경우</a></span></li></ul></li></ul></li><li><span><a href=\"#그레디언트-(p127)\" data-toc-modified-id=\"그레디언트-(p127)-4\"><span class=\"toc-item-num\">4&nbsp;&nbsp;</span>그레디언트 (p127)</a></span><ul class=\"toc-item\"><li><span><a href=\"#경사하강법-(Gradient-Descent)\" data-toc-modified-id=\"경사하강법-(Gradient-Descent)-4.1\"><span class=\"toc-item-num\">4.1&nbsp;&nbsp;</span>경사하강법 (Gradient Descent)</a></span><ul class=\"toc-item\"><li><span><a href=\"#학습률이-너무-클-경우\" data-toc-modified-id=\"학습률이-너무-클-경우-4.1.1\"><span class=\"toc-item-num\">4.1.1&nbsp;&nbsp;</span>학습률이 너무 클 경우</a></span></li><li><span><a href=\"#학습률이-너무-작을-경우\" data-toc-modified-id=\"학습률이-너무-작을-경우-4.1.2\"><span class=\"toc-item-num\">4.1.2&nbsp;&nbsp;</span>학습률이 너무 작을 경우</a></span></li></ul></li><li><span><a href=\"#신경망에서의-기울기\" data-toc-modified-id=\"신경망에서의-기울기-4.2\"><span class=\"toc-item-num\">4.2&nbsp;&nbsp;</span>신경망에서의 기울기</a></span></li></ul></li><li><span><a href=\"#학습-알고리즘-구현하기-(p136)\" data-toc-modified-id=\"학습-알고리즘-구현하기-(p136)-5\"><span class=\"toc-item-num\">5&nbsp;&nbsp;</span>학습 알고리즘 구현하기 (p136)</a></span><ul class=\"toc-item\"><li><span><a href=\"#2층-신경망-클래스-구현하기\" data-toc-modified-id=\"2층-신경망-클래스-구현하기-5.1\"><span class=\"toc-item-num\">5.1&nbsp;&nbsp;</span>2층 신경망 클래스 구현하기</a></span></li><li><span><a href=\"#미니배치-학습-구현하기\" data-toc-modified-id=\"미니배치-학습-구현하기-5.2\"><span class=\"toc-item-num\">5.2&nbsp;&nbsp;</span>미니배치 학습 구현하기</a></span></li><li><span><a href=\"#시험-데이터로-평가하기\" data-toc-modified-id=\"시험-데이터로-평가하기-5.3\"><span class=\"toc-item-num\">5.3&nbsp;&nbsp;</span>시험 데이터로 평가하기</a></span></li></ul></li><li><span><a href=\"#4장-정리-(p146)\" data-toc-modified-id=\"4장-정리-(p146)-6\"><span class=\"toc-item-num\">6&nbsp;&nbsp;</span>4장 정리 (p146)</a></span></li><li><span><a href=\"#참고\" data-toc-modified-id=\"참고-7\"><span class=\"toc-item-num\">7&nbsp;&nbsp;</span>참고</a></span></li></ul></div>"
   ]
  },
  {
   "cell_type": "markdown",
   "metadata": {
    "slideshow": {
     "slide_type": "slide"
    }
   },
   "source": [
    "> 내용 출처 : [WegraLee GitHub](https://github.com/WegraLee/deep-learning-from-scratch/blob/master/ch04/README.md)\n",
    "\n",
    "- 이번 장의 주제는 신경망 학습입니다.\n",
    "- 여기서 학습이란 훈련 데이터로부터 가중치 매개변수의 최적값을 자동으로 획득하는 것을 뜻합니다.\n",
    "- 이번 장에서는 신경망이 학습할 수 있도록 해주는 지표인 손실 함수를 소개합니다.\n",
    "- 이 손실 함수의 결괏값을 가장 작게 만드는 가중치 매개변수를 찾는 것이 학습의 목표입니다.\n",
    "- 이번 장에서는 손실 함수의 값을 가급적 작게 만드는 기법으로, 함수의 기울기를 활용하는 경사법을 소개합니다."
   ]
  },
  {
   "cell_type": "code",
   "execution_count": 1,
   "metadata": {
    "ExecuteTime": {
     "end_time": "2019-07-20T15:20:23.766870Z",
     "start_time": "2019-07-20T15:20:22.525176Z"
    },
    "slideshow": {
     "slide_type": "slide"
    }
   },
   "outputs": [],
   "source": [
    "# coding: utf-8\n",
    "import os\n",
    "import sys\n",
    "import numpy as np\n",
    "import pandas as pd\n",
    "import matplotlib as mpl\n",
    "import matplotlib.pyplot as plt\n",
    "from mpl_toolkits.mplot3d import Axes3D\n",
    "\n",
    "mpl.rcParams['font.family'] = 'AppleGothic' # mac에서는 한글이 나오게 하기 위해서\n",
    "mpl.rcParams['axes.unicode_minus'] = False"
   ]
  },
  {
   "cell_type": "markdown",
   "metadata": {
    "slideshow": {
     "slide_type": "slide"
    }
   },
   "source": [
    "---\n",
    "\n",
    "## 데이터에서 학습하자 (p107)\n",
    "\n",
    "> 데이터를 **`학습`한다** : 가중치 **`매개변수`**의 값을 데이터를 보고 **자동으로 결정한다**는 뜻\n",
    "\n"
   ]
  },
  {
   "cell_type": "markdown",
   "metadata": {
    "slideshow": {
     "slide_type": "slide"
    }
   },
   "source": [
    "### 데이터 주도 학습\n",
    "\n",
    "![](https://t1.daumcdn.net/cfile/tistory/22606B435974B30434)"
   ]
  },
  {
   "cell_type": "markdown",
   "metadata": {
    "slideshow": {
     "slide_type": "slide"
    }
   },
   "source": [
    "- 기계 학습에서는 데이터가 생명\n",
    "- MNIST 데이터에서 숫자 5를 인식하는 구체적인 알고리즘을 고안하기보다\n",
    "- 차라리 이미지(데이터)에서 특징(feature)을 직접 추출하고 그 특징의 패턴을 기계학습 기술로 학습하는 방법이 현실적임\n",
    "- 이러한 특징은 SIFT, SURF, HOG 등 여러가지 있음\n",
    "- 여전히 이미지를 벡터로 변환할 때 사용하는 특징은 사람이 설계하는 것임\n",
    "- 신경망은 데이터에 포함된 중요한 특징까지 기계 스스로가 학습하게 할 것임\n",
    "\n",
    "![](https://img1.daumcdn.net/thumb/R800x0/?scode=mtistory2&fname=https%3A%2F%2Ft1.daumcdn.net%2Fcfile%2Ftistory%2F9967024B5B98E14F01)"
   ]
  },
  {
   "cell_type": "markdown",
   "metadata": {
    "slideshow": {
     "slide_type": "slide"
    }
   },
   "source": [
    "### 훈련 데이터와 시험 데이터\n",
    "> 데이터 = **`훈련 데이터`(Train Data)** + **`시험 데이터`(Test Data)**\n",
    "\n",
    "- 훈련 데이터만 사용하여 학습하면서 최적의 매개변수 찾음\n",
    "- 시험 데이터를 통해서 앞서 훈련한 모델의 실력을 평가\n",
    "- 시험 데이터가 없다면 모델이 **과대적합(Overfitting)**될 수 있기 때문에"
   ]
  },
  {
   "cell_type": "markdown",
   "metadata": {
    "slideshow": {
     "slide_type": "slide"
    }
   },
   "source": [
    "---\n",
    "\n",
    "## 손실 함수 (Loss Function) (p111)\n",
    "\n",
    "- 신경망이 학습을 잘 하고 있다의 기준을 어떻게 수치화시킬 수 있을까?\n",
    "- 신경망 학습에서 현재의 상태를 하나의 지표로 표현\n",
    "- 그 지표를 점점 좋게 만들어주는 가중치 매개변수의 값을 탐색하는 것\n",
    "- 신경망 학습에서 사용하는 지표가 **손실함수(Loss Function)**이라 함"
   ]
  },
  {
   "cell_type": "markdown",
   "metadata": {
    "slideshow": {
     "slide_type": "slide"
    }
   },
   "source": [
    "### 평균 제곱 오차 (Mean Squared Error, MSE)\n",
    "\n",
    "$$ MSE = \\frac{1}{2} \\sum_k{(y_k - t_k)^2} $$\n",
    "\n",
    "- $y_k$는 신경망이 추정한 값\n",
    "- $t_k$는 실제 값"
   ]
  },
  {
   "cell_type": "code",
   "execution_count": 2,
   "metadata": {
    "ExecuteTime": {
     "end_time": "2019-07-20T15:20:23.772262Z",
     "start_time": "2019-07-20T15:20:23.768787Z"
    },
    "slideshow": {
     "slide_type": "subslide"
    }
   },
   "outputs": [],
   "source": [
    "def mean_squared_error(y,t):\n",
    "    return 0.5 * np.sum((y-t)**2)"
   ]
  },
  {
   "cell_type": "code",
   "execution_count": 3,
   "metadata": {
    "ExecuteTime": {
     "end_time": "2019-07-20T15:20:23.783815Z",
     "start_time": "2019-07-20T15:20:23.774404Z"
    },
    "slideshow": {
     "slide_type": "fragment"
    }
   },
   "outputs": [
    {
     "data": {
      "text/plain": [
       "0.09750000000000003"
      ]
     },
     "execution_count": 3,
     "metadata": {},
     "output_type": "execute_result"
    }
   ],
   "source": [
    "# 정답을 잘 추론할 경우\n",
    "t = np.array([0, 0, 1, 0, 0, 0, 0, 0, 0, 0])  # 정답 : 2\n",
    "y = np.array([0.1, 0.05, 0.6, 0.0, 0.05, 0.1, 0.0, 0.1, 0.0, 0.0]) # 2라고 잘 추론함\n",
    "mean_squared_error(y,t)"
   ]
  },
  {
   "cell_type": "code",
   "execution_count": 4,
   "metadata": {
    "ExecuteTime": {
     "end_time": "2019-07-20T15:20:23.792778Z",
     "start_time": "2019-07-20T15:20:23.786513Z"
    },
    "slideshow": {
     "slide_type": "fragment"
    }
   },
   "outputs": [
    {
     "data": {
      "text/plain": [
       "0.5975"
      ]
     },
     "execution_count": 4,
     "metadata": {},
     "output_type": "execute_result"
    }
   ],
   "source": [
    "# 정답을 추론하지 못한 경우\n",
    "t = np.array([0, 0, 1, 0, 0, 0, 0, 0, 0, 0])  # 정답 : 2\n",
    "y = np.array([0.1, 0.05, 0.1, 0.0, 0.05, 0.1, 0.0, 0.6, 0.0, 0.0]) # 7이라고 추론 함\n",
    "mean_squared_error(y,t)"
   ]
  },
  {
   "cell_type": "markdown",
   "metadata": {
    "slideshow": {
     "slide_type": "slide"
    }
   },
   "source": [
    "### 교차 엔트로피 오차 (Cross Entropy Error, CEE)\n",
    "\n",
    "$$ CEE = - \\sum_k{t_k \\log{y_k}} $$\n",
    "\n",
    "- $y_k$는 신경망이 추정한 값\n",
    "- $t_k$는 실제 값"
   ]
  },
  {
   "cell_type": "code",
   "execution_count": 5,
   "metadata": {
    "ExecuteTime": {
     "end_time": "2019-07-20T15:20:23.799239Z",
     "start_time": "2019-07-20T15:20:23.795092Z"
    },
    "slideshow": {
     "slide_type": "fragment"
    }
   },
   "outputs": [],
   "source": [
    "def cross_entropy_error(y,t):\n",
    "    delta = 1e-7 # np.log()에 0이 입력되는 걸 방지\n",
    "    return -np.sum(t*np.log(y+delta))"
   ]
  },
  {
   "cell_type": "code",
   "execution_count": 6,
   "metadata": {
    "ExecuteTime": {
     "end_time": "2019-07-20T15:20:23.810658Z",
     "start_time": "2019-07-20T15:20:23.801956Z"
    },
    "slideshow": {
     "slide_type": "fragment"
    }
   },
   "outputs": [
    {
     "data": {
      "text/plain": [
       "0.510825457099338"
      ]
     },
     "execution_count": 6,
     "metadata": {},
     "output_type": "execute_result"
    }
   ],
   "source": [
    "# 정답을 잘 추론할 경우\n",
    "t = np.array([0, 0, 1, 0, 0, 0, 0, 0, 0, 0])  # 정답 : 2\n",
    "y = np.array([0.1, 0.05, 0.6, 0.0, 0.05, 0.1, 0.0, 0.1, 0.0, 0.0]) # 2라고 잘 추론함\n",
    "cross_entropy_error(y,t)"
   ]
  },
  {
   "cell_type": "code",
   "execution_count": 7,
   "metadata": {
    "ExecuteTime": {
     "end_time": "2019-07-20T15:20:23.824676Z",
     "start_time": "2019-07-20T15:20:23.814958Z"
    },
    "slideshow": {
     "slide_type": "fragment"
    }
   },
   "outputs": [
    {
     "data": {
      "text/plain": [
       "2.302584092994546"
      ]
     },
     "execution_count": 7,
     "metadata": {},
     "output_type": "execute_result"
    }
   ],
   "source": [
    "# 정답을 추론하지 못한 경우\n",
    "t = np.array([0, 0, 1, 0, 0, 0, 0, 0, 0, 0])  # 정답 : 2\n",
    "y = np.array([0.1, 0.05, 0.1, 0.0, 0.05, 0.1, 0.0, 0.6, 0.0, 0.0]) # 7이라고 추론 함\n",
    "cross_entropy_error(y,t)"
   ]
  },
  {
   "cell_type": "markdown",
   "metadata": {
    "slideshow": {
     "slide_type": "slide"
    }
   },
   "source": [
    "> **왜 굳이 교차 엔트로피 오차를 소개**해줬을까?\n",
    "\n",
    "나중에 배우겠지만, MSE를 손실함수로 하게 될 경우 층이 깊어질수록 Vanishing Gradient가 발생하게 될 확률이 높게 된다.  \n",
    "그를 해결하고자 CEE도 도입하게 되었다."
   ]
  },
  {
   "cell_type": "markdown",
   "metadata": {
    "slideshow": {
     "slide_type": "slide"
    }
   },
   "source": [
    "### 미니배치 학습\n",
    "\n",
    "- 지금까지는 데이터 하나에 대한 손실함수만 생각함\n",
    "- 훈련 데이터가 100개가 있으면 그로부터 계산한 100개의 손실 함수 값들의 합을 지표 삼는 것\n",
    "\n",
    "$$ E = -\\frac{1}{N} \\sum_n{\\sum_k{f_{nk}\\log y_{nk}}} $$\n",
    "\n",
    "- N으로 나눈 이유는 `평균`으로 구하기 때문\n",
    "- 이 중에서도 데이터 일부를 추려 전체의 근사치로 이용\n",
    "- 신경망 학습에서도 훈련 데이터로부터 일부만 골라 학습을 수행하는게 미니 배치(mini-batch)\n",
    "- 60000만장의 학습 데이터가 있다면 그 중에서 100장을 무작위로 골라서 학습"
   ]
  },
  {
   "cell_type": "code",
   "execution_count": 8,
   "metadata": {
    "ExecuteTime": {
     "end_time": "2019-07-20T15:20:24.196923Z",
     "start_time": "2019-07-20T15:20:23.828338Z"
    },
    "slideshow": {
     "slide_type": "fragment"
    }
   },
   "outputs": [],
   "source": [
    "from dataset.mnist import load_mnist\n",
    "\n",
    "(x_train,t_train),(x_test,t_test) = load_mnist(normalize=True,\n",
    "                                               one_hot_label = True)"
   ]
  },
  {
   "cell_type": "code",
   "execution_count": 9,
   "metadata": {
    "ExecuteTime": {
     "end_time": "2019-07-20T15:20:24.202272Z",
     "start_time": "2019-07-20T15:20:24.198591Z"
    },
    "slideshow": {
     "slide_type": "fragment"
    }
   },
   "outputs": [
    {
     "data": {
      "text/plain": [
       "(60000, 784)"
      ]
     },
     "execution_count": 9,
     "metadata": {},
     "output_type": "execute_result"
    }
   ],
   "source": [
    "x_train.shape"
   ]
  },
  {
   "cell_type": "code",
   "execution_count": 10,
   "metadata": {
    "ExecuteTime": {
     "end_time": "2019-07-20T15:20:24.208441Z",
     "start_time": "2019-07-20T15:20:24.204163Z"
    },
    "slideshow": {
     "slide_type": "fragment"
    }
   },
   "outputs": [
    {
     "data": {
      "text/plain": [
       "(60000, 10)"
      ]
     },
     "execution_count": 10,
     "metadata": {},
     "output_type": "execute_result"
    }
   ],
   "source": [
    "t_train.shape"
   ]
  },
  {
   "cell_type": "markdown",
   "metadata": {
    "slideshow": {
     "slide_type": "slide"
    }
   },
   "source": [
    "이 훈련 데이터에서 무작위로 10장만 빼내려면 어떻게 해야할까? → `np.random.choice()`를 쓰자  \n",
    "이미 있는 데이터 집합에서 일부를 무작위로 선택하는 것을 샘플링(sampling)이라고 한다. 샘플링에는 choice 명령을 사용한다. choice 명령은 다음과 같은 인수를 가질 수 있다.  \n",
    "\n",
    "\n",
    "> `numpy.random.choice(a, size=None, replace=True, p=None)`   \n",
    "\n",
    "\n",
    "> `a` : 배열이면 원래의 데이터, 정수이면 arange(a) 명령으로 데이터 생성  \n",
    "> `size` : 정수. 샘플 숫자  \n",
    "> `replace` : 불리언. True이면 한번 선택한 데이터를 다시 선택 가능  \n",
    "> `p` : 배열. 각 데이터가 선택될 수 있는 확률   "
   ]
  },
  {
   "cell_type": "code",
   "execution_count": 11,
   "metadata": {
    "ExecuteTime": {
     "end_time": "2019-07-20T15:20:24.213786Z",
     "start_time": "2019-07-20T15:20:24.210257Z"
    },
    "slideshow": {
     "slide_type": "fragment"
    }
   },
   "outputs": [
    {
     "data": {
      "text/plain": [
       "array([13015, 33764, 13015, 51987, 15792, 38096, 42389, 30943, 55977,\n",
       "       10882])"
      ]
     },
     "execution_count": 11,
     "metadata": {},
     "output_type": "execute_result"
    }
   ],
   "source": [
    "np.random.choice(60000,10)"
   ]
  },
  {
   "cell_type": "code",
   "execution_count": 12,
   "metadata": {
    "ExecuteTime": {
     "end_time": "2019-07-20T15:20:24.218892Z",
     "start_time": "2019-07-20T15:20:24.215493Z"
    },
    "slideshow": {
     "slide_type": "fragment"
    }
   },
   "outputs": [
    {
     "name": "stdout",
     "output_type": "stream",
     "text": [
      "[7 2 0]\n"
     ]
    }
   ],
   "source": [
    "x = np.arange(0,10)\n",
    "mask = np.random.choice(10,3)\n",
    "print(x[mask])"
   ]
  },
  {
   "cell_type": "code",
   "execution_count": 13,
   "metadata": {
    "ExecuteTime": {
     "end_time": "2019-07-20T15:20:24.223489Z",
     "start_time": "2019-07-20T15:20:24.220399Z"
    },
    "slideshow": {
     "slide_type": "fragment"
    }
   },
   "outputs": [],
   "source": [
    "train_size = x_train.shape[0]\n",
    "batch_size = 10\n",
    "batch_mask = np.random.choice(train_size,batch_size)\n",
    "x_batch = x_train[batch_mask]\n",
    "t_batch = t_train[batch_mask]"
   ]
  },
  {
   "cell_type": "code",
   "execution_count": 14,
   "metadata": {
    "ExecuteTime": {
     "end_time": "2019-07-20T15:20:24.228641Z",
     "start_time": "2019-07-20T15:20:24.224922Z"
    },
    "slideshow": {
     "slide_type": "fragment"
    }
   },
   "outputs": [
    {
     "data": {
      "text/plain": [
       "array([[0., 0., 0., ..., 0., 0., 0.],\n",
       "       [0., 0., 0., ..., 0., 0., 0.],\n",
       "       [0., 0., 0., ..., 0., 0., 0.],\n",
       "       ...,\n",
       "       [0., 0., 0., ..., 0., 0., 0.],\n",
       "       [0., 0., 0., ..., 0., 0., 0.],\n",
       "       [0., 0., 0., ..., 0., 0., 0.]], dtype=float32)"
      ]
     },
     "execution_count": 14,
     "metadata": {},
     "output_type": "execute_result"
    }
   ],
   "source": [
    "x_batch"
   ]
  },
  {
   "cell_type": "code",
   "execution_count": 15,
   "metadata": {
    "ExecuteTime": {
     "end_time": "2019-07-20T15:20:24.234441Z",
     "start_time": "2019-07-20T15:20:24.230225Z"
    },
    "slideshow": {
     "slide_type": "fragment"
    }
   },
   "outputs": [
    {
     "data": {
      "text/plain": [
       "array([[0., 0., 0., 0., 1., 0., 0., 0., 0., 0.],\n",
       "       [0., 0., 0., 0., 0., 1., 0., 0., 0., 0.],\n",
       "       [0., 0., 0., 0., 0., 0., 0., 1., 0., 0.],\n",
       "       [0., 0., 0., 0., 0., 1., 0., 0., 0., 0.],\n",
       "       [0., 0., 0., 0., 1., 0., 0., 0., 0., 0.],\n",
       "       [1., 0., 0., 0., 0., 0., 0., 0., 0., 0.],\n",
       "       [0., 0., 0., 0., 0., 0., 0., 0., 0., 1.],\n",
       "       [0., 0., 0., 0., 0., 1., 0., 0., 0., 0.],\n",
       "       [0., 0., 0., 0., 0., 0., 1., 0., 0., 0.],\n",
       "       [0., 0., 0., 1., 0., 0., 0., 0., 0., 0.]])"
      ]
     },
     "execution_count": 15,
     "metadata": {},
     "output_type": "execute_result"
    }
   ],
   "source": [
    "t_batch"
   ]
  },
  {
   "cell_type": "markdown",
   "metadata": {
    "slideshow": {
     "slide_type": "slide"
    }
   },
   "source": [
    "### (배치용) 교차 엔트로피 오차 구현하기\n",
    "#### 데이터가 하나인 경우"
   ]
  },
  {
   "cell_type": "code",
   "execution_count": 16,
   "metadata": {
    "ExecuteTime": {
     "end_time": "2019-07-20T15:20:24.239581Z",
     "start_time": "2019-07-20T15:20:24.236152Z"
    },
    "slideshow": {
     "slide_type": "fragment"
    }
   },
   "outputs": [],
   "source": [
    "def cross_entropy_error(y,t):\n",
    "    if y.ndim == 1:\n",
    "        t = t.reshape(1,t.size)\n",
    "        y = y.reshape(1,y.size)\n",
    "        \n",
    "    batch_size = y.shape[0]\n",
    "    return -np.sum(t*np.log(y+1e-7)) / batch_size"
   ]
  },
  {
   "cell_type": "markdown",
   "metadata": {
    "slideshow": {
     "slide_type": "slide"
    }
   },
   "source": [
    "#### 데이터가 배치로 묶여 입력될 경우"
   ]
  },
  {
   "cell_type": "code",
   "execution_count": 17,
   "metadata": {
    "ExecuteTime": {
     "end_time": "2019-07-20T15:20:24.244518Z",
     "start_time": "2019-07-20T15:20:24.241030Z"
    },
    "slideshow": {
     "slide_type": "fragment"
    }
   },
   "outputs": [],
   "source": [
    "def cross_entropy_error(y,t):\n",
    "    if y.ndim == 1:\n",
    "        t = t.reshape(1,t.size)\n",
    "        y = y.reshape(1,y.size)\n",
    "        \n",
    "    batch_size = y.shape[0]\n",
    "    return -np.sum(np.log(y[np.arange(batch_size),t]+1e-7)) / batch_size # t*np.log 를 구현하기 위해서"
   ]
  },
  {
   "cell_type": "markdown",
   "metadata": {
    "slideshow": {
     "slide_type": "slide"
    }
   },
   "source": [
    "### 왜 손실 함수를 설정할까?\n",
    "- 왜 `정확도`라는 지표를 놔두고, `손실 함수`라는 값으로 지표를 삼았을까?\n",
    "- **신경망 학습에서의 `미분`의 역할을 생각**하면 해결된다.\n",
    "- 정확도를 지표로 삼아버릴 경우 미분 값이 대부분의 장소에서 0이 되어 매개변수가 업데이트 되지 않음\n",
    "- 즉, 정확도가 변하는게 정수일 경우에는 특정 구간에서만 기울기의 변화가 있고 나머지는 0이라 업데이트가 안된다\n",
    "> *신경망을 학습할 때 정확도를 지표로 삼아서는 안된다.  \n",
    "**정확도를 지표로 하면** 매개변수의 미분이 **대부분의 포인트에서 0이 되기 때문**이다*\n",
    "- 즉 연속적인 변화보다는 불연속적으로 띄엄띄엄하게 값이 변하기 때문\n",
    "- 정확도는 매개변수의 미소한 변화에는 반응을 보이지 않고, 반응을 보이더라도 그 값이 불연속적으로 갑자기 변화\n",
    "- 이는 `계단 함수`를 활성화 함수로 사용하지 않는 이유와도 동일함\n",
    "- `시그모이드 함수`의 미분을 살펴보면 어느 장소라도 0이 되지 않기 때문에 신경망이 올바르게 학습할 수 있음"
   ]
  },
  {
   "cell_type": "code",
   "execution_count": 18,
   "metadata": {
    "ExecuteTime": {
     "end_time": "2019-07-20T15:20:24.248878Z",
     "start_time": "2019-07-20T15:20:24.245957Z"
    },
    "slideshow": {
     "slide_type": "fragment"
    }
   },
   "outputs": [],
   "source": [
    "# 계단 함수\n",
    "def step_function(x):\n",
    "    return np.array(x > 0, dtype=np.int) \n",
    "\n",
    "# 시그모이드 함수\n",
    "def sigmoid(x):\n",
    "    return 1 / (1 + np.exp(-x))   "
   ]
  },
  {
   "cell_type": "code",
   "execution_count": 19,
   "metadata": {
    "ExecuteTime": {
     "end_time": "2019-07-20T15:20:24.389943Z",
     "start_time": "2019-07-20T15:20:24.250584Z"
    },
    "slideshow": {
     "slide_type": "fragment"
    }
   },
   "outputs": [
    {
     "data": {
      "image/png": "[encoded data removed]",
      "text/plain": [
       "<Figure size 432x288 with 1 Axes>"
      ]
     },
     "metadata": {
      "needs_background": "light"
     },
     "output_type": "display_data"
    }
   ],
   "source": [
    "X = np.arange(-5.0, 5.0, 0.1)\n",
    "Y_sig = sigmoid(X)\n",
    "Y_step = step_function(X)\n",
    "plt.plot(X, Y_sig,label='시그모이드 함수')\n",
    "plt.plot(X, Y_step,linestyle='--',label='계단 함수')\n",
    "plt.legend()\n",
    "plt.show()"
   ]
  },
  {
   "cell_type": "markdown",
   "metadata": {
    "slideshow": {
     "slide_type": "slide"
    }
   },
   "source": [
    "---\n",
    "\n",
    "## 수치 미분 (p121)"
   ]
  },
  {
   "cell_type": "markdown",
   "metadata": {
    "slideshow": {
     "slide_type": "slide"
    }
   },
   "source": [
    "### 미분\n",
    "\n",
    "$$ \\frac{\\mathrm{d}f(x) }{\\mathrm{d} x} = \\lim_{h\\rightarrow 0}\\frac{f(x+h)-f(x)}{h}$$\n",
    "\n",
    "```python\n",
    "# 이렇게 구현하면 안된다\n",
    "def bad_numerical_diff(f,x):\n",
    "    h = 10e-50\n",
    "    return (f(x+h)-f(x))/h\n",
    "```\n",
    "\n",
    "위의 코드에서는 2가지 개선해야할 점이 있다.\n",
    "1. `10e-50` 라는 값은 너무나 작은 값이기 때문에 반올림 오차 문제를 발생\n",
    "2. 함수f의 차분이 사실 애당초 오차가 있다는 점을 주의\n",
    "\n",
    "각각의 문제를 해결하기 위해선\n",
    "1. $10^{-50}$보단 적당하게 $10^{-4}$ 정도면 충분\n",
    "2. 차분의 오차를 줄이기 위해서 $(x+h) - (x-h)$와 같이 중심차분(중앙차분)을 이용"
   ]
  },
  {
   "cell_type": "code",
   "execution_count": 20,
   "metadata": {
    "ExecuteTime": {
     "end_time": "2019-07-20T15:20:24.394548Z",
     "start_time": "2019-07-20T15:20:24.391555Z"
    },
    "slideshow": {
     "slide_type": "fragment"
    }
   },
   "outputs": [],
   "source": [
    "def numerical_diff(f,x):\n",
    "    h = 1e-4 # 0.0001\n",
    "    return (f(x+h)-f(x-h)) / (2*h)"
   ]
  },
  {
   "cell_type": "markdown",
   "metadata": {
    "slideshow": {
     "slide_type": "slide"
    }
   },
   "source": [
    "### 수치 미분의 예\n",
    "\n",
    "$$ y = 0.01x^2 + 0.1x $$"
   ]
  },
  {
   "cell_type": "code",
   "execution_count": 21,
   "metadata": {
    "ExecuteTime": {
     "end_time": "2019-07-20T15:20:24.399290Z",
     "start_time": "2019-07-20T15:20:24.396732Z"
    },
    "slideshow": {
     "slide_type": "fragment"
    }
   },
   "outputs": [],
   "source": [
    "def function_1(x):\n",
    "    return 0.01*x**2 + 0.1*x"
   ]
  },
  {
   "cell_type": "code",
   "execution_count": 22,
   "metadata": {
    "ExecuteTime": {
     "end_time": "2019-07-20T15:20:24.536651Z",
     "start_time": "2019-07-20T15:20:24.403022Z"
    },
    "slideshow": {
     "slide_type": "fragment"
    }
   },
   "outputs": [
    {
     "data": {
      "image/png": "[encoded data removed]",
      "text/plain": [
       "<Figure size 432x288 with 1 Axes>"
      ]
     },
     "metadata": {
      "needs_background": "light"
     },
     "output_type": "display_data"
    }
   ],
   "source": [
    "X = np.arange(0.0, 20.0, 0.1)\n",
    "y = function_1(X)\n",
    "plt.xlabel('x')\n",
    "plt.ylabel('f(x)')\n",
    "plt.title('예시로 주어진 그래프의 개형')\n",
    "plt.plot(X,y)\n",
    "plt.show()"
   ]
  },
  {
   "cell_type": "code",
   "execution_count": 23,
   "metadata": {
    "ExecuteTime": {
     "end_time": "2019-07-20T15:20:24.542925Z",
     "start_time": "2019-07-20T15:20:24.538854Z"
    },
    "slideshow": {
     "slide_type": "fragment"
    }
   },
   "outputs": [
    {
     "data": {
      "text/plain": [
       "0.1999999999990898"
      ]
     },
     "execution_count": 23,
     "metadata": {},
     "output_type": "execute_result"
    }
   ],
   "source": [
    "numerical_diff(function_1, 5)"
   ]
  },
  {
   "cell_type": "code",
   "execution_count": 24,
   "metadata": {
    "ExecuteTime": {
     "end_time": "2019-07-20T15:20:24.548580Z",
     "start_time": "2019-07-20T15:20:24.544954Z"
    },
    "scrolled": true,
    "slideshow": {
     "slide_type": "fragment"
    }
   },
   "outputs": [
    {
     "data": {
      "text/plain": [
       "0.2999999999986347"
      ]
     },
     "execution_count": 24,
     "metadata": {},
     "output_type": "execute_result"
    }
   ],
   "source": [
    "numerical_diff(function_1, 10)"
   ]
  },
  {
   "cell_type": "code",
   "execution_count": 25,
   "metadata": {
    "ExecuteTime": {
     "end_time": "2019-07-20T15:20:24.553386Z",
     "start_time": "2019-07-20T15:20:24.549981Z"
    },
    "slideshow": {
     "slide_type": "fragment"
    }
   },
   "outputs": [],
   "source": [
    "def tangent_line(f, x):\n",
    "    d = numerical_diff(f, x)\n",
    "    y = f(x) - d*x\n",
    "    return lambda t: d*t + y"
   ]
  },
  {
   "cell_type": "code",
   "execution_count": 26,
   "metadata": {
    "ExecuteTime": {
     "end_time": "2019-07-20T15:20:24.557726Z",
     "start_time": "2019-07-20T15:20:24.554853Z"
    },
    "slideshow": {
     "slide_type": "fragment"
    }
   },
   "outputs": [],
   "source": [
    "tf_5 = tangent_line(function_1, 5)\n",
    "tf_10 = tangent_line(function_1, 10)\n",
    "y2 = tf_5(X)\n",
    "y3 = tf_10(X)"
   ]
  },
  {
   "cell_type": "code",
   "execution_count": 27,
   "metadata": {
    "ExecuteTime": {
     "end_time": "2019-07-20T15:20:24.709731Z",
     "start_time": "2019-07-20T15:20:24.559362Z"
    },
    "slideshow": {
     "slide_type": "fragment"
    }
   },
   "outputs": [
    {
     "data": {
      "image/png": "[encoded data removed]",
      "text/plain": [
       "<Figure size 432x288 with 1 Axes>"
      ]
     },
     "metadata": {
      "needs_background": "light"
     },
     "output_type": "display_data"
    }
   ],
   "source": [
    "plt.plot(X, y,label='f(x)')\n",
    "plt.plot(X, y2,alpha=0.3,label='x=5에서의 접선')\n",
    "plt.plot(X, y3,alpha=0.3,label='x=10에서의 접선')\n",
    "plt.legend()\n",
    "plt.show()"
   ]
  },
  {
   "cell_type": "markdown",
   "metadata": {
    "slideshow": {
     "slide_type": "slide"
    }
   },
   "source": [
    "### 편미분\n",
    "> 고려해야할 변수가 2개라는 점 주의하자\n",
    "\n",
    "- 편미분은 변수가 하나인 미분과 마찬가지로 특정 장소의 기울기를 구함\n",
    "- 여러변수 중 목표 변수 하나에 초점을 맞추고 다른 변수는 값을 고정\n",
    "\n",
    "예시로 들 함수는 아래와 같다\n",
    "$$ f(x_0,x_1) = {x_0}^2 + {x_1}^2$$"
   ]
  },
  {
   "cell_type": "markdown",
   "metadata": {
    "slideshow": {
     "slide_type": "subslide"
    }
   },
   "source": [
    "#### $x_0$로 편미분 했을 경우\n",
    "$$ \\frac{\\partial }{\\partial x_0} f(x_0,x_1) = 2x_0 $$"
   ]
  },
  {
   "cell_type": "code",
   "execution_count": 28,
   "metadata": {
    "ExecuteTime": {
     "end_time": "2019-07-20T15:20:24.713714Z",
     "start_time": "2019-07-20T15:20:24.711047Z"
    },
    "slideshow": {
     "slide_type": "fragment"
    }
   },
   "outputs": [],
   "source": [
    "def function_tmp1(x0):\n",
    "    return x0*x0 + 4.0**2.0"
   ]
  },
  {
   "cell_type": "code",
   "execution_count": 29,
   "metadata": {
    "ExecuteTime": {
     "end_time": "2019-07-20T15:20:24.721464Z",
     "start_time": "2019-07-20T15:20:24.716071Z"
    },
    "slideshow": {
     "slide_type": "fragment"
    }
   },
   "outputs": [
    {
     "data": {
      "text/plain": [
       "6.00000000000378"
      ]
     },
     "execution_count": 29,
     "metadata": {},
     "output_type": "execute_result"
    }
   ],
   "source": [
    "numerical_diff(function_tmp1,3.0)"
   ]
  },
  {
   "cell_type": "markdown",
   "metadata": {
    "slideshow": {
     "slide_type": "subslide"
    }
   },
   "source": [
    "#### $x_1$로 편미분 했을 경우\n",
    "$$ \\frac{\\partial }{\\partial x_1} f(x_0,x_1) = 2x_1 $$"
   ]
  },
  {
   "cell_type": "code",
   "execution_count": 30,
   "metadata": {
    "ExecuteTime": {
     "end_time": "2019-07-20T15:20:24.727058Z",
     "start_time": "2019-07-20T15:20:24.724003Z"
    },
    "slideshow": {
     "slide_type": "fragment"
    }
   },
   "outputs": [],
   "source": [
    "def function_tmp2(x1):\n",
    "    return 3.0**2.0 + x1*x1"
   ]
  },
  {
   "cell_type": "code",
   "execution_count": 31,
   "metadata": {
    "ExecuteTime": {
     "end_time": "2019-07-20T15:20:24.733167Z",
     "start_time": "2019-07-20T15:20:24.728911Z"
    },
    "slideshow": {
     "slide_type": "fragment"
    }
   },
   "outputs": [
    {
     "data": {
      "text/plain": [
       "7.999999999999119"
      ]
     },
     "execution_count": 31,
     "metadata": {},
     "output_type": "execute_result"
    }
   ],
   "source": [
    "numerical_diff(function_tmp2,4.0)"
   ]
  },
  {
   "cell_type": "markdown",
   "metadata": {
    "slideshow": {
     "slide_type": "slide"
    }
   },
   "source": [
    "---\n",
    "\n",
    "## 그레디언트 (p127)\n",
    "\n",
    "- $x_0$와 $x_1$의 편미분을 동시에 계산하고 싶다면 어떻게 해야할까?\n",
    "- 기울기(Gradient) : $\\begin{pmatrix}\n",
    "\\frac{\\partial f }{\\partial x_0} & \\frac{\\partial f }{\\partial x_1} \n",
    "\\end{pmatrix}$ 처럼 모든 변수의 편미분을 벡터로 정리한 것\n",
    "- 헷갈리게 기울기라고 하지 않고 필자는 `그레디언트`라고 하겠음"
   ]
  },
  {
   "cell_type": "code",
   "execution_count": 32,
   "metadata": {
    "ExecuteTime": {
     "end_time": "2019-07-20T15:20:24.738355Z",
     "start_time": "2019-07-20T15:20:24.734989Z"
    },
    "slideshow": {
     "slide_type": "fragment"
    }
   },
   "outputs": [],
   "source": [
    "x = np.linspace(-6, 6, 30)\n",
    "y = np.linspace(-6, 6, 30)"
   ]
  },
  {
   "cell_type": "code",
   "execution_count": 33,
   "metadata": {
    "ExecuteTime": {
     "end_time": "2019-07-20T15:20:24.743237Z",
     "start_time": "2019-07-20T15:20:24.740406Z"
    },
    "slideshow": {
     "slide_type": "fragment"
    }
   },
   "outputs": [],
   "source": [
    "def function_2(x, y): # 3D 시각화를 위해서 함수를 살짝 수정\n",
    "    return x ** 2 + y ** 2"
   ]
  },
  {
   "cell_type": "code",
   "execution_count": 34,
   "metadata": {
    "ExecuteTime": {
     "end_time": "2019-07-20T15:20:24.748379Z",
     "start_time": "2019-07-20T15:20:24.745172Z"
    },
    "slideshow": {
     "slide_type": "fragment"
    }
   },
   "outputs": [],
   "source": [
    "X, Y = np.meshgrid(x, y)\n",
    "Z = function_2(X, Y)"
   ]
  },
  {
   "cell_type": "code",
   "execution_count": 35,
   "metadata": {
    "ExecuteTime": {
     "end_time": "2019-07-20T15:20:25.033001Z",
     "start_time": "2019-07-20T15:20:24.750238Z"
    },
    "slideshow": {
     "slide_type": "fragment"
    }
   },
   "outputs": [
    {
     "data": {
      "image/png": "[encoded data removed]",
      "text/plain": [
       "<Figure size 432x288 with 1 Axes>"
      ]
     },
     "metadata": {
      "needs_background": "light"
     },
     "output_type": "display_data"
    }
   ],
   "source": [
    "fig = plt.figure()\n",
    "ax = plt.axes(projection='3d')\n",
    "ax.contour3D(X, Y, Z, 50, cmap='plasma')\n",
    "ax.set_xlabel('x')\n",
    "ax.set_ylabel('y')\n",
    "ax.set_zlabel('z');"
   ]
  },
  {
   "cell_type": "code",
   "execution_count": 36,
   "metadata": {
    "ExecuteTime": {
     "end_time": "2019-07-20T15:20:25.170535Z",
     "start_time": "2019-07-20T15:20:25.035116Z"
    },
    "slideshow": {
     "slide_type": "fragment"
    }
   },
   "outputs": [
    {
     "data": {
      "image/png": "[encoded data removed]",
      "text/plain": [
       "<Figure size 432x288 with 1 Axes>"
      ]
     },
     "execution_count": 36,
     "metadata": {},
     "output_type": "execute_result"
    }
   ],
   "source": [
    "ax.view_init(60, 35)\n",
    "fig"
   ]
  },
  {
   "cell_type": "code",
   "execution_count": 37,
   "metadata": {
    "ExecuteTime": {
     "end_time": "2019-07-20T15:20:25.176991Z",
     "start_time": "2019-07-20T15:20:25.172612Z"
    },
    "slideshow": {
     "slide_type": "skip"
    }
   },
   "outputs": [],
   "source": [
    "def _numerical_gradient_no_batch(f, x):\n",
    "    h = 1e-4 # 0.0001\n",
    "    grad = np.zeros_like(x) # x와 형상이 같은 배열을 생성\n",
    "    \n",
    "    for idx in range(x.size):\n",
    "        tmp_val = x[idx]\n",
    "        \n",
    "        # f(x+h) 계산\n",
    "        x[idx] = float(tmp_val) + h\n",
    "        fxh1 = f(x)\n",
    "        \n",
    "        # f(x-h) 계산\n",
    "        x[idx] = tmp_val - h \n",
    "        fxh2 = f(x) \n",
    "        \n",
    "        grad[idx] = (fxh1 - fxh2) / (2*h)\n",
    "        x[idx] = tmp_val # 값 복원\n",
    "        \n",
    "    return grad"
   ]
  },
  {
   "cell_type": "code",
   "execution_count": 38,
   "metadata": {
    "ExecuteTime": {
     "end_time": "2019-07-20T15:20:25.182126Z",
     "start_time": "2019-07-20T15:20:25.178430Z"
    },
    "slideshow": {
     "slide_type": "skip"
    }
   },
   "outputs": [],
   "source": [
    "def numerical_gradient(f, X):\n",
    "    if X.ndim == 1:\n",
    "        return _numerical_gradient_no_batch(f, X)\n",
    "    else:\n",
    "        grad = np.zeros_like(X)\n",
    "        \n",
    "        for idx, x in enumerate(X):\n",
    "            grad[idx] = _numerical_gradient_no_batch(f, x)\n",
    "        \n",
    "        return grad"
   ]
  },
  {
   "cell_type": "code",
   "execution_count": 39,
   "metadata": {
    "ExecuteTime": {
     "end_time": "2019-07-20T15:20:25.186820Z",
     "start_time": "2019-07-20T15:20:25.183865Z"
    },
    "slideshow": {
     "slide_type": "fragment"
    }
   },
   "outputs": [],
   "source": [
    "def function_2(x): # numpy 배열을 통해 batch 계산을 위해서 함수를 수정\n",
    "    if x.ndim == 1:\n",
    "        return np.sum(x**2)\n",
    "    else:\n",
    "        return np.sum(x**2, axis=1)"
   ]
  },
  {
   "cell_type": "code",
   "execution_count": 40,
   "metadata": {
    "ExecuteTime": {
     "end_time": "2019-07-20T15:20:25.191157Z",
     "start_time": "2019-07-20T15:20:25.188423Z"
    },
    "slideshow": {
     "slide_type": "skip"
    }
   },
   "outputs": [],
   "source": [
    "def tangent_line(f, x):\n",
    "    d = numerical_gradient(f, x)\n",
    "    print(d)\n",
    "    y = f(x) - d*x\n",
    "    return lambda t: d*t + y"
   ]
  },
  {
   "cell_type": "markdown",
   "metadata": {
    "slideshow": {
     "slide_type": "slide"
    }
   },
   "source": [
    "- 그레디언트는 사실 각  지점에서 낮아지는 방향을 가리킴  \n",
    "> 다시 말해서 **그레디언트가 가리키는 쪽은 각 지점에서 `함수의 출력 값을 가장 크게 줄이는` 방향**이라고 할 수 있다.\n",
    "- 아래 그림을 통해서 주어진 예시에 대한 함수의 그레디언트를 시각화해보자"
   ]
  },
  {
   "cell_type": "code",
   "execution_count": 41,
   "metadata": {
    "ExecuteTime": {
     "end_time": "2019-07-20T15:20:25.372993Z",
     "start_time": "2019-07-20T15:20:25.192648Z"
    },
    "slideshow": {
     "slide_type": "fragment"
    }
   },
   "outputs": [
    {
     "data": {
      "image/png": "[encoded data removed]",
      "text/plain": [
       "<Figure size 432x288 with 1 Axes>"
      ]
     },
     "metadata": {
      "needs_background": "light"
     },
     "output_type": "display_data"
    }
   ],
   "source": [
    "x0 = np.arange(-2, 2.5, 0.25)\n",
    "x1 = np.arange(-2, 2.5, 0.25)\n",
    "X, Y = np.meshgrid(x0, x1)\n",
    "\n",
    "X = X.flatten()\n",
    "Y = Y.flatten()\n",
    "\n",
    "grad = numerical_gradient(function_2, np.array([X, Y]) )\n",
    "\n",
    "plt.figure()\n",
    "plt.quiver(X, Y, -grad[0], -grad[1],  angles=\"xy\",color=\"#666666\")#,headwidth=10,scale=40,color=\"#444444\")\n",
    "plt.xlim([-2, 2])\n",
    "plt.ylim([-2, 2])\n",
    "plt.xlabel('x0')\n",
    "plt.ylabel('x1')\n",
    "plt.scatter(0,0,c='red',s=50) # 최솟값을 표시하기 위해서\n",
    "plt.grid()\n",
    "plt.draw()\n",
    "plt.show()"
   ]
  },
  {
   "cell_type": "markdown",
   "metadata": {
    "slideshow": {
     "slide_type": "slide"
    }
   },
   "source": [
    "### 경사하강법 (Gradient Descent)\n",
    "\n",
    "- 기계학습에서 대부분 학습 단계에서 최적의 매개변수를 찾아냄\n",
    "- 최적이란 손실 함수가 최솟값이 될 때의 매개변수의 값\n",
    "- 하지만 매개변수의 공간이 워낙 광대하여 어디가 최솟값이 되는 지점인지 알기 힘듬\n",
    "- 하지만, 이런 상황에서  \n",
    "> 경사하강법 : **그레디언트를 이용해서 함수의 최솟값을 찾아내고자 하는 것**\n",
    "\n",
    "![](https://matplotlib.org/_images/trisurf3d_demo.png)\n",
    "\n",
    "- 주의해야할 점은 각 지점에서 함수의 값을 낮추는 방안이 어디까지나 그레디언트라는 것\n",
    "- 그러므로 기울기가 가리키는 곳에 정말 함수의 최솟값이 있다고 말할 수는 없음\n",
    "\n",
    "> 하지만 **기울어진 방향이 꼭 최솟값을 가리키는 것은 아니나, 그 방향으로 가야 함수의 값을 줄일 수 있다**"
   ]
  },
  {
   "cell_type": "markdown",
   "metadata": {
    "slideshow": {
     "slide_type": "subslide"
    }
   },
   "source": [
    "![](https://www.safaribooksonline.com/library/view/hands-on-machine-learning/9781491962282/assets/mlst_0405.png)\n",
    "\n",
    "- 경사하강법(Gradient Descent)은\n",
    "   > 1. 현 위치에서 기울어진 방향으로 일정 거리만큼 이동\n",
    "   > 2. 그런 다음 이동한 곳에서도 마찬가지로 기울기를 구함\n",
    "   > 3. 또 기울어진 방향으로 나아가기를 반복\n",
    "   \n"
   ]
  },
  {
   "cell_type": "markdown",
   "metadata": {
    "slideshow": {
     "slide_type": "slide"
    }
   },
   "source": [
    "$$ x_0 = x_0 - \\eta \\frac{\\partial f }{\\partial x_0} $$  \n",
    "$$ x_1 = x_1 - \\eta \\frac{\\partial f }{\\partial x_1} $$\n",
    "\n",
    "\n",
    "- 여기서 $\\eta$는 신경망 학습에서는 **학습률(Learning Rate)**이라 함\n",
    "- 한 번의 학습으로 얼마만큼 학습해야 할지, 즉 매개변수 값을 얼마나 업데이트하냐는 것이 학습률"
   ]
  },
  {
   "cell_type": "code",
   "execution_count": 63,
   "metadata": {
    "ExecuteTime": {
     "end_time": "2019-07-20T15:28:54.854554Z",
     "start_time": "2019-07-20T15:28:54.850388Z"
    },
    "slideshow": {
     "slide_type": "fragment"
    }
   },
   "outputs": [],
   "source": [
    "def gradient_descent(f, init_x, lr=0.01, step_num=100):\n",
    "    x = init_x\n",
    "    x_history = []\n",
    "\n",
    "    for i in range(step_num):\n",
    "        x_history.append( x.copy() )\n",
    "\n",
    "        grad = numerical_gradient(f, x)\n",
    "        x -= lr * grad\n",
    "\n",
    "    return x, np.array(x_history)"
   ]
  },
  {
   "cell_type": "code",
   "execution_count": 66,
   "metadata": {
    "ExecuteTime": {
     "end_time": "2019-07-20T15:29:49.785622Z",
     "start_time": "2019-07-20T15:29:49.776571Z"
    },
    "slideshow": {
     "slide_type": "fragment"
    }
   },
   "outputs": [
    {
     "data": {
      "text/plain": [
       "array([-6.11110793e-10,  8.14814391e-10])"
      ]
     },
     "execution_count": 66,
     "metadata": {},
     "output_type": "execute_result"
    }
   ],
   "source": [
    "def function_2(x):\n",
    "    return x[0]**2 + x[1]**2\n",
    "\n",
    "init_x = np.array([-3.0,4.0])\n",
    "min_point, x_history = gradient_descent(function_2,init_x=init_x,lr=0.1,step_num=100)\n",
    "min_point # 거의 (0,0) 에 가까운 것을 볼 수 있음"
   ]
  },
  {
   "cell_type": "code",
   "execution_count": 68,
   "metadata": {
    "ExecuteTime": {
     "end_time": "2019-07-20T15:30:04.255919Z",
     "start_time": "2019-07-20T15:30:04.106285Z"
    },
    "slideshow": {
     "slide_type": "fragment"
    }
   },
   "outputs": [
    {
     "data": {
      "image/png": "[encoded data removed]",
      "text/plain": [
       "<Figure size 432x288 with 1 Axes>"
      ]
     },
     "metadata": {
      "needs_background": "light"
     },
     "output_type": "display_data"
    }
   ],
   "source": [
    "plt.plot(x_history[:,0], x_history[:,1], 'o')\n",
    "\n",
    "plt.xlim(-3.5, 3.5)\n",
    "plt.ylim(-4.5, 4.5)\n",
    "plt.xlabel(\"X0\")\n",
    "plt.ylabel(\"X1\")\n",
    "plt.show()"
   ]
  },
  {
   "cell_type": "markdown",
   "metadata": {
    "slideshow": {
     "slide_type": "slide"
    }
   },
   "source": [
    "- 학습률의 값이 0.01이나 0.001 등 미리 특정 값으로 정해두어야 하는데\n",
    "- 이러한 값을 너무 크거나 너무 작으면 최소점으로 찾아갈 수 없음\n",
    "\n",
    "![](https://www.topcoder.com/wp-content/uploads/2019/06/image-25.png)"
   ]
  },
  {
   "cell_type": "markdown",
   "metadata": {
    "slideshow": {
     "slide_type": "subslide"
    }
   },
   "source": [
    "#### 학습률이 너무 클 경우"
   ]
  },
  {
   "cell_type": "code",
   "execution_count": 69,
   "metadata": {
    "ExecuteTime": {
     "end_time": "2019-07-20T15:32:34.628087Z",
     "start_time": "2019-07-20T15:32:34.620445Z"
    },
    "scrolled": true,
    "slideshow": {
     "slide_type": "fragment"
    }
   },
   "outputs": [
    {
     "data": {
      "text/plain": [
       "array([ 2.34235971e+12, -3.96091057e+12])"
      ]
     },
     "execution_count": 69,
     "metadata": {},
     "output_type": "execute_result"
    }
   ],
   "source": [
    "min_point, x_history = gradient_descent(function_2,init_x=init_x,lr=10,step_num=100)\n",
    "min_point"
   ]
  },
  {
   "cell_type": "markdown",
   "metadata": {
    "slideshow": {
     "slide_type": "subslide"
    }
   },
   "source": [
    "#### 학습률이 너무 작을 경우"
   ]
  },
  {
   "cell_type": "code",
   "execution_count": 70,
   "metadata": {
    "ExecuteTime": {
     "end_time": "2019-07-20T15:32:36.017481Z",
     "start_time": "2019-07-20T15:32:36.008963Z"
    },
    "slideshow": {
     "slide_type": "fragment"
    }
   },
   "outputs": [
    {
     "data": {
      "text/plain": [
       "array([ 2.34235971e+12, -3.96091057e+12])"
      ]
     },
     "execution_count": 70,
     "metadata": {},
     "output_type": "execute_result"
    }
   ],
   "source": [
    "min_point, x_history = gradient_descent(function_2,init_x=init_x,lr=1e-10,step_num=100)\n",
    "min_point"
   ]
  },
  {
   "cell_type": "markdown",
   "metadata": {
    "slideshow": {
     "slide_type": "slide"
    }
   },
   "source": [
    "### 신경망에서의 기울기\n",
    "- 신경망 학습에서도 기울기를 구해야 함\n",
    "- 기울기는 가중치 매개변수에 대한 손실 함수의 기울기\n",
    "$$ W = \\begin{pmatrix}\n",
    "w_{11} & w_{12} & w_{13}\\\\ \n",
    "w_{21} & w_{22} & w_{23} \n",
    "\\end{pmatrix} $$\n",
    "\n",
    "$$ \\frac{\\partial L}{\\partial W} =  \\begin{pmatrix}\n",
    "\\frac{\\partial L}{\\partial w_{11}} & \\frac{\\partial L}{\\partial w_{12}} & \\frac{\\partial L}{\\partial w_{13}}\\\\ \n",
    "\\frac{\\partial L}{\\partial w_{21}} & \\frac{\\partial L}{\\partial w_{22}} & \\frac{\\partial L}{\\partial w_{23}} \n",
    "\\end{pmatrix}\n",
    " $$ \n",
    " \n",
    " - $ \\frac{\\partial L}{\\partial W} $의 각 원소는 각각의 원소에 관한 편미분\n",
    " - 1행 1번째의 원소인 $ \\frac{\\partial L}{\\partial w_{11}} $은 $w_{11}$을 조금 변경했을 때 손실 함수 L이 얼마나 변화하느냐를 나타냄"
   ]
  },
  {
   "cell_type": "code",
   "execution_count": 73,
   "metadata": {
    "ExecuteTime": {
     "end_time": "2019-07-21T02:08:43.854651Z",
     "start_time": "2019-07-21T02:08:43.800213Z"
    },
    "slideshow": {
     "slide_type": "fragment"
    }
   },
   "outputs": [],
   "source": [
    "from common.functions import softmax, cross_entropy_error\n",
    "from common.gradient import numerical_gradient"
   ]
  },
  {
   "cell_type": "code",
   "execution_count": 83,
   "metadata": {
    "ExecuteTime": {
     "end_time": "2019-07-21T02:18:19.435609Z",
     "start_time": "2019-07-21T02:18:19.430488Z"
    },
    "slideshow": {
     "slide_type": "fragment"
    }
   },
   "outputs": [],
   "source": [
    "class simpleNet:\n",
    "    def __init__(self):\n",
    "        self.W = np.random.randn(2,3) # 정규분포로 초기화\n",
    "\n",
    "    # 예측을 수행하는 predict 함수\n",
    "    def predict(self, x):\n",
    "        return np.dot(x, self.W)\n",
    "\n",
    "    # 손실 함수의 값을 구하는 loss 함수\n",
    "    def loss(self, x, t):\n",
    "        z = self.predict(x)\n",
    "        y = softmax(z)\n",
    "        loss = cross_entropy_error(y, t)\n",
    "\n",
    "        return loss"
   ]
  },
  {
   "cell_type": "code",
   "execution_count": 84,
   "metadata": {
    "ExecuteTime": {
     "end_time": "2019-07-21T02:18:19.844393Z",
     "start_time": "2019-07-21T02:18:19.841296Z"
    },
    "slideshow": {
     "slide_type": "fragment"
    }
   },
   "outputs": [],
   "source": [
    "x = np.array([0.6, 0.9])\n",
    "t = np.array([0, 0, 1])"
   ]
  },
  {
   "cell_type": "code",
   "execution_count": 85,
   "metadata": {
    "ExecuteTime": {
     "end_time": "2019-07-21T02:18:20.213096Z",
     "start_time": "2019-07-21T02:18:20.208285Z"
    },
    "slideshow": {
     "slide_type": "fragment"
    }
   },
   "outputs": [
    {
     "data": {
      "text/plain": [
       "array([[-0.99328684, -0.05265147, -0.7912989 ],\n",
       "       [-0.90099086,  0.21526899,  1.19156198]])"
      ]
     },
     "execution_count": 85,
     "metadata": {},
     "output_type": "execute_result"
    }
   ],
   "source": [
    "net = simpleNet()\n",
    "net.W"
   ]
  },
  {
   "cell_type": "code",
   "execution_count": 86,
   "metadata": {
    "ExecuteTime": {
     "end_time": "2019-07-21T02:18:21.306630Z",
     "start_time": "2019-07-21T02:18:21.301585Z"
    },
    "slideshow": {
     "slide_type": "fragment"
    }
   },
   "outputs": [
    {
     "data": {
      "text/plain": [
       "array([-1.40686388,  0.16215121,  0.59762644])"
      ]
     },
     "execution_count": 86,
     "metadata": {},
     "output_type": "execute_result"
    }
   ],
   "source": [
    "x = np.array([0.6,0.9])\n",
    "p = net.predict(x)\n",
    "p"
   ]
  },
  {
   "cell_type": "code",
   "execution_count": 87,
   "metadata": {
    "ExecuteTime": {
     "end_time": "2019-07-21T02:18:24.219046Z",
     "start_time": "2019-07-21T02:18:24.214352Z"
    },
    "slideshow": {
     "slide_type": "fragment"
    }
   },
   "outputs": [
    {
     "data": {
      "text/plain": [
       "2"
      ]
     },
     "execution_count": 87,
     "metadata": {},
     "output_type": "execute_result"
    }
   ],
   "source": [
    "np.argmax(p)"
   ]
  },
  {
   "cell_type": "code",
   "execution_count": 88,
   "metadata": {
    "ExecuteTime": {
     "end_time": "2019-07-21T02:18:38.142793Z",
     "start_time": "2019-07-21T02:18:38.135299Z"
    },
    "slideshow": {
     "slide_type": "fragment"
    }
   },
   "outputs": [
    {
     "data": {
      "text/plain": [
       "array([[ 0.04537127,  0.21786903, -0.26324029],\n",
       "       [ 0.0680569 ,  0.32680354, -0.39486044]])"
      ]
     },
     "execution_count": 88,
     "metadata": {},
     "output_type": "execute_result"
    }
   ],
   "source": [
    "f = lambda w: net.loss(x, t)\n",
    "dW = numerical_gradient(f, net.W)\n",
    "\n",
    "dW"
   ]
  },
  {
   "cell_type": "markdown",
   "metadata": {
    "slideshow": {
     "slide_type": "slide"
    }
   },
   "source": [
    "---\n",
    "\n",
    "## 학습 알고리즘 구현하기 (p136)\n",
    "\n",
    "- 전제\n",
    "    - 신경망에서는 적응 가능한 가중치와 편향이 있음\n",
    "    - 이 가중치와 편향을 훈련 데이터에 적응하도록 조정하는 과정을 '학습'이라고 함\n",
    "    - 신경망 학습은 다음과 같이 4단계로 수행한다.\n",
    " \n",
    " \n",
    "1. **미니배치**\n",
    "    - 훈련 데이터 중 `일부`를 `무작위로` 가져온다.\n",
    "    - 이렇게 선별한 데이터를 `미니배치`라고 하며,\n",
    "    - 그 미니배치의 손실 함수 값을 줄이는 것이 목표\n",
    "    - 데이터를 미니배치로 선정하기 때문에 `확률적 경사 하강법 (Stochastic Gradient Descent, SGD)`라고 부름\n",
    "\n",
    "\n",
    "2. **그레디언트 산출**\n",
    "    - 미니배치의 손실 함수값을 줄이기 위해 각 가중치 매개변수의 기울기를 구함.\n",
    "    - 그레디언트는 손실 함수의 값을 가장 작게 하는 방향을 제시\n",
    "\n",
    "\n",
    "3. **매개변수 업데이트**\n",
    "    - 가중치 매개변수를 기울기 방향으로 아주 조금씩 업데이트\n",
    "\n",
    "\n",
    "4. 반복\n",
    "    - 1~3단계를 반복"
   ]
  },
  {
   "cell_type": "markdown",
   "metadata": {
    "slideshow": {
     "slide_type": "slide"
    }
   },
   "source": [
    "### 2층 신경망 클래스 구현하기"
   ]
  },
  {
   "cell_type": "code",
   "execution_count": 120,
   "metadata": {
    "ExecuteTime": {
     "end_time": "2019-07-21T02:46:30.157783Z",
     "start_time": "2019-07-21T02:46:30.141644Z"
    },
    "slideshow": {
     "slide_type": "fragment"
    }
   },
   "outputs": [],
   "source": [
    "from common.functions import *\n",
    "from common.gradient import numerical_gradient\n",
    "\n",
    "\n",
    "class TwoLayerNet:\n",
    "\n",
    "    # 가중치 초기화\n",
    "    # 가중치 매개변수의 초깃값을 어떻게 설정하냐에 따라서 신경망 학습의 성공이 좌우되기도 함\n",
    "    # 여기서는 일단 정규분포를 따르는 난수로 설정함\n",
    "    def __init__(self, input_size, hidden_size, output_size, weight_init_std=0.01):\n",
    "        self.params = {}\n",
    "        self.params['W1'] = weight_init_std * np.random.randn(input_size, hidden_size)\n",
    "        self.params['b1'] = np.zeros(hidden_size)\n",
    "        self.params['W2'] = weight_init_std * np.random.randn(hidden_size, output_size)\n",
    "        self.params['b2'] = np.zeros(output_size)\n",
    "\n",
    "    # 추론을 하는 predict 함수\n",
    "    def predict(self, x):\n",
    "        W1, W2 = self.params['W1'], self.params['W2']\n",
    "        b1, b2 = self.params['b1'], self.params['b2']\n",
    "    \n",
    "        a1 = np.dot(x, W1) + b1\n",
    "        z1 = sigmoid(a1)\n",
    "        a2 = np.dot(z1, W2) + b2\n",
    "        y = softmax(a2)\n",
    "        \n",
    "        return y\n",
    "        \n",
    "    # x : 입력 데이터, t : 정답 레이블\n",
    "    def loss(self, x, t):\n",
    "        y = self.predict(x)\n",
    "        \n",
    "        return cross_entropy_error(y, t)\n",
    "    \n",
    "    def accuracy(self, x, t):\n",
    "        y = self.predict(x)\n",
    "        y = np.argmax(y, axis=1)\n",
    "        t = np.argmax(t, axis=1)\n",
    "        \n",
    "        accuracy = np.sum(y == t) / float(x.shape[0])\n",
    "        return accuracy\n",
    "        \n",
    "    # x : 입력 데이터, t : 정답 레이블\n",
    "    # 각 매개변수의 기울기를 계산\n",
    "    # 수치 미분 방식으로 각 매개변수의 손실 함수에 대한 기울기를 계산\n",
    "    def numerical_gradient(self, x, t):\n",
    "        loss_W = lambda W: self.loss(x, t)\n",
    "        \n",
    "        grads = {}\n",
    "        grads['W1'] = numerical_gradient(loss_W, self.params['W1'])\n",
    "        grads['b1'] = numerical_gradient(loss_W, self.params['b1'])\n",
    "        grads['W2'] = numerical_gradient(loss_W, self.params['W2'])\n",
    "        grads['b2'] = numerical_gradient(loss_W, self.params['b2'])\n",
    "        \n",
    "        return grads\n",
    "    \n",
    "    # 다음 5장에서 구현할 메소드, backpropa를 통해서 더욱 효율적으로 기울기를 계산함\n",
    "    def gradient(self, x, t):\n",
    "        W1, W2 = self.params['W1'], self.params['W2']\n",
    "        b1, b2 = self.params['b1'], self.params['b2']\n",
    "        grads = {}\n",
    "        \n",
    "        batch_num = x.shape[0]\n",
    "        \n",
    "        # forward\n",
    "        a1 = np.dot(x, W1) + b1\n",
    "        z1 = sigmoid(a1)\n",
    "        a2 = np.dot(z1, W2) + b2\n",
    "        y = softmax(a2)\n",
    "        \n",
    "        # backward\n",
    "        dy = (y - t) / batch_num\n",
    "        grads['W2'] = np.dot(z1.T, dy)\n",
    "        grads['b2'] = np.sum(dy, axis=0)\n",
    "        \n",
    "        da1 = np.dot(dy, W2.T)\n",
    "        dz1 = sigmoid_grad(a1) * da1\n",
    "        grads['W1'] = np.dot(x.T, dz1)\n",
    "        grads['b1'] = np.sum(dz1, axis=0)\n",
    "\n",
    "        return grads"
   ]
  },
  {
   "cell_type": "markdown",
   "metadata": {
    "slideshow": {
     "slide_type": "slide"
    }
   },
   "source": [
    "### 미니배치 학습 구현하기"
   ]
  },
  {
   "cell_type": "code",
   "execution_count": 121,
   "metadata": {
    "ExecuteTime": {
     "end_time": "2019-07-21T02:46:30.790708Z",
     "start_time": "2019-07-21T02:46:30.539751Z"
    },
    "slideshow": {
     "slide_type": "fragment"
    }
   },
   "outputs": [],
   "source": [
    "# 데이터 읽기\n",
    "(x_train, t_train), (x_test, t_test) = load_mnist(normalize=True, one_hot_label=True)"
   ]
  },
  {
   "cell_type": "code",
   "execution_count": 122,
   "metadata": {
    "ExecuteTime": {
     "end_time": "2019-07-21T02:46:30.798062Z",
     "start_time": "2019-07-21T02:46:30.793247Z"
    },
    "slideshow": {
     "slide_type": "fragment"
    }
   },
   "outputs": [],
   "source": [
    "network = TwoLayerNet(input_size=784, hidden_size=50, output_size=10)"
   ]
  },
  {
   "cell_type": "code",
   "execution_count": 123,
   "metadata": {
    "ExecuteTime": {
     "end_time": "2019-07-21T02:46:30.831501Z",
     "start_time": "2019-07-21T02:46:30.828592Z"
    },
    "slideshow": {
     "slide_type": "fragment"
    }
   },
   "outputs": [],
   "source": [
    "# 하이퍼파라미터\n",
    "iters_num = 10000  # 반복 횟수를 적절히 설정한다.\n",
    "train_size = x_train.shape[0]\n",
    "batch_size = 100   # 미니배치 크기\n",
    "learning_rate = 0.1"
   ]
  },
  {
   "cell_type": "code",
   "execution_count": 124,
   "metadata": {
    "ExecuteTime": {
     "end_time": "2019-07-21T02:46:30.964644Z",
     "start_time": "2019-07-21T02:46:30.961591Z"
    },
    "slideshow": {
     "slide_type": "fragment"
    }
   },
   "outputs": [],
   "source": [
    "# loss와 accuracy를 저장해둘 리스트\n",
    "train_loss_list = []\n",
    "train_acc_list = []\n",
    "test_acc_list = []"
   ]
  },
  {
   "cell_type": "code",
   "execution_count": 125,
   "metadata": {
    "ExecuteTime": {
     "end_time": "2019-07-21T02:46:45.416196Z",
     "start_time": "2019-07-21T02:46:31.108754Z"
    },
    "slideshow": {
     "slide_type": "fragment"
    }
   },
   "outputs": [
    {
     "name": "stdout",
     "output_type": "stream",
     "text": [
      "1epoch => train acc, test acc | 0.112367, 0.113500\n",
      "2epoch => train acc, test acc | 0.791250, 0.795200\n",
      "3epoch => train acc, test acc | 0.874233, 0.878000\n",
      "4epoch => train acc, test acc | 0.898433, 0.900600\n",
      "5epoch => train acc, test acc | 0.906367, 0.909000\n",
      "6epoch => train acc, test acc | 0.912533, 0.913900\n",
      "7epoch => train acc, test acc | 0.917750, 0.919400\n",
      "8epoch => train acc, test acc | 0.922350, 0.923600\n",
      "9epoch => train acc, test acc | 0.926150, 0.928100\n",
      "10epoch => train acc, test acc | 0.929467, 0.929700\n",
      "11epoch => train acc, test acc | 0.931717, 0.933900\n",
      "12epoch => train acc, test acc | 0.935550, 0.935700\n",
      "13epoch => train acc, test acc | 0.937700, 0.937500\n",
      "14epoch => train acc, test acc | 0.940117, 0.938700\n",
      "15epoch => train acc, test acc | 0.942883, 0.941900\n",
      "16epoch => train acc, test acc | 0.944833, 0.943000\n",
      "17epoch => train acc, test acc | 0.946300, 0.944800\n"
     ]
    }
   ],
   "source": [
    "# 1에폭당 반복 수\n",
    "iter_per_epoch = max(train_size / batch_size, 1)\n",
    "\n",
    "for i in range(iters_num):\n",
    "    \n",
    "    ####################\n",
    "    # 1단계 : 미니배치 획득\n",
    "    ####################\n",
    "    \n",
    "    # random.choice를 통해서 미니배치를 진행함\n",
    "    batch_mask = np.random.choice(train_size, batch_size)\n",
    "    x_batch = x_train[batch_mask]\n",
    "    t_batch = t_train[batch_mask]\n",
    "\n",
    "    ####################\n",
    "    # 2단계 : 기울기 계산\n",
    "    ####################\n",
    "    # grad = network.numerical_gradient(x_batch, t_batch) # 왜 저자가 이걸 안 쓰는지는 주석 풀고 돌려보자\n",
    "    grad = network.gradient(x_batch, t_batch) # 다음장에서 배울 함수, 오차역전파법을 사용하여 기울기를 더욱 효과적으로 계산함\n",
    "\n",
    "    ####################\n",
    "    # 3단계 : 매개변수 갱신\n",
    "    ####################\n",
    "    for key in ('W1', 'b1', 'W2', 'b2'):\n",
    "        network.params[key] -= learning_rate * grad[key]\n",
    "\n",
    "    # 학습 경과 기록\n",
    "    loss = network.loss(x_batch, t_batch)\n",
    "    train_loss_list.append(loss)\n",
    "\n",
    "    # 1에폭당 정확도 계산\n",
    "    if i % iter_per_epoch == 0:\n",
    "        train_acc = network.accuracy(x_train, t_train)\n",
    "        test_acc = network.accuracy(x_test, t_test)\n",
    "        train_acc_list.append(train_acc)\n",
    "        test_acc_list.append(test_acc)\n",
    "        print(\"{}epoch => train acc, test acc | {:.6f}, {:.6f}\".format(int(i // iter_per_epoch)+1,train_acc,test_acc))"
   ]
  },
  {
   "cell_type": "markdown",
   "metadata": {
    "slideshow": {
     "slide_type": "slide"
    }
   },
   "source": [
    "### 시험 데이터로 평가하기"
   ]
  },
  {
   "cell_type": "code",
   "execution_count": 117,
   "metadata": {
    "ExecuteTime": {
     "end_time": "2019-07-21T02:44:40.604159Z",
     "start_time": "2019-07-21T02:44:40.441421Z"
    },
    "slideshow": {
     "slide_type": "fragment"
    }
   },
   "outputs": [
    {
     "data": {
      "image/png": "[encoded data removed]",
      "text/plain": [
       "<Figure size 432x288 with 1 Axes>"
      ]
     },
     "metadata": {
      "needs_background": "light"
     },
     "output_type": "display_data"
    }
   ],
   "source": [
    "# 그래프 그리기\n",
    "x = np.arange(len(train_acc_list))\n",
    "plt.plot(x, train_acc_list, label='train acc')\n",
    "plt.plot(x, test_acc_list, label='test acc', linestyle='--')\n",
    "plt.xlabel(\"epochs\")\n",
    "plt.ylabel(\"accuracy\")\n",
    "plt.ylim(0, 1.0)\n",
    "plt.legend(loc='lower right')\n",
    "plt.show()"
   ]
  },
  {
   "cell_type": "markdown",
   "metadata": {
    "slideshow": {
     "slide_type": "slide"
    }
   },
   "source": [
    "---\n",
    "\n",
    "## 4장 정리 (p146)\n",
    "\n",
    "> 참고 : [WegraLee GitHub](https://github.com/WegraLee/deep-learning-from-scratch/blob/master/ch03/README.md)\n",
    "\n",
    "* 기계학습에서 사용하는 데이터셋은 훈련 데이터와 시험 데이터로 나눠 사용한다.\n",
    "* 훈련 데이터로 학습한 모델의 범용 능력을 시험 데이터로 평가한다.\n",
    "* 신경망 학습은 손실 함수를 지표로, 손실 함수의 값이 작아지는 방향으로 가중치 매개변수를 갱신한다.\n",
    "* 가중치 매개변수를 갱신할 때는 가중치 매개변수의 기울기를 이용하고, 기울어진 방향으로 가중치의 값을 갱신하는 작업을 반복한다.\n",
    "* 아주 작은 값을 주었을 때의 차분으로 미분하는 것을 수치 미분이라고 한다.\n",
    "* 수치 미분을 이용해 가중치 매개변수의 기울기를 구할 수 있다.\n",
    "* 수치 미분을 이용한 계산에는 시간이 걸리지만, 그 구현은 간단하다. 한편, 다음 장에서 구현하는 (다소 복잡한) 오차역전파법은 기울기를 고속으로 구할 수 있다."
   ]
  },
  {
   "cell_type": "markdown",
   "metadata": {
    "slideshow": {
     "slide_type": "slide"
    }
   },
   "source": [
    "---\n",
    "\n",
    "## 참고\n",
    "- 밑바닥부터 시작하는 딥러닝 GitHub : https://github.com/WegraLee/deep-learning-from-scratch  \n",
    "- Mathjax 웹 수식 : https://www.codecogs.com/latex/eqneditor.php\n",
    "- MNIST Example Image : https://t1.daumcdn.net/cfile/tistory/22606B435974B30434\n",
    "- 밑시딥 110페이지 삽화 : https://img1.daumcdn.net/thumb/R800x0/?scode=mtistory2&fname=https%3A%2F%2Ft1.daumcdn.net%2Fcfile%2Ftistory%2F9967024B5B98E14F01\n",
    "- matplotlib을 이용한 3D plot : https://jakevdp.github.io/PythonDataScienceHandbook/04.12-three-dimensional-plotting.html\n",
    "- 경사하강법 관련 이미지 : https://www.safaribooksonline.com/library/view/hands-on-machine-learning/9781491962282/assets/mlst_0405.png"
   ]
  }
 ],
 "metadata": {
  "kernelspec": {
   "display_name": "Python 3",
   "language": "python",
   "name": "python3"
  },
  "language_info": {
   "codemirror_mode": {
    "name": "ipython",
    "version": 3
   },
   "file_extension": ".py",
   "mimetype": "text/x-python",
   "name": "python",
   "nbconvert_exporter": "python",
   "pygments_lexer": "ipython3",
   "version": "3.6.8"
  },
  "toc": {
   "base_numbering": 1,
   "nav_menu": {},
   "number_sections": true,
   "sideBar": true,
   "skip_h1_title": true,
   "title_cell": "4장 신경망 학습",
   "title_sidebar": "Contents",
   "toc_cell": true,
   "toc_position": {
    "height": "calc(100% - 180px)",
    "left": "10px",
    "top": "150px",
    "width": "336px"
   },
   "toc_section_display": true,
   "toc_window_display": true
  }
 },
 "nbformat": 4,
 "nbformat_minor": 2
}
